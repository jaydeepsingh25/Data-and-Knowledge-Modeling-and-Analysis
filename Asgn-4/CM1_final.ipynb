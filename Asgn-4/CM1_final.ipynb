{
 "cells": [
  {
   "cell_type": "markdown",
   "metadata": {},
   "source": [
    "<p>CM1: We have implemented a fully connected DNN (best performing) to implement the classification problem. This part also contains an extra implementation of this problem using RNN to check out the number of cases of each class on a particular date. A forecast model has been created to visualize the cases for the future values.</p>\n",
    "\n",
    "<p>CM2: All the necessary code blocks used to attend the best resulting fully connected DNN for this classification problem.</p>\n",
    "\n",
    "<p>CM3: A detalied comparision of run time performance of all the different architectures and hyperparameter tuned models.</p>"
   ]
  },
  {
   "cell_type": "markdown",
   "metadata": {},
   "source": [
    "<h2><center>ASSIGNMENT 4</center></h2>\n",
    "<h2><center>DEEP ASHISH JARIWALA, JAYDEEP SINGH</center></h2>\n",
    "<h2><center>GROUP - 41</center></h2>\n",
    "<h2><center>Q: CM1</center></h2>"
   ]
  },
  {
   "cell_type": "markdown",
   "metadata": {},
   "source": [
    "### IMPORTING LIBRARIES"
   ]
  },
  {
   "cell_type": "code",
   "execution_count": 87,
   "metadata": {},
   "outputs": [],
   "source": [
    "import numpy as np\n",
    "import pandas as pd\n",
    "import matplotlib.pyplot as plt\n",
    "import seaborn as sns\n",
    "sns.set()\n",
    "\n",
    "import tensorflow as tf\n",
    "from sklearn.model_selection import train_test_split\n",
    "from sklearn.metrics import accuracy_score, confusion_matrix\n",
    "from sklearn.preprocessing import StandardScaler\n",
    "from sklearn.preprocessing import LabelEncoder\n",
    "from sklearn.model_selection import KFold\n",
    "from sklearn.preprocessing import OneHotEncoder\n",
    "from tensorflow.keras.layers import Dropout\n",
    "from tensorflow.keras.regularizers import l2\n",
    "from tensorflow.keras.layers import BatchNormalization\n",
    "from sklearn.metrics import plot_confusion_matrix\n",
    "\n",
    "\n",
    "from numpy.random import seed\n",
    "seed(200)\n",
    "tf.random.set_seed(135)"
   ]
  },
  {
   "cell_type": "markdown",
   "metadata": {},
   "source": [
    "### IMPORTING DATASET"
   ]
  },
  {
   "cell_type": "code",
   "execution_count": 88,
   "metadata": {},
   "outputs": [
    {
     "data": {
      "text/html": [
       "<div>\n",
       "<style scoped>\n",
       "    .dataframe tbody tr th:only-of-type {\n",
       "        vertical-align: middle;\n",
       "    }\n",
       "\n",
       "    .dataframe tbody tr th {\n",
       "        vertical-align: top;\n",
       "    }\n",
       "\n",
       "    .dataframe thead th {\n",
       "        text-align: right;\n",
       "    }\n",
       "</style>\n",
       "<table border=\"1\" class=\"dataframe\">\n",
       "  <thead>\n",
       "    <tr style=\"text-align: right;\">\n",
       "      <th></th>\n",
       "      <th>Accurate_Episode_Date</th>\n",
       "      <th>Case_Reported_Date</th>\n",
       "      <th>Test_Reported_Date</th>\n",
       "      <th>Specimen_Date</th>\n",
       "      <th>Age_Group</th>\n",
       "      <th>Client_Gender</th>\n",
       "      <th>Case_AcquisitionInfo</th>\n",
       "      <th>Reporting_PHU_City</th>\n",
       "      <th>Outbreak_Related</th>\n",
       "      <th>Reporting_PHU_Latitude</th>\n",
       "      <th>Reporting_PHU_Longitude</th>\n",
       "      <th>Outcome1</th>\n",
       "    </tr>\n",
       "  </thead>\n",
       "  <tbody>\n",
       "    <tr>\n",
       "      <th>0</th>\n",
       "      <td>2020-03-30</td>\n",
       "      <td>2020-03-31</td>\n",
       "      <td>2020-03-31</td>\n",
       "      <td>2020-03-30</td>\n",
       "      <td>70s</td>\n",
       "      <td>MALE</td>\n",
       "      <td>OB</td>\n",
       "      <td>Stratford</td>\n",
       "      <td>Yes</td>\n",
       "      <td>43.368662</td>\n",
       "      <td>-81.001913</td>\n",
       "      <td>Fatal</td>\n",
       "    </tr>\n",
       "    <tr>\n",
       "      <th>1</th>\n",
       "      <td>2021-01-22</td>\n",
       "      <td>2021-01-24</td>\n",
       "      <td>2021-01-24</td>\n",
       "      <td>2021-01-23</td>\n",
       "      <td>50s</td>\n",
       "      <td>FEMALE</td>\n",
       "      <td>NO KNOWN EPI LINK</td>\n",
       "      <td>Newmarket</td>\n",
       "      <td>NaN</td>\n",
       "      <td>44.048023</td>\n",
       "      <td>-79.480239</td>\n",
       "      <td>Not Resolved</td>\n",
       "    </tr>\n",
       "    <tr>\n",
       "      <th>2</th>\n",
       "      <td>2020-03-24</td>\n",
       "      <td>2020-04-14</td>\n",
       "      <td>2020-04-14</td>\n",
       "      <td>2020-04-13</td>\n",
       "      <td>70s</td>\n",
       "      <td>FEMALE</td>\n",
       "      <td>OB</td>\n",
       "      <td>Toronto</td>\n",
       "      <td>Yes</td>\n",
       "      <td>43.656591</td>\n",
       "      <td>-79.379358</td>\n",
       "      <td>Resolved</td>\n",
       "    </tr>\n",
       "    <tr>\n",
       "      <th>3</th>\n",
       "      <td>2021-01-18</td>\n",
       "      <td>2021-01-21</td>\n",
       "      <td>2021-01-21</td>\n",
       "      <td>2021-01-18</td>\n",
       "      <td>&lt;20</td>\n",
       "      <td>MALE</td>\n",
       "      <td>CC</td>\n",
       "      <td>Mississauga</td>\n",
       "      <td>NaN</td>\n",
       "      <td>43.647471</td>\n",
       "      <td>-79.708893</td>\n",
       "      <td>Not Resolved</td>\n",
       "    </tr>\n",
       "    <tr>\n",
       "      <th>4</th>\n",
       "      <td>2020-12-26</td>\n",
       "      <td>2020-12-28</td>\n",
       "      <td>2020-12-28</td>\n",
       "      <td>2020-12-26</td>\n",
       "      <td>60s</td>\n",
       "      <td>MALE</td>\n",
       "      <td>OB</td>\n",
       "      <td>Windsor</td>\n",
       "      <td>Yes</td>\n",
       "      <td>42.308796</td>\n",
       "      <td>-83.033670</td>\n",
       "      <td>Resolved</td>\n",
       "    </tr>\n",
       "    <tr>\n",
       "      <th>...</th>\n",
       "      <td>...</td>\n",
       "      <td>...</td>\n",
       "      <td>...</td>\n",
       "      <td>...</td>\n",
       "      <td>...</td>\n",
       "      <td>...</td>\n",
       "      <td>...</td>\n",
       "      <td>...</td>\n",
       "      <td>...</td>\n",
       "      <td>...</td>\n",
       "      <td>...</td>\n",
       "      <td>...</td>\n",
       "    </tr>\n",
       "    <tr>\n",
       "      <th>14855</th>\n",
       "      <td>2020-04-02</td>\n",
       "      <td>2020-04-03</td>\n",
       "      <td>2020-04-04</td>\n",
       "      <td>2020-04-02</td>\n",
       "      <td>90s</td>\n",
       "      <td>FEMALE</td>\n",
       "      <td>NO KNOWN EPI LINK</td>\n",
       "      <td>Whitby</td>\n",
       "      <td>NaN</td>\n",
       "      <td>43.898605</td>\n",
       "      <td>-78.940341</td>\n",
       "      <td>Fatal</td>\n",
       "    </tr>\n",
       "    <tr>\n",
       "      <th>14856</th>\n",
       "      <td>2021-01-25</td>\n",
       "      <td>2021-01-26</td>\n",
       "      <td>2021-01-26</td>\n",
       "      <td>2021-01-25</td>\n",
       "      <td>&lt;20</td>\n",
       "      <td>MALE</td>\n",
       "      <td>CC</td>\n",
       "      <td>Thorold</td>\n",
       "      <td>NaN</td>\n",
       "      <td>43.116537</td>\n",
       "      <td>-79.241220</td>\n",
       "      <td>Not Resolved</td>\n",
       "    </tr>\n",
       "    <tr>\n",
       "      <th>14857</th>\n",
       "      <td>2020-12-07</td>\n",
       "      <td>2020-12-08</td>\n",
       "      <td>2020-12-08</td>\n",
       "      <td>2020-12-07</td>\n",
       "      <td>40s</td>\n",
       "      <td>FEMALE</td>\n",
       "      <td>CC</td>\n",
       "      <td>Mississauga</td>\n",
       "      <td>NaN</td>\n",
       "      <td>43.647471</td>\n",
       "      <td>-79.708893</td>\n",
       "      <td>Resolved</td>\n",
       "    </tr>\n",
       "    <tr>\n",
       "      <th>14858</th>\n",
       "      <td>2020-11-22</td>\n",
       "      <td>2020-11-24</td>\n",
       "      <td>2020-11-24</td>\n",
       "      <td>2020-11-22</td>\n",
       "      <td>20s</td>\n",
       "      <td>UNSPECIFIED</td>\n",
       "      <td>CC</td>\n",
       "      <td>Newmarket</td>\n",
       "      <td>NaN</td>\n",
       "      <td>44.048023</td>\n",
       "      <td>-79.480239</td>\n",
       "      <td>Resolved</td>\n",
       "    </tr>\n",
       "    <tr>\n",
       "      <th>14859</th>\n",
       "      <td>2021-01-20</td>\n",
       "      <td>2021-01-27</td>\n",
       "      <td>2021-01-27</td>\n",
       "      <td>2021-01-26</td>\n",
       "      <td>&lt;20</td>\n",
       "      <td>MALE</td>\n",
       "      <td>CC</td>\n",
       "      <td>Mississauga</td>\n",
       "      <td>NaN</td>\n",
       "      <td>43.647471</td>\n",
       "      <td>-79.708893</td>\n",
       "      <td>Not Resolved</td>\n",
       "    </tr>\n",
       "  </tbody>\n",
       "</table>\n",
       "<p>14860 rows × 12 columns</p>\n",
       "</div>"
      ],
      "text/plain": [
       "      Accurate_Episode_Date Case_Reported_Date Test_Reported_Date  \\\n",
       "0                2020-03-30         2020-03-31         2020-03-31   \n",
       "1                2021-01-22         2021-01-24         2021-01-24   \n",
       "2                2020-03-24         2020-04-14         2020-04-14   \n",
       "3                2021-01-18         2021-01-21         2021-01-21   \n",
       "4                2020-12-26         2020-12-28         2020-12-28   \n",
       "...                     ...                ...                ...   \n",
       "14855            2020-04-02         2020-04-03         2020-04-04   \n",
       "14856            2021-01-25         2021-01-26         2021-01-26   \n",
       "14857            2020-12-07         2020-12-08         2020-12-08   \n",
       "14858            2020-11-22         2020-11-24         2020-11-24   \n",
       "14859            2021-01-20         2021-01-27         2021-01-27   \n",
       "\n",
       "      Specimen_Date Age_Group Client_Gender Case_AcquisitionInfo  \\\n",
       "0        2020-03-30       70s          MALE                   OB   \n",
       "1        2021-01-23       50s        FEMALE    NO KNOWN EPI LINK   \n",
       "2        2020-04-13       70s        FEMALE                   OB   \n",
       "3        2021-01-18       <20          MALE                   CC   \n",
       "4        2020-12-26       60s          MALE                   OB   \n",
       "...             ...       ...           ...                  ...   \n",
       "14855    2020-04-02       90s        FEMALE    NO KNOWN EPI LINK   \n",
       "14856    2021-01-25       <20          MALE                   CC   \n",
       "14857    2020-12-07       40s        FEMALE                   CC   \n",
       "14858    2020-11-22       20s   UNSPECIFIED                   CC   \n",
       "14859    2021-01-26       <20          MALE                   CC   \n",
       "\n",
       "      Reporting_PHU_City Outbreak_Related  Reporting_PHU_Latitude  \\\n",
       "0              Stratford              Yes               43.368662   \n",
       "1              Newmarket              NaN               44.048023   \n",
       "2                Toronto              Yes               43.656591   \n",
       "3            Mississauga              NaN               43.647471   \n",
       "4                Windsor              Yes               42.308796   \n",
       "...                  ...              ...                     ...   \n",
       "14855             Whitby              NaN               43.898605   \n",
       "14856            Thorold              NaN               43.116537   \n",
       "14857        Mississauga              NaN               43.647471   \n",
       "14858          Newmarket              NaN               44.048023   \n",
       "14859        Mississauga              NaN               43.647471   \n",
       "\n",
       "       Reporting_PHU_Longitude      Outcome1  \n",
       "0                   -81.001913         Fatal  \n",
       "1                   -79.480239  Not Resolved  \n",
       "2                   -79.379358      Resolved  \n",
       "3                   -79.708893  Not Resolved  \n",
       "4                   -83.033670      Resolved  \n",
       "...                        ...           ...  \n",
       "14855               -78.940341         Fatal  \n",
       "14856               -79.241220  Not Resolved  \n",
       "14857               -79.708893      Resolved  \n",
       "14858               -79.480239      Resolved  \n",
       "14859               -79.708893  Not Resolved  \n",
       "\n",
       "[14860 rows x 12 columns]"
      ]
     },
     "execution_count": 88,
     "metadata": {},
     "output_type": "execute_result"
    }
   ],
   "source": [
    "dataset = pd.read_csv(\"COVID_dataset_train.csv\")\n",
    "dataset"
   ]
  },
  {
   "cell_type": "markdown",
   "metadata": {},
   "source": [
    "### EXPLORATORY DATA ANALYSIS"
   ]
  },
  {
   "cell_type": "code",
   "execution_count": 89,
   "metadata": {},
   "outputs": [
    {
     "data": {
      "text/plain": [
       "<AxesSubplot:title={'center':'Distribution of Case acquisition info'}, xlabel='Reporting_PHU_Latitude', ylabel='Reporting_PHU_Longitude'>"
      ]
     },
     "execution_count": 89,
     "metadata": {},
     "output_type": "execute_result"
    },
    {
     "data": {
      "image/png": "[encoded data removed]",
      "text/plain": [
       "<Figure size 1080x720 with 4 Axes>"
      ]
     },
     "metadata": {},
     "output_type": "display_data"
    }
   ],
   "source": [
    "fig = plt.figure(figsize=(15,10))\n",
    "\n",
    "plt.subplot(221)\n",
    "plt.title(\"Distribution of Age group\")\n",
    "sns.countplot(x='Age_Group', hue='Outcome1', data = dataset, palette = 'dark')\n",
    "\n",
    "plt.subplot(222)\n",
    "plt.title(\"Distribution of Gender\")\n",
    "sns.countplot(x='Client_Gender', hue='Outcome1', data = dataset, palette = 'dark')\n",
    "\n",
    "plt.subplot(223)\n",
    "plt.title(\"Distribution of Case acquisition info\")\n",
    "sns.countplot(x='Case_AcquisitionInfo', hue='Outcome1', data = dataset, palette = 'dark')\n",
    "\n",
    "plt.subplot(224)\n",
    "plt.title(\"Distribution of Case acquisition info\")\n",
    "sns.scatterplot(x = 'Reporting_PHU_Latitude', y = 'Reporting_PHU_Longitude', hue = 'Outcome1', data = dataset)"
   ]
  },
  {
   "cell_type": "markdown",
   "metadata": {},
   "source": [
    "<p><b>Important features observed from the plots:</b></p>\n",
    "<ul>\n",
    "            <li>The age group of 70s, 80s and 90s has observed the highest fatal outcomes compared to other classes.</li>\n",
    "            <li>There is particular pattern observed in the gender histogram plot. All the classes of outcomes are equally divided among males and females. The unspecified also has an almost equal distribution of target.</li>\n",
    "            <li>The case aquisition info provides one interesting pattern, The Outbreak(OB) class in acquissition info has the highest fatal outcomes.</li>\n",
    "            <li>An interesting pattern is observed in longitude v/s latitude plot, The box covered by latitude(43,44) and longitude(-77.5,-82.5) has the cases with most fatal outcomes. This region can be a red zone.</li>\n",
    "</ul>"
   ]
  },
  {
   "cell_type": "markdown",
   "metadata": {},
   "source": [
    "### DATA CLEANING AND PREPROCESSING"
   ]
  },
  {
   "cell_type": "markdown",
   "metadata": {},
   "source": [
    "The following steps are performed as a part of data preprocessing:\n",
    "<ul>\n",
    "    <b>--->Handling Null Values:</b><br>\n",
    "            <li>Imputation of NaN values in the Outbreak_related columns, all the NaNs are replaced with \"No\".</li>\n",
    "            <li>All the remaining NaN values were observed in Age_Group, Test Reported Date and Specimen Date, these values have been dropped.</li>\n",
    "    <b>--->Handling Date Features:</b><br>\n",
    "        <li>The given features of dates(Test_Reported_Date, Accurate_Episode_Date, Case_Reported_Date, Specimen_Date) are given as string, we will convert it to epoch seconds to extract some meaningful information from them. </li>\n",
    "    <li>We are not using all the date features to train our model, instead we are only using Accurate_Episode_Date and Case_Reported_Date and we are dropping the columns Test_Reported_Date and Specimen_Date. This is because these two columns have values very similar values to the features Case_Reported_Date and Accurate_Episode_Date and these they can be dropped as they have a very high correlation with the other two columns</li>\n",
    "    <li>Note that they are various other ways to capture information from Date Columns, for example, we can seperate Date into Day, Month and Year and create seperate columns for each or we can also breakdown the feature and treat it as a categorical value, and then perform-hot encoding. But all these features result in the creation of too many feature columns for neural network. Thus we use conversion of date to epoch timestamp as it is essentially representing same information with lesser number of features.</li>\n",
    "                    <b>--->Label and one-hot encoding of features:</b><br>\n",
    "            <li>Label encoding of Age_Group data as it is ordinal type of dataset. Moreover, the age wise ranking is also preserved in case of label encoding.</li>\n",
    "            <li>Other categorical features (Client_Gender, Case_AcquisitionInfo, Reporting_PHU_City, Outbreak_Related) were transformed using One-Hot Encoding for better results.</li>\n",
    "           <b>--->One-hot encoding of target variable:</b><br>\n",
    "            <li>We perform One-hot encoding of target variable, so that the multiclass classification data is processed properly by Tensorflow Library, as we are using Categorical cross entropy as loss function during training.</li>\n",
    "    <b>--->Standard Scaling of the dataset:</b><br>\n",
    "            <li>We perform standard scaling of the train and test set so that the numeric values are centered around zero.</li>\n",
    "</ul>"
   ]
  },
  {
   "cell_type": "markdown",
   "metadata": {},
   "source": [
    "#### DEALING WITH NAN AND MISSING VALUES"
   ]
  },
  {
   "cell_type": "code",
   "execution_count": 90,
   "metadata": {},
   "outputs": [],
   "source": [
    "# Handling Null values\n",
    "\n",
    "# replacing NaN in Outbreak_Related with NO \n",
    "dataset['Outbreak_Related'] = dataset['Outbreak_Related'].fillna(\"No\") \n",
    "\n",
    "# Dropping NaN values in Age_Group, Test_reported_date and specimen_date\n",
    "dataset = dataset.dropna()"
   ]
  },
  {
   "cell_type": "markdown",
   "metadata": {},
   "source": [
    "#### CONVERTING DATE FEATURES TO TIME STAMP"
   ]
  },
  {
   "cell_type": "code",
   "execution_count": 91,
   "metadata": {},
   "outputs": [
    {
     "name": "stderr",
     "output_type": "stream",
     "text": [
      "C:\\Users\\DEEP\\anaconda3\\envs\\tf_gpu\\lib\\site-packages\\pandas\\core\\generic.py:5494: SettingWithCopyWarning: \n",
      "A value is trying to be set on a copy of a slice from a DataFrame.\n",
      "Try using .loc[row_indexer,col_indexer] = value instead\n",
      "\n",
      "See the caveats in the documentation: https://pandas.pydata.org/pandas-docs/stable/user_guide/indexing.html#returning-a-view-versus-a-copy\n",
      "  self[name] = value\n"
     ]
    }
   ],
   "source": [
    "# Handling Date Features\n",
    "dataset.Accurate_Episode_Date = pd.to_datetime(dataset.Accurate_Episode_Date)\n",
    "dataset.Case_Reported_Date = pd.to_datetime(dataset.Case_Reported_Date)\n",
    "dataset.Test_Reported_Date = pd.to_datetime(dataset.Test_Reported_Date)\n",
    "dataset.Specimen_Date = pd.to_datetime(dataset.Specimen_Date)\n",
    "\n",
    "dataset = dataset.drop(['Test_Reported_Date', 'Specimen_Date'],axis=1)\n",
    "\n",
    "dataset.Case_Reported_Date = list(map(lambda x: x.timestamp(),dataset.Case_Reported_Date))\n",
    "dataset.Accurate_Episode_Date = list(map(lambda x: x.timestamp(),dataset.Accurate_Episode_Date))"
   ]
  },
  {
   "cell_type": "markdown",
   "metadata": {},
   "source": [
    "#### ENCODING THE VARIABLES AND OUTCOME"
   ]
  },
  {
   "cell_type": "code",
   "execution_count": 92,
   "metadata": {},
   "outputs": [],
   "source": [
    "## encoding of features\n",
    "dataset_features = dataset.drop(['Outcome1'], axis = 1)\n",
    "\n",
    "dataset_features['Age_Group'] = dataset_features['Age_Group'].replace({'<20': 1, '20s': 2, '30s': 3 , '40s': 4, '50s': 5, '60s': 6, '70s': 7, '80s': 8, '90s': 9})\n",
    "\n",
    "categorical_cols = ['Client_Gender','Case_AcquisitionInfo','Reporting_PHU_City','Outbreak_Related']\n",
    "\n",
    "# Create the encoder.\n",
    "encoder = OneHotEncoder(categories = \"auto\", handle_unknown=\"error\", sparse = False)\n",
    "\n",
    "# Fit and transform encoder to X\n",
    "array_hot_encoded = encoder.fit_transform(dataset_features[categorical_cols])\n",
    "\n",
    "# convert it to a Data Frame\n",
    "data_hot_encoded = pd.DataFrame(array_hot_encoded, index=dataset.index)\n",
    "\n",
    "# set column names of encoded dataframe\n",
    "data_hot_encoded.columns = encoder.get_feature_names(categorical_cols)\n",
    "\n",
    "# concatenate other columns with the encoded columns to get the final datset\n",
    "data_other_cols = dataset_features.drop(columns=categorical_cols)\n",
    "dataset_temp = pd.concat([data_hot_encoded, data_other_cols], axis=1)\n",
    "dataset_features = dataset_temp"
   ]
  },
  {
   "cell_type": "code",
   "execution_count": 93,
   "metadata": {},
   "outputs": [],
   "source": [
    "## encoding of target variable\n",
    "dataset_target = dataset['Outcome1']\n",
    "dataset_target = pd.DataFrame(dataset_target, columns = ['Outcome1'])\n",
    "\n",
    "categorical_cols = ['Outcome1']\n",
    "\n",
    "# Create the encoder.\n",
    "encoder_1 = OneHotEncoder(categories = \"auto\", handle_unknown=\"error\", sparse = False)\n",
    "\n",
    "# Fit and transform encoder to X\n",
    "array_hot_encoded_1 = encoder_1.fit_transform(dataset_target)\n",
    "\n",
    "# convert it to a Data Frame\n",
    "data_hot_encoded_1 = pd.DataFrame(array_hot_encoded_1, index=dataset_target.index)\n",
    "\n",
    "# set column names of encoded dataframe\n",
    "data_hot_encoded_1.columns = encoder_1.get_feature_names(categorical_cols)\n",
    "\n",
    "dataset_target_1 = data_hot_encoded_1"
   ]
  },
  {
   "cell_type": "markdown",
   "metadata": {},
   "source": [
    "#### SPLITTING THE DATA INTO TEST AND TRAIN"
   ]
  },
  {
   "cell_type": "code",
   "execution_count": 94,
   "metadata": {},
   "outputs": [],
   "source": [
    "# train-test split of the data\n",
    "X_train, X_test, y_train, y_test = train_test_split(dataset_features, dataset_target_1, test_size = 0.10, random_state = 245)"
   ]
  },
  {
   "cell_type": "markdown",
   "metadata": {},
   "source": [
    "#### SCALING THE NUMERIC FEATURES"
   ]
  },
  {
   "cell_type": "code",
   "execution_count": 95,
   "metadata": {},
   "outputs": [],
   "source": [
    "# Scaling of test and train sets\n",
    "from sklearn.preprocessing import StandardScaler\n",
    "numeric_columns = ['Reporting_PHU_Longitude', 'Reporting_PHU_Latitude','Case_Reported_Date', 'Accurate_Episode_Date']\n",
    "\n",
    "sc = StandardScaler()\n",
    "\n",
    "X_train_scaled = X_train.copy()\n",
    "X_test_scaled = X_test.copy()\n",
    "\n",
    "X_train_scaled[numeric_columns] = sc.fit_transform(X_train[numeric_columns])\n",
    "X_test_scaled[numeric_columns] = sc.transform(X_test[numeric_columns])"
   ]
  },
  {
   "cell_type": "markdown",
   "metadata": {},
   "source": [
    "<p>The data is split into train and test sets with training set comprising of 90% of the total values, and test set with 10% values. Standard scaler is used to scale the numeric features and prepare the final dataset used for training</p>"
   ]
  },
  {
   "cell_type": "markdown",
   "metadata": {},
   "source": [
    "## NEURAL NETWORK DESIGN:"
   ]
  },
  {
   "cell_type": "markdown",
   "metadata": {},
   "source": [
    "We tried various different architectures of Neural network for the covid dataset, the designs for all those have been discussed in CM2 and CM3. Among all those models, we selected the following model for our implementation:"
   ]
  },
  {
   "cell_type": "code",
   "execution_count": 96,
   "metadata": {},
   "outputs": [],
   "source": [
    "from tensorflow.keras.models import Sequential\n",
    "from tensorflow.keras.layers import Dense, Activation\n",
    "import tensorflow as tf\n",
    "\n",
    "# INITIALING ANN\n",
    "ann = tf.keras.models.Sequential()\n",
    "\n",
    "# ADDING INPUT LAYER AND FIRST HIDDEN LAYER\n",
    "ann.add(tf.keras.layers.Dense(units = 112, activation='relu'))\n",
    "ann.add(Dropout(0.07))\n",
    "\n",
    "# ADDING SECOND HIDDEN LAYER\n",
    "ann.add(tf.keras.layers.Dense(units=448, activation='relu', kernel_regularizer=l2(0.001)))\n",
    "\n",
    "# ADDING THIRD HIDDEN LAYER\n",
    "ann.add(tf.keras.layers.Dense(units=56, activation='relu'))\n",
    "\n",
    "# ADDING OUTPUT LAYER\n",
    "ann.add(tf.keras.layers.Dense(units=3, activation='softmax'))\n",
    "\n",
    "ann.compile(optimizer='adam', loss='categorical_crossentropy', metrics=['accuracy'])"
   ]
  },
  {
   "cell_type": "code",
   "execution_count": 97,
   "metadata": {
    "scrolled": false
   },
   "outputs": [
    {
     "name": "stdout",
     "output_type": "stream",
     "text": [
      "Epoch 1/400\n",
      "WARNING:tensorflow:Layer dense_16 is casting an input tensor from dtype float64 to the layer's dtype of float32, which is new behavior in TensorFlow 2.  The layer has dtype float32 because its dtype defaults to floatx.\n",
      "\n",
      "If you intended to run this layer in float32, you can safely ignore this warning. If in doubt, this warning is likely only an issue if you are porting a TensorFlow 1.X model to TensorFlow 2.\n",
      "\n",
      "To change all layers to have dtype float64 by default, call `tf.keras.backend.set_floatx('float64')`. To change just this layer, pass dtype='float64' to the layer constructor. If you are the author of this layer, you can disable autocasting by passing autocast=False to the base Layer constructor.\n",
      "\n",
      "351/351 [==============================] - 1s 2ms/step - loss: 0.5478 - accuracy: 0.8198 - val_loss: 0.4038 - val_accuracy: 0.8726\n",
      "Epoch 2/400\n",
      "351/351 [==============================] - 0s 1ms/step - loss: 0.3776 - accuracy: 0.8824 - val_loss: 0.3374 - val_accuracy: 0.8862\n",
      "Epoch 3/400\n",
      "351/351 [==============================] - 0s 1ms/step - loss: 0.3434 - accuracy: 0.8906 - val_loss: 0.3325 - val_accuracy: 0.8827\n",
      "Epoch 4/400\n",
      "351/351 [==============================] - 0s 1ms/step - loss: 0.3210 - accuracy: 0.8962 - val_loss: 0.3176 - val_accuracy: 0.8913\n",
      "Epoch 5/400\n",
      "351/351 [==============================] - 0s 1ms/step - loss: 0.3026 - accuracy: 0.8997 - val_loss: 0.3216 - val_accuracy: 0.8807\n",
      "Epoch 6/400\n",
      "351/351 [==============================] - 0s 1ms/step - loss: 0.2865 - accuracy: 0.9055 - val_loss: 0.3025 - val_accuracy: 0.8893\n",
      "Epoch 7/400\n",
      "351/351 [==============================] - 0s 1ms/step - loss: 0.2851 - accuracy: 0.9035 - val_loss: 0.2827 - val_accuracy: 0.9024\n",
      "Epoch 8/400\n",
      "351/351 [==============================] - 0s 1ms/step - loss: 0.2773 - accuracy: 0.9052 - val_loss: 0.2934 - val_accuracy: 0.8933\n",
      "Epoch 9/400\n",
      "351/351 [==============================] - 0s 1ms/step - loss: 0.2688 - accuracy: 0.9085 - val_loss: 0.2817 - val_accuracy: 0.9009\n",
      "Epoch 10/400\n",
      "351/351 [==============================] - 1s 2ms/step - loss: 0.2620 - accuracy: 0.9102 - val_loss: 0.3023 - val_accuracy: 0.8964\n",
      "Epoch 11/400\n",
      "351/351 [==============================] - 1s 2ms/step - loss: 0.2626 - accuracy: 0.9098 - val_loss: 0.2876 - val_accuracy: 0.8964\n",
      "Epoch 12/400\n",
      "351/351 [==============================] - 1s 2ms/step - loss: 0.2634 - accuracy: 0.9061 - val_loss: 0.2837 - val_accuracy: 0.8918\n",
      "Epoch 13/400\n",
      "351/351 [==============================] - 1s 2ms/step - loss: 0.2616 - accuracy: 0.9088 - val_loss: 0.2964 - val_accuracy: 0.8974\n",
      "Epoch 14/400\n",
      "351/351 [==============================] - 1s 2ms/step - loss: 0.2556 - accuracy: 0.9118 - val_loss: 0.2906 - val_accuracy: 0.8959\n",
      "Epoch 15/400\n",
      "351/351 [==============================] - 1s 2ms/step - loss: 0.2488 - accuracy: 0.9126 - val_loss: 0.2752 - val_accuracy: 0.8979\n",
      "Epoch 16/400\n",
      "351/351 [==============================] - 1s 2ms/step - loss: 0.2537 - accuracy: 0.9090 - val_loss: 0.3303 - val_accuracy: 0.8792\n",
      "Epoch 17/400\n",
      "351/351 [==============================] - 1s 3ms/step - loss: 0.2508 - accuracy: 0.9126 - val_loss: 0.2809 - val_accuracy: 0.9009\n",
      "Epoch 18/400\n",
      "351/351 [==============================] - 1s 3ms/step - loss: 0.2453 - accuracy: 0.9138 - val_loss: 0.2760 - val_accuracy: 0.9019\n",
      "Epoch 19/400\n",
      "351/351 [==============================] - 1s 2ms/step - loss: 0.2474 - accuracy: 0.9130 - val_loss: 0.2670 - val_accuracy: 0.9019\n",
      "Epoch 20/400\n",
      "351/351 [==============================] - 1s 2ms/step - loss: 0.2456 - accuracy: 0.9157 - val_loss: 0.2735 - val_accuracy: 0.8994\n",
      "Epoch 21/400\n",
      "351/351 [==============================] - 1s 3ms/step - loss: 0.2486 - accuracy: 0.9131 - val_loss: 0.2681 - val_accuracy: 0.9065\n",
      "Epoch 22/400\n",
      "351/351 [==============================] - 1s 3ms/step - loss: 0.2403 - accuracy: 0.9161 - val_loss: 0.2731 - val_accuracy: 0.9024\n",
      "Epoch 23/400\n",
      "351/351 [==============================] - 1s 3ms/step - loss: 0.2470 - accuracy: 0.9116 - val_loss: 0.2687 - val_accuracy: 0.9039\n",
      "Epoch 24/400\n",
      "351/351 [==============================] - 1s 3ms/step - loss: 0.2385 - accuracy: 0.9164 - val_loss: 0.2692 - val_accuracy: 0.9034\n",
      "Epoch 25/400\n",
      "351/351 [==============================] - 1s 2ms/step - loss: 0.2423 - accuracy: 0.9166 - val_loss: 0.2711 - val_accuracy: 0.9044\n",
      "Epoch 26/400\n",
      "351/351 [==============================] - 0s 1ms/step - loss: 0.2383 - accuracy: 0.9163 - val_loss: 0.2872 - val_accuracy: 0.8943\n",
      "Epoch 27/400\n",
      "351/351 [==============================] - 0s 1ms/step - loss: 0.2363 - accuracy: 0.9179 - val_loss: 0.2635 - val_accuracy: 0.9055\n",
      "Epoch 28/400\n",
      "351/351 [==============================] - 0s 1ms/step - loss: 0.2390 - accuracy: 0.9159 - val_loss: 0.2740 - val_accuracy: 0.9024\n",
      "Epoch 29/400\n",
      "351/351 [==============================] - 0s 1ms/step - loss: 0.2354 - accuracy: 0.9164 - val_loss: 0.2770 - val_accuracy: 0.8964\n",
      "Epoch 30/400\n",
      "351/351 [==============================] - 0s 1ms/step - loss: 0.2351 - accuracy: 0.9168 - val_loss: 0.2707 - val_accuracy: 0.9004\n",
      "Epoch 31/400\n",
      "351/351 [==============================] - 0s 1ms/step - loss: 0.2352 - accuracy: 0.9184 - val_loss: 0.2643 - val_accuracy: 0.9034\n",
      "Epoch 32/400\n",
      "351/351 [==============================] - 0s 1ms/step - loss: 0.2322 - accuracy: 0.9176 - val_loss: 0.2704 - val_accuracy: 0.9055\n",
      "Epoch 33/400\n",
      "351/351 [==============================] - 0s 1ms/step - loss: 0.2329 - accuracy: 0.9181 - val_loss: 0.2706 - val_accuracy: 0.8969\n",
      "Epoch 34/400\n",
      "351/351 [==============================] - 0s 1ms/step - loss: 0.2330 - accuracy: 0.9177 - val_loss: 0.2743 - val_accuracy: 0.9050\n",
      "Epoch 35/400\n",
      "351/351 [==============================] - 0s 1ms/step - loss: 0.2315 - accuracy: 0.9198 - val_loss: 0.2743 - val_accuracy: 0.8999\n",
      "Epoch 36/400\n",
      "351/351 [==============================] - 0s 1ms/step - loss: 0.2325 - accuracy: 0.9181 - val_loss: 0.2759 - val_accuracy: 0.9004\n",
      "Epoch 37/400\n",
      "351/351 [==============================] - 0s 1ms/step - loss: 0.2269 - accuracy: 0.9221 - val_loss: 0.2723 - val_accuracy: 0.9065\n"
     ]
    }
   ],
   "source": [
    "from tensorflow.keras.callbacks import EarlyStopping\n",
    "\n",
    "callback = EarlyStopping(monitor='val_loss', patience = 10)\n",
    "\n",
    "fitted_model = ann.fit(X_train_scaled, y_train, validation_split = 0.15, callbacks = [callback], epochs= 400, verbose=1)"
   ]
  },
  {
   "cell_type": "code",
   "execution_count": 98,
   "metadata": {},
   "outputs": [
    {
     "name": "stdout",
     "output_type": "stream",
     "text": [
      "Model: \"sequential_4\"\n",
      "_________________________________________________________________\n",
      "Layer (type)                 Output Shape              Param #   \n",
      "=================================================================\n",
      "dense_16 (Dense)             (None, 112)               5824      \n",
      "_________________________________________________________________\n",
      "dropout_4 (Dropout)          (None, 112)               0         \n",
      "_________________________________________________________________\n",
      "dense_17 (Dense)             (None, 448)               50624     \n",
      "_________________________________________________________________\n",
      "dense_18 (Dense)             (None, 56)                25144     \n",
      "_________________________________________________________________\n",
      "dense_19 (Dense)             (None, 3)                 171       \n",
      "=================================================================\n",
      "Total params: 81,763\n",
      "Trainable params: 81,763\n",
      "Non-trainable params: 0\n",
      "_________________________________________________________________\n"
     ]
    }
   ],
   "source": [
    "ann.summary()"
   ]
  },
  {
   "cell_type": "markdown",
   "metadata": {},
   "source": [
    "The main components of our neural network are:   "
   ]
  },
  {
   "cell_type": "markdown",
   "metadata": {},
   "source": [
    "#### 1. Layers\n",
    "A neural network consists of 3 different types layers: Input Layer, Hidden Layer and Output Layer.\n",
    "<li>Input layer recieves the  initial data for the neural network.</li>\n",
    "<li>Hidden layers are the intermediate layers between input and output layer and place where all the computation is done.</li>\n",
    "<li>Output layers produce the result for given inputs.</li>\n",
    "<p>Our model is a Fully Connected Deep Neural Network, where each node in a layer is connected to all the nodes in the next layer.Our Neural network consists of the following layers:</p>\n",
    "<li>input layer with 112 neurons</li>\n",
    "<li>2 hidden layers with 112 and 448 neurons respectively</li> \n",
    "<li>output layer with 3 neurons</li>\n",
    "The total number of parameters in the neural network are 81,763."
   ]
  },
  {
   "cell_type": "markdown",
   "metadata": {},
   "source": [
    "#### 2. Activation Functions\n",
    "Activation functions help the neural networks to learn complex patterns in the data. It takes in the output signal from the previous cell and converts it into some form that can be taken as input to the next cell. The most important feature of activation function is that it adds non-linearity to the model.\n",
    "<p>\n",
    "<li>After trying out different Activation functions for our model (Hyperparameter tuning details in CM3), we select ReLU activation function for our input and hidden layers. Compared to other activation functions like the sigmoid and tanh, the ReLU function offers much better performance and generalization in deep learning. The function is a nearly linear function that retains the properties of linear models, which makes them easy to optimize with gradient-descent methods.</li>\n",
    "<li>The output layer uses the softmax activation function which will return the confidence scores of each class. This activation function is useful for multi-class classification as the scores returned by Softmax arre essentially the probablities of different classes which add to 1.\n",
    "</li>\n",
    "</p>\n"
   ]
  },
  {
   "cell_type": "markdown",
   "metadata": {},
   "source": [
    "#### 3. Regularization Techniques\n",
    "<p>\n",
    "As deep neural networks often tend to overfit the training data, adding regularization to the model will help in reducing the overfitting by the reduction of generalization error and thus increase the variance of the model. In our model, we are applying the following regularization techniques to avoid overfitting:\n",
    "</p>\n",
    "<p>\n",
    "<b>--->Dropout:</b><br>\n",
    "Dropout is a regularization technique which helps in reducing overfitting by randomly selected nodes are dropped-out/ignored during training.\n",
    "Our model has a dropout layer between the input and the first hidden layer, and the dropout rate being used in 0.05. i.e, it will randomly set 5% of inputs to zero.\n",
    "</p>\n",
    "<p>\n",
    "<b>--->L2 Regularization:</b><br>\n",
    "Regularization prevents overfitting by penalizing the weight matrices of the nodes. L2 regularization penalizes the sum of the square of the weights. For both small weight values and relatively large ones, L2 regularization transforms the values to a number close to 0, but not quite 0.\n",
    "Our model uses L2 regularization at the 2nd layer with value of lambda = 0.01.\n",
    "</p>"
   ]
  },
  {
   "cell_type": "markdown",
   "metadata": {},
   "source": [
    "#### 4. Optimizer\n",
    "Optimizers are algorithms or methods used to change the attributes of your neural network such as weights and learning rate in order to reduce the losses. After trying out various optimizers during hyper-parameter tuning, we found that Adam optimer gives the best performance among the all.(Details in CM3).\n",
    "<p> Adam optimizer works with the momentums of first and second order. The advantage of using Adam optimizer is that it is very fast and converges rapidly. It also rectifies the vanishing learning rate</p>\n"
   ]
  },
  {
   "cell_type": "markdown",
   "metadata": {},
   "source": [
    "#### 5. Early-stopping\n",
    "A major issue with neural networks is the the number of training epochs to be used while training the model.Too many epochs can lead to overfitting of the training dataset, whereas too few may result in an underfit model. Early stopping is a method that allows you to specify an arbitrary large number of training epochs and it continues to monitor the validation loss and automatically stops the training if there is no improvement in the model.\n",
    "<p>Our model uses early stopping during the training phase and thus it stops training after 23 epochs. Here we are using patience as 10, i.e the model will stop when it sees no change in the the validation loss over 10 epochs.</p>"
   ]
  },
  {
   "cell_type": "markdown",
   "metadata": {},
   "source": [
    "#### 6. Loss Function\n",
    "As the problem statement is a multi-class classification, the loss function we are using is the categorical cross entropy. It expects one-hot encoded representation of the labels as input. In this loss function, each predicted class probability is compared to the actual class desired output 0 or 1 and a score/loss is calculated that penalizes the probability based on how far it is from the actual expected value."
   ]
  },
  {
   "cell_type": "markdown",
   "metadata": {},
   "source": [
    "# RESULTS"
   ]
  },
  {
   "cell_type": "markdown",
   "metadata": {},
   "source": [
    "### ACCURACY VS EPOCH PLOT"
   ]
  },
  {
   "cell_type": "code",
   "execution_count": 99,
   "metadata": {},
   "outputs": [
    {
     "data": {
      "image/png": "[encoded data removed]",
      "text/plain": [
       "<Figure size 432x288 with 1 Axes>"
      ]
     },
     "metadata": {},
     "output_type": "display_data"
    }
   ],
   "source": [
    "# summarize history for accuracy\n",
    "plt.plot(fitted_model.history['accuracy'], c = 'green', label = 'traing_accuracy')\n",
    "plt.plot(fitted_model.history['val_accuracy'], c = 'red', label = 'val_accuracy')\n",
    "plt.title('model accuracy')\n",
    "plt.ylabel('accuracy')\n",
    "plt.xlabel('epoch')\n",
    "plt.legend()\n",
    "plt.show()"
   ]
  },
  {
   "cell_type": "markdown",
   "metadata": {},
   "source": [
    "It is observed that over the initial few epochs, the training set accuracy witness a very rapid increase, and after about 27 epochs, the model becomes stable and there very small difference between the validitation and the training accuracies.\n",
    "During the training process, the maximum values of accuracies achieved on the training and the validation set are:"
   ]
  },
  {
   "cell_type": "code",
   "execution_count": 100,
   "metadata": {},
   "outputs": [
    {
     "name": "stdout",
     "output_type": "stream",
     "text": [
      "Mean validation accuracy: 89.71797904452762\n",
      "Mean training accuracy: 90.87539395770511\n"
     ]
    }
   ],
   "source": [
    "print(\"Mean validation accuracy:\", np.mean(fitted_model.history['val_accuracy'])*100)\n",
    "print(\"Mean training accuracy:\", np.mean(fitted_model.history['accuracy'])*100)"
   ]
  },
  {
   "cell_type": "markdown",
   "metadata": {},
   "source": [
    "### LOSS V/S EPOCH PLOT"
   ]
  },
  {
   "cell_type": "code",
   "execution_count": 101,
   "metadata": {},
   "outputs": [
    {
     "data": {
      "image/png": "[encoded data removed]",
      "text/plain": [
       "<Figure size 432x288 with 1 Axes>"
      ]
     },
     "metadata": {},
     "output_type": "display_data"
    }
   ],
   "source": [
    "# summarize history for loss\n",
    "plt.plot(fitted_model.history['loss'], label = \"training_loss\")\n",
    "plt.plot(fitted_model.history['val_loss'], label = \"validation_loss\")\n",
    "plt.title('model loss')\n",
    "plt.ylabel('loss')\n",
    "plt.xlabel('epoch')\n",
    "plt.legend()\n",
    "plt.show()"
   ]
  },
  {
   "cell_type": "markdown",
   "metadata": {},
   "source": [
    "It is observed that during the initial epochs, there is a huge gap between the training and validation loss. As the number of epochs increase, the difference between the training and validation losses keeps on decreasing. The minimum values of the these losses during the training phase are: "
   ]
  },
  {
   "cell_type": "code",
   "execution_count": 102,
   "metadata": {},
   "outputs": [
    {
     "name": "stdout",
     "output_type": "stream",
     "text": [
      "Mean validation loss: 28.81424451196516\n",
      "Mean training loss: 26.572419058632207\n"
     ]
    }
   ],
   "source": [
    "print(\"Mean validation loss:\", np.mean(fitted_model.history['val_loss'])*100)\n",
    "print(\"Mean training loss:\", np.mean(fitted_model.history['loss'])*100)"
   ]
  },
  {
   "cell_type": "markdown",
   "metadata": {},
   "source": [
    "### TEST SET ACCURACY"
   ]
  },
  {
   "cell_type": "code",
   "execution_count": 103,
   "metadata": {},
   "outputs": [
    {
     "name": "stdout",
     "output_type": "stream",
     "text": [
      "The test set accuracy obtained: 91.67235494880546 %\n"
     ]
    }
   ],
   "source": [
    "# FOR TESTING ON TRAINING SET\n",
    "# check test set accuracy\n",
    "results_train = ann.predict(X_test_scaled)\n",
    "\n",
    "pred_values_train= []\n",
    "for result in results_train:\n",
    "    entry = [0,0,0]\n",
    "    index = result.argmax()\n",
    "    entry[index] = 1\n",
    "    pred_values_train.append(entry)\n",
    "    \n",
    "from sklearn.metrics import confusion_matrix, accuracy_score\n",
    "score = accuracy_score(y_test, pred_values_train)\n",
    "print(f'The test set accuracy obtained: {score*100} %')"
   ]
  },
  {
   "cell_type": "markdown",
   "metadata": {},
   "source": [
    "We observe that there our model gives an accuracy of 91.67% on the test set, which is very close to the accuracies obtained on the training and the validation sets."
   ]
  },
  {
   "cell_type": "markdown",
   "metadata": {},
   "source": [
    "### CONFUSION MATRIX ANALYSIS FOR OUR MODEL"
   ]
  },
  {
   "cell_type": "code",
   "execution_count": 104,
   "metadata": {},
   "outputs": [],
   "source": [
    "result = []\n",
    "for i in range(0, len(pred_values_train)):\n",
    "    for j in range(3):\n",
    "        if pred_values_train[i][j] == 1:\n",
    "            if j == 0:\n",
    "                result.append('Fatal')\n",
    "            elif j == 1:\n",
    "                result.append('Not Resolved')\n",
    "            elif j == 2:\n",
    "                result.append('Resolved')"
   ]
  },
  {
   "cell_type": "code",
   "execution_count": 105,
   "metadata": {},
   "outputs": [],
   "source": [
    "y_test_arr = np.array(y_test)\n",
    "result_original = []\n",
    "for i in range(0, len(y_test_arr)):\n",
    "    for j in range(3):\n",
    "        if y_test_arr[i][j] == 1:\n",
    "            if j == 0:\n",
    "                result_original.append('Fatal')\n",
    "            elif j == 1:\n",
    "                result_original.append('Not Resolved')\n",
    "            elif j == 2:\n",
    "                result_original.append('Resolved')"
   ]
  },
  {
   "cell_type": "code",
   "execution_count": 106,
   "metadata": {},
   "outputs": [
    {
     "data": {
      "image/png": "[encoded data removed]",
      "text/plain": [
       "<Figure size 432x288 with 1 Axes>"
      ]
     },
     "metadata": {},
     "output_type": "display_data"
    }
   ],
   "source": [
    "from mlxtend.evaluate import confusion_matrix\n",
    "from mlxtend.plotting import plot_confusion_matrix\n",
    "\n",
    "y_target = result_original\n",
    "y_predicted = result\n",
    "\n",
    "cm = confusion_matrix(y_target=y_target, y_predicted=y_predicted, binary=False)\n",
    "\n",
    "fig, ax = plot_confusion_matrix(conf_mat=cm, cmap = 'PuRd' , class_names = ['Fatal','Not Resolved','Resolved'])\n",
    "plt.show()"
   ]
  },
  {
   "cell_type": "markdown",
   "metadata": {},
   "source": [
    "<p>The plot above shows the confusion matrix for the DNN based classification model. It can be seen that \"Not Resolved\" is classified at a better rate compared to other two classes. The highest error is observed in case of Resolved Cases which have been misclassified as fatal cases. However, the model provides a good accuracy in classifing the outcome for covid patient with majority of the data classified properly.</p>"
   ]
  }
 ],
 "metadata": {
  "kernelspec": {
   "display_name": "Python 3",
   "language": "python",
   "name": "python3"
  },
  "language_info": {
   "codemirror_mode": {
    "name": "ipython",
    "version": 3
   },
   "file_extension": ".py",
   "mimetype": "text/x-python",
   "name": "python",
   "nbconvert_exporter": "python",
   "pygments_lexer": "ipython3",
   "version": "3.8.8"
  }
 },
 "nbformat": 4,
 "nbformat_minor": 4
}
