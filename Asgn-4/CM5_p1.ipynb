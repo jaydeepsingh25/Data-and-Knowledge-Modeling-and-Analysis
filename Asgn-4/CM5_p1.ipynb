{
 "cells": [
  {
   "cell_type": "markdown",
   "id": "clinical-pharmacology",
   "metadata": {},
   "source": [
    "<h2><center>ASSIGNMENT 4</center></h2>\n",
    "<h2><center>DEEP ASHISH JARIWALA, JAYDEEP SINGH</center></h2>\n",
    "<h2><center>GROUP - 41</center></h2>\n",
    "<h2><center>Q: CM5</center></h2>"
   ]
  },
  {
   "cell_type": "markdown",
   "id": "3b7af8a0",
   "metadata": {},
   "source": [
    "<p>All the necessary code blocks used to achieve the best resulting fully connected CNN for this classification problem on fashion mnist data.</p>\n",
    "<ul>\n",
    "    <li>SELECTING BEST ARCHITECTURE</li>\n",
    "    <li>SELECTING BEST ACTIVATION FUNCTION</li>\n",
    "    <li>SELECTING BEST OPTIMIZATION</li>\n",
    "</ul>"
   ]
  },
  {
   "cell_type": "markdown",
   "id": "63d03ede",
   "metadata": {},
   "source": [
    "# CODE BLOCKS TO GET BEST ARCHITECTURE FOR OUR MODEL"
   ]
  },
  {
   "cell_type": "markdown",
   "id": "convenient-strand",
   "metadata": {},
   "source": [
    "## PREPARATION OF DATASET"
   ]
  },
  {
   "cell_type": "code",
   "execution_count": 1,
   "id": "weighted-irish",
   "metadata": {},
   "outputs": [],
   "source": [
    "import pandas as pd\n",
    "import numpy as np\n",
    "import matplotlib.pyplot as plt\n",
    "import seaborn as sns\n",
    "sns.set()\n",
    "\n",
    "import tensorflow as tf\n",
    "from tensorflow.keras.layers import Conv2D\n",
    "from tensorflow.keras.layers import BatchNormalization\n",
    "from tensorflow.keras.layers import MaxPooling2D\n",
    "from tensorflow.keras.layers import Dropout\n",
    "from tensorflow.keras.layers import Flatten\n",
    "from tensorflow.keras.layers import Dense"
   ]
  },
  {
   "cell_type": "code",
   "execution_count": 2,
   "id": "verbal-transportation",
   "metadata": {},
   "outputs": [
    {
     "data": {
      "text/html": [
       "<div>\n",
       "<style scoped>\n",
       "    .dataframe tbody tr th:only-of-type {\n",
       "        vertical-align: middle;\n",
       "    }\n",
       "\n",
       "    .dataframe tbody tr th {\n",
       "        vertical-align: top;\n",
       "    }\n",
       "\n",
       "    .dataframe thead th {\n",
       "        text-align: right;\n",
       "    }\n",
       "</style>\n",
       "<table border=\"1\" class=\"dataframe\">\n",
       "  <thead>\n",
       "    <tr style=\"text-align: right;\">\n",
       "      <th></th>\n",
       "      <th>0</th>\n",
       "      <th>1</th>\n",
       "      <th>2</th>\n",
       "      <th>3</th>\n",
       "      <th>4</th>\n",
       "      <th>5</th>\n",
       "      <th>6</th>\n",
       "      <th>7</th>\n",
       "      <th>8</th>\n",
       "      <th>9</th>\n",
       "      <th>...</th>\n",
       "      <th>774</th>\n",
       "      <th>775</th>\n",
       "      <th>776</th>\n",
       "      <th>777</th>\n",
       "      <th>778</th>\n",
       "      <th>779</th>\n",
       "      <th>780</th>\n",
       "      <th>781</th>\n",
       "      <th>782</th>\n",
       "      <th>783</th>\n",
       "    </tr>\n",
       "  </thead>\n",
       "  <tbody>\n",
       "    <tr>\n",
       "      <th>0</th>\n",
       "      <td>0.0</td>\n",
       "      <td>0.0</td>\n",
       "      <td>0.0</td>\n",
       "      <td>0.0</td>\n",
       "      <td>0.0</td>\n",
       "      <td>0.000000</td>\n",
       "      <td>0.0</td>\n",
       "      <td>0.0</td>\n",
       "      <td>0.000000</td>\n",
       "      <td>0.000000</td>\n",
       "      <td>...</td>\n",
       "      <td>0.000000</td>\n",
       "      <td>0.000000</td>\n",
       "      <td>0.000000</td>\n",
       "      <td>0.000000</td>\n",
       "      <td>0.0</td>\n",
       "      <td>0.000000</td>\n",
       "      <td>0.0</td>\n",
       "      <td>0.0</td>\n",
       "      <td>0.0</td>\n",
       "      <td>0.0</td>\n",
       "    </tr>\n",
       "    <tr>\n",
       "      <th>1</th>\n",
       "      <td>0.0</td>\n",
       "      <td>0.0</td>\n",
       "      <td>0.0</td>\n",
       "      <td>0.0</td>\n",
       "      <td>0.0</td>\n",
       "      <td>0.003922</td>\n",
       "      <td>0.0</td>\n",
       "      <td>0.0</td>\n",
       "      <td>0.000000</td>\n",
       "      <td>0.000000</td>\n",
       "      <td>...</td>\n",
       "      <td>0.466667</td>\n",
       "      <td>0.447059</td>\n",
       "      <td>0.509804</td>\n",
       "      <td>0.298039</td>\n",
       "      <td>0.0</td>\n",
       "      <td>0.000000</td>\n",
       "      <td>0.0</td>\n",
       "      <td>0.0</td>\n",
       "      <td>0.0</td>\n",
       "      <td>0.0</td>\n",
       "    </tr>\n",
       "    <tr>\n",
       "      <th>2</th>\n",
       "      <td>0.0</td>\n",
       "      <td>0.0</td>\n",
       "      <td>0.0</td>\n",
       "      <td>0.0</td>\n",
       "      <td>0.0</td>\n",
       "      <td>0.000000</td>\n",
       "      <td>0.0</td>\n",
       "      <td>0.0</td>\n",
       "      <td>0.000000</td>\n",
       "      <td>0.086275</td>\n",
       "      <td>...</td>\n",
       "      <td>0.000000</td>\n",
       "      <td>0.000000</td>\n",
       "      <td>0.003922</td>\n",
       "      <td>0.000000</td>\n",
       "      <td>0.0</td>\n",
       "      <td>0.000000</td>\n",
       "      <td>0.0</td>\n",
       "      <td>0.0</td>\n",
       "      <td>0.0</td>\n",
       "      <td>0.0</td>\n",
       "    </tr>\n",
       "    <tr>\n",
       "      <th>3</th>\n",
       "      <td>0.0</td>\n",
       "      <td>0.0</td>\n",
       "      <td>0.0</td>\n",
       "      <td>0.0</td>\n",
       "      <td>0.0</td>\n",
       "      <td>0.000000</td>\n",
       "      <td>0.0</td>\n",
       "      <td>0.0</td>\n",
       "      <td>0.129412</td>\n",
       "      <td>0.376471</td>\n",
       "      <td>...</td>\n",
       "      <td>0.000000</td>\n",
       "      <td>0.000000</td>\n",
       "      <td>0.000000</td>\n",
       "      <td>0.000000</td>\n",
       "      <td>0.0</td>\n",
       "      <td>0.000000</td>\n",
       "      <td>0.0</td>\n",
       "      <td>0.0</td>\n",
       "      <td>0.0</td>\n",
       "      <td>0.0</td>\n",
       "    </tr>\n",
       "    <tr>\n",
       "      <th>4</th>\n",
       "      <td>0.0</td>\n",
       "      <td>0.0</td>\n",
       "      <td>0.0</td>\n",
       "      <td>0.0</td>\n",
       "      <td>0.0</td>\n",
       "      <td>0.000000</td>\n",
       "      <td>0.0</td>\n",
       "      <td>0.0</td>\n",
       "      <td>0.000000</td>\n",
       "      <td>0.000000</td>\n",
       "      <td>...</td>\n",
       "      <td>0.000000</td>\n",
       "      <td>0.000000</td>\n",
       "      <td>0.000000</td>\n",
       "      <td>0.000000</td>\n",
       "      <td>0.0</td>\n",
       "      <td>0.000000</td>\n",
       "      <td>0.0</td>\n",
       "      <td>0.0</td>\n",
       "      <td>0.0</td>\n",
       "      <td>0.0</td>\n",
       "    </tr>\n",
       "    <tr>\n",
       "      <th>...</th>\n",
       "      <td>...</td>\n",
       "      <td>...</td>\n",
       "      <td>...</td>\n",
       "      <td>...</td>\n",
       "      <td>...</td>\n",
       "      <td>...</td>\n",
       "      <td>...</td>\n",
       "      <td>...</td>\n",
       "      <td>...</td>\n",
       "      <td>...</td>\n",
       "      <td>...</td>\n",
       "      <td>...</td>\n",
       "      <td>...</td>\n",
       "      <td>...</td>\n",
       "      <td>...</td>\n",
       "      <td>...</td>\n",
       "      <td>...</td>\n",
       "      <td>...</td>\n",
       "      <td>...</td>\n",
       "      <td>...</td>\n",
       "      <td>...</td>\n",
       "    </tr>\n",
       "    <tr>\n",
       "      <th>59995</th>\n",
       "      <td>0.0</td>\n",
       "      <td>0.0</td>\n",
       "      <td>0.0</td>\n",
       "      <td>0.0</td>\n",
       "      <td>0.0</td>\n",
       "      <td>0.000000</td>\n",
       "      <td>0.0</td>\n",
       "      <td>0.0</td>\n",
       "      <td>0.000000</td>\n",
       "      <td>0.000000</td>\n",
       "      <td>...</td>\n",
       "      <td>0.000000</td>\n",
       "      <td>0.000000</td>\n",
       "      <td>0.000000</td>\n",
       "      <td>0.000000</td>\n",
       "      <td>0.0</td>\n",
       "      <td>0.000000</td>\n",
       "      <td>0.0</td>\n",
       "      <td>0.0</td>\n",
       "      <td>0.0</td>\n",
       "      <td>0.0</td>\n",
       "    </tr>\n",
       "    <tr>\n",
       "      <th>59996</th>\n",
       "      <td>0.0</td>\n",
       "      <td>0.0</td>\n",
       "      <td>0.0</td>\n",
       "      <td>0.0</td>\n",
       "      <td>0.0</td>\n",
       "      <td>0.000000</td>\n",
       "      <td>0.0</td>\n",
       "      <td>0.0</td>\n",
       "      <td>0.000000</td>\n",
       "      <td>0.000000</td>\n",
       "      <td>...</td>\n",
       "      <td>0.000000</td>\n",
       "      <td>0.000000</td>\n",
       "      <td>0.000000</td>\n",
       "      <td>0.000000</td>\n",
       "      <td>0.0</td>\n",
       "      <td>0.000000</td>\n",
       "      <td>0.0</td>\n",
       "      <td>0.0</td>\n",
       "      <td>0.0</td>\n",
       "      <td>0.0</td>\n",
       "    </tr>\n",
       "    <tr>\n",
       "      <th>59997</th>\n",
       "      <td>0.0</td>\n",
       "      <td>0.0</td>\n",
       "      <td>0.0</td>\n",
       "      <td>0.0</td>\n",
       "      <td>0.0</td>\n",
       "      <td>0.000000</td>\n",
       "      <td>0.0</td>\n",
       "      <td>0.0</td>\n",
       "      <td>0.000000</td>\n",
       "      <td>0.019608</td>\n",
       "      <td>...</td>\n",
       "      <td>0.000000</td>\n",
       "      <td>0.000000</td>\n",
       "      <td>0.000000</td>\n",
       "      <td>0.000000</td>\n",
       "      <td>0.0</td>\n",
       "      <td>0.000000</td>\n",
       "      <td>0.0</td>\n",
       "      <td>0.0</td>\n",
       "      <td>0.0</td>\n",
       "      <td>0.0</td>\n",
       "    </tr>\n",
       "    <tr>\n",
       "      <th>59998</th>\n",
       "      <td>0.0</td>\n",
       "      <td>0.0</td>\n",
       "      <td>0.0</td>\n",
       "      <td>0.0</td>\n",
       "      <td>0.0</td>\n",
       "      <td>0.000000</td>\n",
       "      <td>0.0</td>\n",
       "      <td>0.0</td>\n",
       "      <td>0.000000</td>\n",
       "      <td>0.000000</td>\n",
       "      <td>...</td>\n",
       "      <td>0.258824</td>\n",
       "      <td>0.211765</td>\n",
       "      <td>0.196078</td>\n",
       "      <td>0.019608</td>\n",
       "      <td>0.0</td>\n",
       "      <td>0.003922</td>\n",
       "      <td>0.0</td>\n",
       "      <td>0.0</td>\n",
       "      <td>0.0</td>\n",
       "      <td>0.0</td>\n",
       "    </tr>\n",
       "    <tr>\n",
       "      <th>59999</th>\n",
       "      <td>0.0</td>\n",
       "      <td>0.0</td>\n",
       "      <td>0.0</td>\n",
       "      <td>0.0</td>\n",
       "      <td>0.0</td>\n",
       "      <td>0.000000</td>\n",
       "      <td>0.0</td>\n",
       "      <td>0.0</td>\n",
       "      <td>0.000000</td>\n",
       "      <td>0.000000</td>\n",
       "      <td>...</td>\n",
       "      <td>0.000000</td>\n",
       "      <td>0.000000</td>\n",
       "      <td>0.000000</td>\n",
       "      <td>0.000000</td>\n",
       "      <td>0.0</td>\n",
       "      <td>0.000000</td>\n",
       "      <td>0.0</td>\n",
       "      <td>0.0</td>\n",
       "      <td>0.0</td>\n",
       "      <td>0.0</td>\n",
       "    </tr>\n",
       "  </tbody>\n",
       "</table>\n",
       "<p>60000 rows × 784 columns</p>\n",
       "</div>"
      ],
      "text/plain": [
       "       0    1    2    3    4         5    6    7         8         9    ...  \\\n",
       "0      0.0  0.0  0.0  0.0  0.0  0.000000  0.0  0.0  0.000000  0.000000  ...   \n",
       "1      0.0  0.0  0.0  0.0  0.0  0.003922  0.0  0.0  0.000000  0.000000  ...   \n",
       "2      0.0  0.0  0.0  0.0  0.0  0.000000  0.0  0.0  0.000000  0.086275  ...   \n",
       "3      0.0  0.0  0.0  0.0  0.0  0.000000  0.0  0.0  0.129412  0.376471  ...   \n",
       "4      0.0  0.0  0.0  0.0  0.0  0.000000  0.0  0.0  0.000000  0.000000  ...   \n",
       "...    ...  ...  ...  ...  ...       ...  ...  ...       ...       ...  ...   \n",
       "59995  0.0  0.0  0.0  0.0  0.0  0.000000  0.0  0.0  0.000000  0.000000  ...   \n",
       "59996  0.0  0.0  0.0  0.0  0.0  0.000000  0.0  0.0  0.000000  0.000000  ...   \n",
       "59997  0.0  0.0  0.0  0.0  0.0  0.000000  0.0  0.0  0.000000  0.019608  ...   \n",
       "59998  0.0  0.0  0.0  0.0  0.0  0.000000  0.0  0.0  0.000000  0.000000  ...   \n",
       "59999  0.0  0.0  0.0  0.0  0.0  0.000000  0.0  0.0  0.000000  0.000000  ...   \n",
       "\n",
       "            774       775       776       777  778       779  780  781  782  \\\n",
       "0      0.000000  0.000000  0.000000  0.000000  0.0  0.000000  0.0  0.0  0.0   \n",
       "1      0.466667  0.447059  0.509804  0.298039  0.0  0.000000  0.0  0.0  0.0   \n",
       "2      0.000000  0.000000  0.003922  0.000000  0.0  0.000000  0.0  0.0  0.0   \n",
       "3      0.000000  0.000000  0.000000  0.000000  0.0  0.000000  0.0  0.0  0.0   \n",
       "4      0.000000  0.000000  0.000000  0.000000  0.0  0.000000  0.0  0.0  0.0   \n",
       "...         ...       ...       ...       ...  ...       ...  ...  ...  ...   \n",
       "59995  0.000000  0.000000  0.000000  0.000000  0.0  0.000000  0.0  0.0  0.0   \n",
       "59996  0.000000  0.000000  0.000000  0.000000  0.0  0.000000  0.0  0.0  0.0   \n",
       "59997  0.000000  0.000000  0.000000  0.000000  0.0  0.000000  0.0  0.0  0.0   \n",
       "59998  0.258824  0.211765  0.196078  0.019608  0.0  0.003922  0.0  0.0  0.0   \n",
       "59999  0.000000  0.000000  0.000000  0.000000  0.0  0.000000  0.0  0.0  0.0   \n",
       "\n",
       "       783  \n",
       "0      0.0  \n",
       "1      0.0  \n",
       "2      0.0  \n",
       "3      0.0  \n",
       "4      0.0  \n",
       "...    ...  \n",
       "59995  0.0  \n",
       "59996  0.0  \n",
       "59997  0.0  \n",
       "59998  0.0  \n",
       "59999  0.0  \n",
       "\n",
       "[60000 rows x 784 columns]"
      ]
     },
     "execution_count": 2,
     "metadata": {},
     "output_type": "execute_result"
    }
   ],
   "source": [
    "dataset = np.load('fashion_mnist_dataset_train.npy', allow_pickle=True)\n",
    "data_dict = np.array(dataset)\n",
    "\n",
    "values = data_dict[()]['features']\n",
    "labels = data_dict[()]['target']\n",
    "\n",
    "features = []\n",
    "for i in range(60000):\n",
    "    features.append(values[i].flatten())\n",
    "features = np.array(features)\n",
    "\n",
    "final_features = pd.DataFrame(features)\n",
    "final_features"
   ]
  },
  {
   "cell_type": "code",
   "execution_count": 3,
   "id": "parental-capture",
   "metadata": {},
   "outputs": [],
   "source": [
    "from sklearn.preprocessing import OneHotEncoder\n",
    "labels = pd.DataFrame(labels, columns = ['output'])"
   ]
  },
  {
   "cell_type": "code",
   "execution_count": 4,
   "id": "desperate-hindu",
   "metadata": {},
   "outputs": [],
   "source": [
    "categorical_cols = ['output']\n",
    "encoder = OneHotEncoder(categories = \"auto\", handle_unknown=\"error\", sparse = False)\n",
    "encoded_labels = encoder.fit_transform(labels[categorical_cols])"
   ]
  },
  {
   "cell_type": "code",
   "execution_count": 5,
   "id": "western-equality",
   "metadata": {},
   "outputs": [],
   "source": [
    "from sklearn.model_selection import train_test_split\n",
    "X_train, X_test, y_train, y_test = train_test_split(final_features, encoded_labels, test_size = 0.1, random_state = 0)\n",
    "X_train = np.array(X_train)\n",
    "X_test = np.array(X_test)\n",
    "X_train = X_train.reshape((X_train.shape[0], 28, 28, 1))\n",
    "X_test = X_test.reshape((X_test.shape[0], 28, 28, 1))"
   ]
  },
  {
   "cell_type": "markdown",
   "id": "seasonal-found",
   "metadata": {},
   "source": [
    "## CNN MODEL 1 (BEST PERFORMING ARCHITECTURE)\n",
    "## ACTIVATION FUNCTION 1: RELU\n",
    "## OPTIMIZATION ALGORITHM 1: ADAM"
   ]
  },
  {
   "cell_type": "code",
   "execution_count": 6,
   "id": "hawaiian-westminster",
   "metadata": {},
   "outputs": [],
   "source": [
    "# Set up some params \n",
    "# Set up some params \n",
    "nb_epoch = 100      # number of epochs to train on\n",
    "batch_size = 600    # training batch size\n",
    "drop_rate_1 = 0.15  # Dropping Rate\n",
    "\n",
    "cnn = tf.keras.models.Sequential()\n",
    "cnn.add(tf.keras.layers.Conv2D(filters = 96, kernel_size = 2, activation = 'relu', input_shape = [28,28,1]))\n",
    "cnn.add(tf.keras.layers.MaxPooling2D(pool_size = 2))\n",
    "cnn.add(tf.keras.layers.BatchNormalization())\n",
    "cnn.add(Dropout(drop_rate_1))\n",
    "\n",
    "cnn.add(tf.keras.layers.Conv2D(filters = 256, kernel_size = 4, activation = 'relu',))\n",
    "cnn.add(tf.keras.layers.MaxPool2D(pool_size = 2))\n",
    "\n",
    "cnn.add(tf.keras.layers.Flatten())\n",
    "\n",
    "#input layer and first hidden layer\n",
    "cnn.add(tf.keras.layers.Dense(units = 512, activation = 'relu'))\n",
    "\n",
    "\n",
    "# second and third hidden layer\n",
    "cnn.add(tf.keras.layers.Dense(units = 256, activation = 'relu'))\n",
    "cnn.add(tf.keras.layers.Dense(units = 128, activation = 'relu'))\n",
    "cnn.add(tf.keras.layers.Dense(units = 5, activation = 'softmax'))"
   ]
  },
  {
   "cell_type": "code",
   "execution_count": 7,
   "id": "relative-conditions",
   "metadata": {},
   "outputs": [
    {
     "name": "stdout",
     "output_type": "stream",
     "text": [
      "Model: \"sequential\"\n",
      "_________________________________________________________________\n",
      "Layer (type)                 Output Shape              Param #   \n",
      "=================================================================\n",
      "conv2d (Conv2D)              (None, 27, 27, 96)        480       \n",
      "_________________________________________________________________\n",
      "max_pooling2d (MaxPooling2D) (None, 13, 13, 96)        0         \n",
      "_________________________________________________________________\n",
      "batch_normalization (BatchNo (None, 13, 13, 96)        384       \n",
      "_________________________________________________________________\n",
      "dropout (Dropout)            (None, 13, 13, 96)        0         \n",
      "_________________________________________________________________\n",
      "conv2d_1 (Conv2D)            (None, 10, 10, 256)       393472    \n",
      "_________________________________________________________________\n",
      "max_pooling2d_1 (MaxPooling2 (None, 5, 5, 256)         0         \n",
      "_________________________________________________________________\n",
      "flatten (Flatten)            (None, 6400)              0         \n",
      "_________________________________________________________________\n",
      "dense (Dense)                (None, 512)               3277312   \n",
      "_________________________________________________________________\n",
      "dense_1 (Dense)              (None, 256)               131328    \n",
      "_________________________________________________________________\n",
      "dense_2 (Dense)              (None, 128)               32896     \n",
      "_________________________________________________________________\n",
      "dense_3 (Dense)              (None, 5)                 645       \n",
      "=================================================================\n",
      "Total params: 3,836,517\n",
      "Trainable params: 3,836,325\n",
      "Non-trainable params: 192\n",
      "_________________________________________________________________\n"
     ]
    }
   ],
   "source": [
    "cnn.summary()"
   ]
  },
  {
   "cell_type": "code",
   "execution_count": 8,
   "id": "continental-orientation",
   "metadata": {},
   "outputs": [],
   "source": [
    "# Compiling the model \n",
    "cnn.compile(loss='categorical_crossentropy', optimizer='adam', metrics=['accuracy'])"
   ]
  },
  {
   "cell_type": "code",
   "execution_count": 9,
   "id": "streaming-female",
   "metadata": {},
   "outputs": [
    {
     "name": "stdout",
     "output_type": "stream",
     "text": [
      "Epoch 1/100\n",
      "81/81 [==============================] - ETA: 0s - loss: 0.8264 - accuracy: 0.6874\n",
      "Epoch 00001: val_loss improved from inf to 1.49754, saving model to best_model_2.wts.h5\n",
      "81/81 [==============================] - 118s 1s/step - loss: 0.8264 - accuracy: 0.6874 - val_loss: 1.4975 - val_accuracy: 0.6752\n",
      "Epoch 2/100\n",
      "81/81 [==============================] - ETA: 0s - loss: 0.4262 - accuracy: 0.8301\n",
      "Epoch 00002: val_loss improved from 1.49754 to 1.41948, saving model to best_model_2.wts.h5\n",
      "81/81 [==============================] - 119s 1s/step - loss: 0.4262 - accuracy: 0.8301 - val_loss: 1.4195 - val_accuracy: 0.7628\n",
      "Epoch 3/100\n",
      "81/81 [==============================] - ETA: 0s - loss: 0.3255 - accuracy: 0.8699\n",
      "Epoch 00003: val_loss improved from 1.41948 to 1.27396, saving model to best_model_2.wts.h5\n",
      "81/81 [==============================] - 131s 2s/step - loss: 0.3255 - accuracy: 0.8699 - val_loss: 1.2740 - val_accuracy: 0.8283\n",
      "Epoch 4/100\n",
      "81/81 [==============================] - ETA: 0s - loss: 0.2723 - accuracy: 0.8913\n",
      "Epoch 00004: val_loss improved from 1.27396 to 1.06438, saving model to best_model_2.wts.h5\n",
      "81/81 [==============================] - 119s 1s/step - loss: 0.2723 - accuracy: 0.8913 - val_loss: 1.0644 - val_accuracy: 0.8361\n",
      "Epoch 5/100\n",
      "81/81 [==============================] - ETA: 0s - loss: 0.2407 - accuracy: 0.9038\n",
      "Epoch 00005: val_loss improved from 1.06438 to 0.74108, saving model to best_model_2.wts.h5\n",
      "81/81 [==============================] - 123s 2s/step - loss: 0.2407 - accuracy: 0.9038 - val_loss: 0.7411 - val_accuracy: 0.8794\n",
      "Epoch 6/100\n",
      "81/81 [==============================] - ETA: 0s - loss: 0.2194 - accuracy: 0.9134\n",
      "Epoch 00006: val_loss improved from 0.74108 to 0.51451, saving model to best_model_2.wts.h5\n",
      "81/81 [==============================] - 120s 1s/step - loss: 0.2194 - accuracy: 0.9134 - val_loss: 0.5145 - val_accuracy: 0.8930\n",
      "Epoch 7/100\n",
      "81/81 [==============================] - ETA: 0s - loss: 0.2010 - accuracy: 0.9197\n",
      "Epoch 00007: val_loss improved from 0.51451 to 0.34394, saving model to best_model_2.wts.h5\n",
      "81/81 [==============================] - 118s 1s/step - loss: 0.2010 - accuracy: 0.9197 - val_loss: 0.3439 - val_accuracy: 0.8859\n",
      "Epoch 8/100\n",
      "81/81 [==============================] - ETA: 0s - loss: 0.1848 - accuracy: 0.9270\n",
      "Epoch 00008: val_loss improved from 0.34394 to 0.26517, saving model to best_model_2.wts.h5\n",
      "81/81 [==============================] - 118s 1s/step - loss: 0.1848 - accuracy: 0.9270 - val_loss: 0.2652 - val_accuracy: 0.8991\n",
      "Epoch 9/100\n",
      "81/81 [==============================] - ETA: 0s - loss: 0.1841 - accuracy: 0.9266\n",
      "Epoch 00009: val_loss improved from 0.26517 to 0.22794, saving model to best_model_2.wts.h5\n",
      "81/81 [==============================] - 119s 1s/step - loss: 0.1841 - accuracy: 0.9266 - val_loss: 0.2279 - val_accuracy: 0.9137\n",
      "Epoch 10/100\n",
      "81/81 [==============================] - ETA: 0s - loss: 0.1517 - accuracy: 0.9393\n",
      "Epoch 00010: val_loss did not improve from 0.22794\n",
      "81/81 [==============================] - 120s 1s/step - loss: 0.1517 - accuracy: 0.9393 - val_loss: 0.2393 - val_accuracy: 0.9100\n",
      "Epoch 11/100\n",
      "81/81 [==============================] - ETA: 0s - loss: 0.1446 - accuracy: 0.9439\n",
      "Epoch 00011: val_loss improved from 0.22794 to 0.21739, saving model to best_model_2.wts.h5\n",
      "81/81 [==============================] - 117s 1s/step - loss: 0.1446 - accuracy: 0.9439 - val_loss: 0.2174 - val_accuracy: 0.9206\n",
      "Epoch 12/100\n",
      "81/81 [==============================] - ETA: 0s - loss: 0.1479 - accuracy: 0.9416\n",
      "Epoch 00012: val_loss did not improve from 0.21739\n",
      "81/81 [==============================] - 118s 1s/step - loss: 0.1479 - accuracy: 0.9416 - val_loss: 0.2210 - val_accuracy: 0.9163\n",
      "Epoch 13/100\n",
      "81/81 [==============================] - ETA: 0s - loss: 0.1299 - accuracy: 0.9498\n",
      "Epoch 00013: val_loss did not improve from 0.21739\n",
      "81/81 [==============================] - 117s 1s/step - loss: 0.1299 - accuracy: 0.9498 - val_loss: 0.4017 - val_accuracy: 0.8648\n",
      "Epoch 14/100\n",
      "81/81 [==============================] - ETA: 0s - loss: 0.1203 - accuracy: 0.9527\n",
      "Epoch 00014: val_loss did not improve from 0.21739\n",
      "81/81 [==============================] - 118s 1s/step - loss: 0.1203 - accuracy: 0.9527 - val_loss: 0.2507 - val_accuracy: 0.9139\n",
      "Epoch 15/100\n",
      "81/81 [==============================] - ETA: 0s - loss: 0.1122 - accuracy: 0.9564\n",
      "Epoch 00015: val_loss did not improve from 0.21739\n",
      "81/81 [==============================] - 118s 1s/step - loss: 0.1122 - accuracy: 0.9564 - val_loss: 0.2539 - val_accuracy: 0.9094\n",
      "Epoch 16/100\n",
      "81/81 [==============================] - ETA: 0s - loss: 0.0953 - accuracy: 0.9634\n",
      "Epoch 00016: val_loss did not improve from 0.21739\n",
      "81/81 [==============================] - 117s 1s/step - loss: 0.0953 - accuracy: 0.9634 - val_loss: 0.2352 - val_accuracy: 0.9241\n",
      "Epoch 00016: early stopping\n"
     ]
    }
   ],
   "source": [
    "# FIT METHOD TO TRAIN THE ANN ON TRAINING SET\n",
    "filepath = 'best_model_2.wts.h5'\n",
    "\n",
    "fitted_model = cnn.fit(X_train, y_train, batch_size=batch_size, epochs=nb_epoch, validation_split=0.1, callbacks = [ tf.keras.callbacks.ModelCheckpoint(filepath, monitor='val_loss', verbose=1, save_best_only=True, mode='auto'),\n",
    "        tf.keras.callbacks.EarlyStopping(monitor='val_loss', patience=5, verbose=1, mode='auto')])"
   ]
  },
  {
   "cell_type": "code",
   "execution_count": 10,
   "id": "united-quality",
   "metadata": {},
   "outputs": [
    {
     "name": "stdout",
     "output_type": "stream",
     "text": [
      "Model: \"sequential\"\n",
      "_________________________________________________________________\n",
      "Layer (type)                 Output Shape              Param #   \n",
      "=================================================================\n",
      "conv2d (Conv2D)              (None, 27, 27, 96)        480       \n",
      "_________________________________________________________________\n",
      "max_pooling2d (MaxPooling2D) (None, 13, 13, 96)        0         \n",
      "_________________________________________________________________\n",
      "batch_normalization (BatchNo (None, 13, 13, 96)        384       \n",
      "_________________________________________________________________\n",
      "dropout (Dropout)            (None, 13, 13, 96)        0         \n",
      "_________________________________________________________________\n",
      "conv2d_1 (Conv2D)            (None, 10, 10, 256)       393472    \n",
      "_________________________________________________________________\n",
      "max_pooling2d_1 (MaxPooling2 (None, 5, 5, 256)         0         \n",
      "_________________________________________________________________\n",
      "flatten (Flatten)            (None, 6400)              0         \n",
      "_________________________________________________________________\n",
      "dense (Dense)                (None, 512)               3277312   \n",
      "_________________________________________________________________\n",
      "dense_1 (Dense)              (None, 256)               131328    \n",
      "_________________________________________________________________\n",
      "dense_2 (Dense)              (None, 128)               32896     \n",
      "_________________________________________________________________\n",
      "dense_3 (Dense)              (None, 5)                 645       \n",
      "=================================================================\n",
      "Total params: 3,836,517\n",
      "Trainable params: 3,836,325\n",
      "Non-trainable params: 192\n",
      "_________________________________________________________________\n"
     ]
    }
   ],
   "source": [
    "cnn.summary()"
   ]
  },
  {
   "cell_type": "code",
   "execution_count": 11,
   "id": "sufficient-evaluation",
   "metadata": {},
   "outputs": [
    {
     "data": {
      "image/png": "[encoded data removed]",
      "text/plain": [
       "<Figure size 1296x360 with 2 Axes>"
      ]
     },
     "metadata": {},
     "output_type": "display_data"
    }
   ],
   "source": [
    "fig = plt.figure(figsize=(18,5))\n",
    "# summarize history for accuracy\n",
    "plt.subplot(121)\n",
    "plt.plot(fitted_model.history['accuracy'], c = 'green', label = 'train_acc')\n",
    "plt.plot(fitted_model.history['val_accuracy'], c = 'red', label = 'val_acc')\n",
    "plt.title('model-2 accuracy')\n",
    "plt.ylabel('accuracy')\n",
    "plt.legend()\n",
    "plt.xlabel('epoch')\n",
    "\n",
    "plt.subplot(122)\n",
    "# summarize history for loss\n",
    "plt.plot(fitted_model.history['loss'], label = 'train_loss')\n",
    "plt.plot(fitted_model.history['val_loss'], label = 'val_loss')\n",
    "plt.title('model-2 loss')\n",
    "plt.ylabel('loss')\n",
    "plt.legend()\n",
    "plt.xlabel('epoch')\n",
    "plt.show()"
   ]
  },
  {
   "cell_type": "code",
   "execution_count": 12,
   "id": "spread-accommodation",
   "metadata": {},
   "outputs": [
    {
     "name": "stdout",
     "output_type": "stream",
     "text": [
      "Mean val acc: 0.870787039399147\n",
      "Mean val loss: 0.572948538698256\n",
      "Mean train acc: 0.9072672352194786\n",
      "Mean train loss: 0.2363970410078764\n"
     ]
    }
   ],
   "source": [
    "print(\"Mean val acc:\", np.mean(fitted_model.history['val_accuracy']))\n",
    "print(\"Mean val loss:\", np.mean(fitted_model.history['val_loss']))\n",
    "print(\"Mean train acc:\", np.mean(fitted_model.history['accuracy']))\n",
    "print(\"Mean train loss:\", np.mean(fitted_model.history['loss']))"
   ]
  },
  {
   "cell_type": "code",
   "execution_count": 13,
   "id": "6c326ec8",
   "metadata": {},
   "outputs": [],
   "source": [
    "# we re-load the best weights once training is finished\n",
    "filepath = 'best_model_2.wts.h5'\n",
    "cnn.load_weights(filepath)"
   ]
  },
  {
   "cell_type": "code",
   "execution_count": 14,
   "id": "subject-bracket",
   "metadata": {},
   "outputs": [
    {
     "data": {
      "text/plain": [
       "array([[0., 1., 0., 0., 0.],\n",
       "       [0., 0., 1., 0., 0.],\n",
       "       [0., 1., 0., 0., 0.],\n",
       "       ...,\n",
       "       [0., 0., 0., 0., 1.],\n",
       "       [0., 1., 0., 0., 0.],\n",
       "       [0., 0., 0., 0., 1.]], dtype=float32)"
      ]
     },
     "execution_count": 14,
     "metadata": {},
     "output_type": "execute_result"
    }
   ],
   "source": [
    "y_pred = cnn.predict(X_test)\n",
    "\n",
    "for i in range(0,len(y_pred)):\n",
    "    temp = max(y_pred[i])\n",
    "    for j in range(5):\n",
    "        if y_pred[i][j] == temp:\n",
    "            y_pred[i][j] = 1\n",
    "        else:\n",
    "            y_pred[i][j] = 0 \n",
    "            \n",
    "y_pred"
   ]
  },
  {
   "cell_type": "code",
   "execution_count": 15,
   "id": "parental-steel",
   "metadata": {},
   "outputs": [],
   "source": [
    "true_values = []\n",
    "for i in range(0, len(y_test)):\n",
    "    for j in range(5):\n",
    "        if y_test[i][j] == 1:\n",
    "            if j == 0:\n",
    "                true_values.append('1')\n",
    "            elif j == 1:\n",
    "                true_values.append('2')\n",
    "            elif j == 2:\n",
    "                true_values.append('3')\n",
    "            elif j == 3:\n",
    "                true_values.append('4')\n",
    "            elif j == 4:\n",
    "                true_values.append('5')"
   ]
  },
  {
   "cell_type": "code",
   "execution_count": 16,
   "id": "certified-local",
   "metadata": {},
   "outputs": [],
   "source": [
    "result = []\n",
    "for i in range(0, len(y_pred)):\n",
    "    for j in range(5):\n",
    "        if y_pred[i][j] == 1:\n",
    "            if j == 0:\n",
    "                result.append('1')\n",
    "            elif j == 1:\n",
    "                result.append('2')\n",
    "            elif j == 2:\n",
    "                result.append('3')\n",
    "            elif j == 3:\n",
    "                result.append('4')\n",
    "            elif j == 4:\n",
    "                result.append('5')"
   ]
  },
  {
   "cell_type": "code",
   "execution_count": 17,
   "id": "iraqi-timing",
   "metadata": {},
   "outputs": [
    {
     "data": {
      "text/plain": [
       "0.9168333333333333"
      ]
     },
     "execution_count": 17,
     "metadata": {},
     "output_type": "execute_result"
    }
   ],
   "source": [
    "from sklearn.metrics import confusion_matrix, accuracy_score\n",
    "accuracy_score(true_values, result)"
   ]
  },
  {
   "cell_type": "markdown",
   "id": "c5e71ee2",
   "metadata": {},
   "source": [
    "<P>We observe that there our model gives an accuracy of 91.68% on the test set, which is very close to the accuracies obtained on the training and the validation sets.</P>"
   ]
  },
  {
   "cell_type": "markdown",
   "id": "d7a852af",
   "metadata": {},
   "source": [
    "## CNN MODEL 2"
   ]
  },
  {
   "cell_type": "code",
   "execution_count": 18,
   "id": "50613452",
   "metadata": {},
   "outputs": [],
   "source": [
    "# Set up some params \n",
    "nb_epoch = 100      # number of epochs to train on\n",
    "batch_size = 600    # training batch size\n",
    "drop_rate_1 = 0.25  # Dropping Rate\n",
    "\n",
    "cnn_2 = tf.keras.models.Sequential()\n",
    "cnn_2.add(tf.keras.layers.Conv2D(filters = 256, kernel_size = 2, strides = (2,2), padding='valid', activation = 'relu', input_shape = [28,28,1]))\n",
    "cnn_2.add(tf.keras.layers.Conv2D(filters = 96, kernel_size = 7, strides = (2,2), padding='valid', activation = 'relu', input_shape = [28,28,1]))\n",
    "cnn_2.add(tf.keras.layers.MaxPool2D(pool_size = 2, strides = 2, padding='valid'))\n",
    "cnn_2.add(Dropout(drop_rate_1))\n",
    "\n",
    "cnn_2.add(tf.keras.layers.Flatten())\n",
    "\n",
    "#input layer and first hidden layer\n",
    "cnn_2.add(tf.keras.layers.Dense(units = 512, activation = 'relu'))\n",
    "\n",
    "\n",
    "# second and third hidden layer\n",
    "cnn_2.add(tf.keras.layers.Dense(units = 256, activation = 'relu'))\n",
    "cnn_2.add(tf.keras.layers.Dense(units = 128, activation = 'relu'))\n",
    "cnn_2.add(tf.keras.layers.Dense(units = 5, activation = 'softmax'))"
   ]
  },
  {
   "cell_type": "code",
   "execution_count": 19,
   "id": "49c8e157",
   "metadata": {},
   "outputs": [],
   "source": [
    "# Compiling the model \n",
    "cnn_2.compile(loss='categorical_crossentropy', optimizer='adam', metrics=['accuracy'])"
   ]
  },
  {
   "cell_type": "code",
   "execution_count": 20,
   "id": "209534e2",
   "metadata": {},
   "outputs": [
    {
     "name": "stdout",
     "output_type": "stream",
     "text": [
      "Epoch 1/100\n",
      "81/81 [==============================] - 64s 791ms/step - loss: 0.8215 - accuracy: 0.6469 - val_loss: 0.5522 - val_accuracy: 0.7772\n",
      "Epoch 2/100\n",
      "81/81 [==============================] - 66s 810ms/step - loss: 0.4912 - accuracy: 0.8023 - val_loss: 0.4015 - val_accuracy: 0.8426\n",
      "Epoch 3/100\n",
      "81/81 [==============================] - 65s 807ms/step - loss: 0.4062 - accuracy: 0.8355 - val_loss: 0.3666 - val_accuracy: 0.8494\n",
      "Epoch 4/100\n",
      "81/81 [==============================] - 64s 794ms/step - loss: 0.3546 - accuracy: 0.8570 - val_loss: 0.3242 - val_accuracy: 0.8737\n",
      "Epoch 5/100\n",
      "81/81 [==============================] - 65s 808ms/step - loss: 0.3364 - accuracy: 0.8636 - val_loss: 0.3088 - val_accuracy: 0.8778\n",
      "Epoch 6/100\n",
      "81/81 [==============================] - 65s 798ms/step - loss: 0.3122 - accuracy: 0.8745 - val_loss: 0.2971 - val_accuracy: 0.8848\n",
      "Epoch 7/100\n",
      "81/81 [==============================] - 64s 796ms/step - loss: 0.3000 - accuracy: 0.8800 - val_loss: 0.2977 - val_accuracy: 0.8811\n",
      "Epoch 8/100\n",
      "81/81 [==============================] - 64s 793ms/step - loss: 0.2759 - accuracy: 0.8888 - val_loss: 0.3101 - val_accuracy: 0.8778\n",
      "Epoch 9/100\n",
      "81/81 [==============================] - 65s 797ms/step - loss: 0.2663 - accuracy: 0.8936 - val_loss: 0.2676 - val_accuracy: 0.8941\n",
      "Epoch 10/100\n",
      "81/81 [==============================] - 65s 799ms/step - loss: 0.2493 - accuracy: 0.9012 - val_loss: 0.2821 - val_accuracy: 0.8926\n",
      "Epoch 11/100\n",
      "81/81 [==============================] - 66s 811ms/step - loss: 0.2366 - accuracy: 0.9053 - val_loss: 0.2541 - val_accuracy: 0.8994\n",
      "Epoch 12/100\n",
      "81/81 [==============================] - 70s 858ms/step - loss: 0.2310 - accuracy: 0.9074 - val_loss: 0.3138 - val_accuracy: 0.8733\n",
      "Epoch 13/100\n",
      "81/81 [==============================] - 66s 819ms/step - loss: 0.2231 - accuracy: 0.9104 - val_loss: 0.2617 - val_accuracy: 0.8978\n",
      "Epoch 14/100\n",
      "81/81 [==============================] - 68s 835ms/step - loss: 0.2129 - accuracy: 0.9142 - val_loss: 0.2595 - val_accuracy: 0.8974\n",
      "Epoch 15/100\n",
      "81/81 [==============================] - 68s 845ms/step - loss: 0.2146 - accuracy: 0.9143 - val_loss: 0.2590 - val_accuracy: 0.8996\n",
      "Epoch 16/100\n",
      "81/81 [==============================] - 66s 819ms/step - loss: 0.1967 - accuracy: 0.9224 - val_loss: 0.2587 - val_accuracy: 0.8993\n"
     ]
    }
   ],
   "source": [
    "from tensorflow.keras.callbacks import EarlyStopping\n",
    "\n",
    "callback = EarlyStopping(monitor='val_loss', patience = 5)\n",
    "\n",
    "fitted_model_2 = cnn_2.fit(X_train, y_train, batch_size=batch_size, epochs=nb_epoch, validation_split=0.1, callbacks = [ callback ])"
   ]
  },
  {
   "cell_type": "code",
   "execution_count": 21,
   "id": "99716982",
   "metadata": {},
   "outputs": [
    {
     "name": "stdout",
     "output_type": "stream",
     "text": [
      "Model: \"sequential_1\"\n",
      "_________________________________________________________________\n",
      "Layer (type)                 Output Shape              Param #   \n",
      "=================================================================\n",
      "conv2d_2 (Conv2D)            (None, 14, 14, 256)       1280      \n",
      "_________________________________________________________________\n",
      "conv2d_3 (Conv2D)            (None, 4, 4, 96)          1204320   \n",
      "_________________________________________________________________\n",
      "max_pooling2d_2 (MaxPooling2 (None, 2, 2, 96)          0         \n",
      "_________________________________________________________________\n",
      "dropout_1 (Dropout)          (None, 2, 2, 96)          0         \n",
      "_________________________________________________________________\n",
      "flatten_1 (Flatten)          (None, 384)               0         \n",
      "_________________________________________________________________\n",
      "dense_4 (Dense)              (None, 512)               197120    \n",
      "_________________________________________________________________\n",
      "dense_5 (Dense)              (None, 256)               131328    \n",
      "_________________________________________________________________\n",
      "dense_6 (Dense)              (None, 128)               32896     \n",
      "_________________________________________________________________\n",
      "dense_7 (Dense)              (None, 5)                 645       \n",
      "=================================================================\n",
      "Total params: 1,567,589\n",
      "Trainable params: 1,567,589\n",
      "Non-trainable params: 0\n",
      "_________________________________________________________________\n"
     ]
    }
   ],
   "source": [
    "cnn_2.summary()"
   ]
  },
  {
   "cell_type": "code",
   "execution_count": 22,
   "id": "e557002c",
   "metadata": {},
   "outputs": [
    {
     "data": {
      "image/png": "[encoded data removed]",
      "text/plain": [
       "<Figure size 1296x360 with 2 Axes>"
      ]
     },
     "metadata": {},
     "output_type": "display_data"
    }
   ],
   "source": [
    "fig = plt.figure(figsize=(18,5))\n",
    "# summarize history for accuracy\n",
    "plt.subplot(121)\n",
    "plt.plot(fitted_model_2.history['accuracy'], c = 'green', label = 'train_acc')\n",
    "plt.plot(fitted_model_2.history['val_accuracy'], c = 'red', label = 'val_acc')\n",
    "plt.title('model-2 accuracy')\n",
    "plt.ylabel('accuracy')\n",
    "plt.legend()\n",
    "plt.xlabel('epoch')\n",
    "\n",
    "plt.subplot(122)\n",
    "# summarize history for loss\n",
    "plt.plot(fitted_model_2.history['loss'], label = 'train_loss')\n",
    "plt.plot(fitted_model_2.history['val_loss'], label = 'val_loss')\n",
    "plt.title('model-2 loss')\n",
    "plt.ylabel('loss')\n",
    "plt.legend()\n",
    "plt.xlabel('epoch')\n",
    "plt.show()"
   ]
  },
  {
   "cell_type": "code",
   "execution_count": 23,
   "id": "cd249a77",
   "metadata": {},
   "outputs": [
    {
     "name": "stdout",
     "output_type": "stream",
     "text": [
      "Mean val acc: 0.8761226870119572\n",
      "Mean val loss: 0.31343600898981094\n",
      "Mean train acc: 0.8698456771671772\n",
      "Mean train loss: 0.3205251833423972\n"
     ]
    }
   ],
   "source": [
    "print(\"Mean val acc:\", np.mean(fitted_model_2.history['val_accuracy']))\n",
    "print(\"Mean val loss:\", np.mean(fitted_model_2.history['val_loss']))\n",
    "print(\"Mean train acc:\", np.mean(fitted_model_2.history['accuracy']))\n",
    "print(\"Mean train loss:\", np.mean(fitted_model_2.history['loss']))"
   ]
  },
  {
   "cell_type": "code",
   "execution_count": 24,
   "id": "a53ffaa3",
   "metadata": {},
   "outputs": [],
   "source": [
    "y_pred = cnn_2.predict(X_test)\n",
    "\n",
    "for i in range(0,len(y_pred)):\n",
    "    temp = max(y_pred[i])\n",
    "    for j in range(5):\n",
    "        if y_pred[i][j] == temp:\n",
    "            y_pred[i][j] = 1\n",
    "        else:\n",
    "            y_pred[i][j] = 0 \n",
    "            \n",
    "true_values = []\n",
    "for i in range(0, len(y_test)):\n",
    "    for j in range(5):\n",
    "        if y_test[i][j] == 1:\n",
    "            if j == 0:\n",
    "                true_values.append('1')\n",
    "            elif j == 1:\n",
    "                true_values.append('2')\n",
    "            elif j == 2:\n",
    "                true_values.append('3')\n",
    "            elif j == 3:\n",
    "                true_values.append('4')\n",
    "            elif j == 4:\n",
    "                true_values.append('5')\n",
    "                \n",
    "result = []\n",
    "for i in range(0, len(y_pred)):\n",
    "    for j in range(5):\n",
    "        if y_pred[i][j] == 1:\n",
    "            if j == 0:\n",
    "                result.append('1')\n",
    "            elif j == 1:\n",
    "                result.append('2')\n",
    "            elif j == 2:\n",
    "                result.append('3')\n",
    "            elif j == 3:\n",
    "                result.append('4')\n",
    "            elif j == 4:\n",
    "                result.append('5')"
   ]
  },
  {
   "cell_type": "code",
   "execution_count": 25,
   "id": "c419b1df",
   "metadata": {},
   "outputs": [
    {
     "data": {
      "text/plain": [
       "0.904"
      ]
     },
     "execution_count": 25,
     "metadata": {},
     "output_type": "execute_result"
    }
   ],
   "source": [
    "from sklearn.metrics import confusion_matrix, accuracy_score\n",
    "accuracy_score(true_values, result)"
   ]
  },
  {
   "cell_type": "markdown",
   "id": "71bfb54f",
   "metadata": {},
   "source": [
    "<P>We observe that there our model gives an accuracy of 90.40% on the test set, which is very close to the accuracies obtained on the training and the validation sets.</P>"
   ]
  },
  {
   "cell_type": "markdown",
   "id": "9fc6f60f",
   "metadata": {},
   "source": [
    "## CNN MODEL 3"
   ]
  },
  {
   "cell_type": "code",
   "execution_count": 26,
   "id": "3ce11dc0",
   "metadata": {},
   "outputs": [],
   "source": [
    "# Set up some params \n",
    "# Set up some params \n",
    "nb_epoch = 100      # number of epochs to train on\n",
    "batch_size = 600    # training batch size\n",
    "drop_rate_1 = 0.15  # Dropping Rate\n",
    "\n",
    "cnn_3 = tf.keras.models.Sequential()\n",
    "cnn_3.add(tf.keras.layers.Conv2D(filters = 32, kernel_size = 2, activation = 'relu', input_shape = [28,28,1]))\n",
    "cnn_3.add(tf.keras.layers.MaxPooling2D(pool_size = 2))\n",
    "cnn_3.add(tf.keras.layers.BatchNormalization())\n",
    "cnn_3.add(Dropout(drop_rate_1))\n",
    "\n",
    "cnn_3.add(tf.keras.layers.Conv2D(filters = 64, kernel_size = 4, activation = 'relu'))\n",
    "cnn_3.add(tf.keras.layers.MaxPooling2D(pool_size = 2))\n",
    "cnn_3.add(tf.keras.layers.BatchNormalization())\n",
    "cnn_3.add(Dropout(drop_rate_1))\n",
    "\n",
    "cnn_3.add(tf.keras.layers.Conv2D(filters = 128, kernel_size = 2, activation = 'relu'))\n",
    "cnn_3.add(tf.keras.layers.MaxPool2D(pool_size = 2))\n",
    "\n",
    "cnn_3.add(tf.keras.layers.Flatten())\n",
    "\n",
    "#input layer and first hidden layer\n",
    "cnn_3.add(tf.keras.layers.Dense(units = 512, activation = 'relu'))\n",
    "\n",
    "\n",
    "# second and third hidden layer\n",
    "cnn_3.add(tf.keras.layers.Dense(units = 256, activation = 'relu'))\n",
    "cnn_3.add(tf.keras.layers.Dense(units = 128, activation = 'relu'))\n",
    "cnn_3.add(tf.keras.layers.Dense(units = 5, activation = 'softmax'))\n",
    "\n",
    "# Compiling the model \n",
    "cnn_3.compile(loss='categorical_crossentropy', optimizer='adam', metrics=['accuracy'])"
   ]
  },
  {
   "cell_type": "code",
   "execution_count": 27,
   "id": "fd0807e4",
   "metadata": {},
   "outputs": [
    {
     "name": "stdout",
     "output_type": "stream",
     "text": [
      "Model: \"sequential_2\"\n",
      "_________________________________________________________________\n",
      "Layer (type)                 Output Shape              Param #   \n",
      "=================================================================\n",
      "conv2d_4 (Conv2D)            (None, 27, 27, 32)        160       \n",
      "_________________________________________________________________\n",
      "max_pooling2d_3 (MaxPooling2 (None, 13, 13, 32)        0         \n",
      "_________________________________________________________________\n",
      "batch_normalization_1 (Batch (None, 13, 13, 32)        128       \n",
      "_________________________________________________________________\n",
      "dropout_2 (Dropout)          (None, 13, 13, 32)        0         \n",
      "_________________________________________________________________\n",
      "conv2d_5 (Conv2D)            (None, 10, 10, 64)        32832     \n",
      "_________________________________________________________________\n",
      "max_pooling2d_4 (MaxPooling2 (None, 5, 5, 64)          0         \n",
      "_________________________________________________________________\n",
      "batch_normalization_2 (Batch (None, 5, 5, 64)          256       \n",
      "_________________________________________________________________\n",
      "dropout_3 (Dropout)          (None, 5, 5, 64)          0         \n",
      "_________________________________________________________________\n",
      "conv2d_6 (Conv2D)            (None, 4, 4, 128)         32896     \n",
      "_________________________________________________________________\n",
      "max_pooling2d_5 (MaxPooling2 (None, 2, 2, 128)         0         \n",
      "_________________________________________________________________\n",
      "flatten_2 (Flatten)          (None, 512)               0         \n",
      "_________________________________________________________________\n",
      "dense_8 (Dense)              (None, 512)               262656    \n",
      "_________________________________________________________________\n",
      "dense_9 (Dense)              (None, 256)               131328    \n",
      "_________________________________________________________________\n",
      "dense_10 (Dense)             (None, 128)               32896     \n",
      "_________________________________________________________________\n",
      "dense_11 (Dense)             (None, 5)                 645       \n",
      "=================================================================\n",
      "Total params: 493,797\n",
      "Trainable params: 493,605\n",
      "Non-trainable params: 192\n",
      "_________________________________________________________________\n"
     ]
    }
   ],
   "source": [
    "cnn_3.summary()"
   ]
  },
  {
   "cell_type": "code",
   "execution_count": 28,
   "id": "6f922835",
   "metadata": {},
   "outputs": [
    {
     "name": "stdout",
     "output_type": "stream",
     "text": [
      "Epoch 1/100\n",
      "81/81 [==============================] - 21s 258ms/step - loss: 0.6091 - accuracy: 0.7524 - val_loss: 1.7823 - val_accuracy: 0.2004\n",
      "Epoch 2/100\n",
      "81/81 [==============================] - 23s 282ms/step - loss: 0.3909 - accuracy: 0.8403 - val_loss: 1.9473 - val_accuracy: 0.2004\n",
      "Epoch 3/100\n",
      "81/81 [==============================] - 23s 283ms/step - loss: 0.3246 - accuracy: 0.8691 - val_loss: 1.7474 - val_accuracy: 0.3454\n",
      "Epoch 4/100\n",
      "81/81 [==============================] - 21s 265ms/step - loss: 0.3015 - accuracy: 0.8774 - val_loss: 1.6591 - val_accuracy: 0.3330\n",
      "Epoch 5/100\n",
      "81/81 [==============================] - 22s 277ms/step - loss: 0.2848 - accuracy: 0.8853 - val_loss: 1.1966 - val_accuracy: 0.5335\n",
      "Epoch 6/100\n",
      "81/81 [==============================] - 23s 289ms/step - loss: 0.2564 - accuracy: 0.8982 - val_loss: 0.9711 - val_accuracy: 0.6580\n",
      "Epoch 7/100\n",
      "81/81 [==============================] - 23s 280ms/step - loss: 0.2463 - accuracy: 0.9018 - val_loss: 0.6641 - val_accuracy: 0.7676\n",
      "Epoch 8/100\n",
      "81/81 [==============================] - 23s 279ms/step - loss: 0.2354 - accuracy: 0.9052 - val_loss: 0.7022 - val_accuracy: 0.7702\n",
      "Epoch 9/100\n",
      "81/81 [==============================] - 22s 277ms/step - loss: 0.2269 - accuracy: 0.9104 - val_loss: 0.4450 - val_accuracy: 0.8424\n",
      "Epoch 10/100\n",
      "81/81 [==============================] - 22s 278ms/step - loss: 0.2320 - accuracy: 0.9064 - val_loss: 0.5971 - val_accuracy: 0.8015\n",
      "Epoch 11/100\n",
      "81/81 [==============================] - 23s 281ms/step - loss: 0.2093 - accuracy: 0.9156 - val_loss: 0.2802 - val_accuracy: 0.8861\n",
      "Epoch 12/100\n",
      "81/81 [==============================] - 23s 279ms/step - loss: 0.2067 - accuracy: 0.9170 - val_loss: 0.3381 - val_accuracy: 0.8726\n",
      "Epoch 13/100\n",
      "81/81 [==============================] - 22s 275ms/step - loss: 0.1967 - accuracy: 0.9214 - val_loss: 0.2732 - val_accuracy: 0.8898\n",
      "Epoch 14/100\n",
      "81/81 [==============================] - 22s 269ms/step - loss: 0.1998 - accuracy: 0.9193 - val_loss: 0.2466 - val_accuracy: 0.9054\n",
      "Epoch 15/100\n",
      "81/81 [==============================] - 22s 267ms/step - loss: 0.1879 - accuracy: 0.9239 - val_loss: 0.4659 - val_accuracy: 0.8474\n",
      "Epoch 16/100\n",
      "81/81 [==============================] - 22s 269ms/step - loss: 0.1856 - accuracy: 0.9259 - val_loss: 0.2525 - val_accuracy: 0.9033\n",
      "Epoch 17/100\n",
      "81/81 [==============================] - 22s 268ms/step - loss: 0.1759 - accuracy: 0.9296 - val_loss: 0.2249 - val_accuracy: 0.9124\n",
      "Epoch 18/100\n",
      "81/81 [==============================] - 22s 269ms/step - loss: 0.1747 - accuracy: 0.9298 - val_loss: 0.2307 - val_accuracy: 0.9107\n",
      "Epoch 19/100\n",
      "81/81 [==============================] - 23s 280ms/step - loss: 0.1623 - accuracy: 0.9350 - val_loss: 0.2317 - val_accuracy: 0.9156\n",
      "Epoch 20/100\n",
      "81/81 [==============================] - 27s 333ms/step - loss: 0.1539 - accuracy: 0.9386 - val_loss: 0.2436 - val_accuracy: 0.9109\n",
      "Epoch 21/100\n",
      "81/81 [==============================] - 24s 301ms/step - loss: 0.1499 - accuracy: 0.9401 - val_loss: 0.2110 - val_accuracy: 0.9202\n",
      "Epoch 22/100\n",
      "81/81 [==============================] - 25s 310ms/step - loss: 0.1498 - accuracy: 0.9398 - val_loss: 0.4091 - val_accuracy: 0.8606\n",
      "Epoch 23/100\n",
      "81/81 [==============================] - 25s 303ms/step - loss: 0.1386 - accuracy: 0.9438 - val_loss: 0.3450 - val_accuracy: 0.8837\n",
      "Epoch 24/100\n",
      "81/81 [==============================] - 25s 309ms/step - loss: 0.1566 - accuracy: 0.9362 - val_loss: 0.2469 - val_accuracy: 0.9091\n",
      "Epoch 25/100\n",
      "81/81 [==============================] - 25s 310ms/step - loss: 0.1386 - accuracy: 0.9451 - val_loss: 0.2904 - val_accuracy: 0.8933\n",
      "Epoch 26/100\n",
      "81/81 [==============================] - 25s 305ms/step - loss: 0.1386 - accuracy: 0.9452 - val_loss: 0.2919 - val_accuracy: 0.8922\n",
      "Epoch 27/100\n",
      "81/81 [==============================] - 25s 303ms/step - loss: 0.1389 - accuracy: 0.9441 - val_loss: 0.2569 - val_accuracy: 0.9078\n",
      "Epoch 28/100\n",
      "81/81 [==============================] - 24s 301ms/step - loss: 0.1368 - accuracy: 0.9455 - val_loss: 0.2790 - val_accuracy: 0.9013\n",
      "Epoch 29/100\n",
      "81/81 [==============================] - 24s 300ms/step - loss: 0.1322 - accuracy: 0.9479 - val_loss: 0.2417 - val_accuracy: 0.9076\n",
      "Epoch 30/100\n",
      "81/81 [==============================] - 26s 316ms/step - loss: 0.1301 - accuracy: 0.9483 - val_loss: 0.2608 - val_accuracy: 0.9031\n",
      "Epoch 31/100\n",
      "81/81 [==============================] - 25s 308ms/step - loss: 0.1282 - accuracy: 0.9487 - val_loss: 0.3791 - val_accuracy: 0.8781\n"
     ]
    }
   ],
   "source": [
    "# FIT METHOD TO TRAIN THE ANN ON TRAINING SET\n",
    "#filepath = 'best_model_timepass.wts.h5'\n",
    "from tensorflow.keras.callbacks import EarlyStopping\n",
    "\n",
    "callback = EarlyStopping(monitor='val_loss', patience = 10)\n",
    "\n",
    "fitted_model_3 = cnn_3.fit(X_train, y_train, batch_size=batch_size, epochs=nb_epoch, validation_split=0.1, callbacks = [ callback ])"
   ]
  },
  {
   "cell_type": "code",
   "execution_count": 29,
   "id": "adf660db",
   "metadata": {},
   "outputs": [
    {
     "data": {
      "image/png": "[encoded data removed]",
      "text/plain": [
       "<Figure size 1296x360 with 2 Axes>"
      ]
     },
     "metadata": {},
     "output_type": "display_data"
    }
   ],
   "source": [
    "fig = plt.figure(figsize=(18,5))\n",
    "# summarize history for accuracy\n",
    "plt.subplot(121)\n",
    "plt.plot(fitted_model_3.history['accuracy'], c = 'green', label = 'train_acc')\n",
    "plt.plot(fitted_model_3.history['val_accuracy'], c = 'red', label = 'val_acc')\n",
    "plt.title('model-3 accuracy')\n",
    "plt.ylabel('accuracy')\n",
    "plt.legend()\n",
    "plt.xlabel('epoch')\n",
    "\n",
    "plt.subplot(122)\n",
    "# summarize history for loss\n",
    "plt.plot(fitted_model_3.history['loss'], label = 'train_loss')\n",
    "plt.plot(fitted_model_3.history['val_loss'], label = 'val_loss')\n",
    "plt.title('model-3 loss')\n",
    "plt.ylabel('loss')\n",
    "plt.legend()\n",
    "plt.xlabel('epoch')\n",
    "plt.show()"
   ]
  },
  {
   "cell_type": "code",
   "execution_count": 30,
   "id": "d93ae2bd",
   "metadata": {},
   "outputs": [
    {
     "name": "stdout",
     "output_type": "stream",
     "text": [
      "Mean val acc: 0.7826941436336886\n",
      "Mean train acc: 0.9157175056395992\n",
      "Mean val loss: 0.571339645693379\n",
      "Mean train loss: 0.20964131239921815\n"
     ]
    }
   ],
   "source": [
    "print(\"Mean val acc:\", np.mean(fitted_model_3.history['val_accuracy']))\n",
    "print(\"Mean train acc:\", np.mean(fitted_model_3.history['accuracy']))\n",
    "print(\"Mean val loss:\", np.mean(fitted_model_3.history['val_loss']))\n",
    "print(\"Mean train loss:\", np.mean(fitted_model_3.history['loss']))"
   ]
  },
  {
   "cell_type": "code",
   "execution_count": 31,
   "id": "c22d256e",
   "metadata": {},
   "outputs": [],
   "source": [
    "y_pred = cnn_3.predict(X_test)\n",
    "\n",
    "for i in range(0,len(y_pred)):\n",
    "    temp = max(y_pred[i])\n",
    "    for j in range(5):\n",
    "        if y_pred[i][j] == temp:\n",
    "            y_pred[i][j] = 1\n",
    "        else:\n",
    "            y_pred[i][j] = 0 \n",
    "            \n",
    "true_values = []\n",
    "for i in range(0, len(y_test)):\n",
    "    for j in range(5):\n",
    "        if y_test[i][j] == 1:\n",
    "            if j == 0:\n",
    "                true_values.append('1')\n",
    "            elif j == 1:\n",
    "                true_values.append('2')\n",
    "            elif j == 2:\n",
    "                true_values.append('3')\n",
    "            elif j == 3:\n",
    "                true_values.append('4')\n",
    "            elif j == 4:\n",
    "                true_values.append('5')\n",
    "result = []\n",
    "for i in range(0, len(y_pred)):\n",
    "    for j in range(5):\n",
    "        if y_pred[i][j] == 1:\n",
    "            if j == 0:\n",
    "                result.append('1')\n",
    "            elif j == 1:\n",
    "                result.append('2')\n",
    "            elif j == 2:\n",
    "                result.append('3')\n",
    "            elif j == 3:\n",
    "                result.append('4')\n",
    "            elif j == 4:\n",
    "                result.append('5')"
   ]
  },
  {
   "cell_type": "code",
   "execution_count": 32,
   "id": "06d23c9b",
   "metadata": {},
   "outputs": [
    {
     "data": {
      "text/plain": [
       "0.8773333333333333"
      ]
     },
     "execution_count": 32,
     "metadata": {},
     "output_type": "execute_result"
    }
   ],
   "source": [
    "from sklearn.metrics import confusion_matrix, accuracy_score\n",
    "accuracy_score(true_values, result)"
   ]
  },
  {
   "cell_type": "markdown",
   "id": "191a7392",
   "metadata": {},
   "source": [
    "<P>We observe that there our model gives an accuracy of 87.73% on the test set, which is very close to the accuracies obtained on the training and the validation sets.</P>"
   ]
  },
  {
   "cell_type": "markdown",
   "id": "f481fd49",
   "metadata": {},
   "source": [
    "<P>Final comparison of results and run time performance are reported in a tabular form in CM6</P>"
   ]
  }
 ],
 "metadata": {
  "kernelspec": {
   "display_name": "Python 3",
   "language": "python",
   "name": "python3"
  },
  "language_info": {
   "codemirror_mode": {
    "name": "ipython",
    "version": 3
   },
   "file_extension": ".py",
   "mimetype": "text/x-python",
   "name": "python",
   "nbconvert_exporter": "python",
   "pygments_lexer": "ipython3",
   "version": "3.8.8"
  }
 },
 "nbformat": 4,
 "nbformat_minor": 5
}
