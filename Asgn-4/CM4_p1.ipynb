{
 "cells": [
  {
   "cell_type": "markdown",
   "id": "e6487ef5",
   "metadata": {},
   "source": [
    "<h2><center>ASSIGNMENT 4</center></h2>\n",
    "<h2><center>DEEP ASHISH JARIWALA, JAYDEEP SINGH</center></h2>\n",
    "<h2><center>GROUP - 41</center></h2>\n",
    "<h2><center>Q: CM4</center></h2>"
   ]
  },
  {
   "cell_type": "markdown",
   "id": "28eeb87e",
   "metadata": {},
   "source": [
    "### IMPORTING LIBRARIES"
   ]
  },
  {
   "cell_type": "code",
   "execution_count": 1,
   "id": "b04eded1",
   "metadata": {},
   "outputs": [],
   "source": [
    "import pandas as pd\n",
    "import numpy as np\n",
    "import matplotlib.pyplot as plt\n",
    "import seaborn as sns\n",
    "sns.set()\n",
    "\n",
    "import tensorflow as tf\n",
    "from tensorflow.keras.layers import Conv2D\n",
    "from tensorflow.keras.layers import BatchNormalization\n",
    "from tensorflow.keras.layers import MaxPooling2D\n",
    "from tensorflow.keras.layers import Dropout\n",
    "from tensorflow.keras.layers import Flatten\n",
    "from tensorflow.keras.layers import Dense\n",
    "from numpy.random import seed\n",
    "seed(0)\n",
    "tf.random.set_seed(0)"
   ]
  },
  {
   "cell_type": "markdown",
   "id": "896dcd44",
   "metadata": {},
   "source": [
    "### IMPORTING DATASET"
   ]
  },
  {
   "cell_type": "code",
   "execution_count": 2,
   "id": "fb358a2e",
   "metadata": {},
   "outputs": [
    {
     "data": {
      "text/html": [
       "<div>\n",
       "<style scoped>\n",
       "    .dataframe tbody tr th:only-of-type {\n",
       "        vertical-align: middle;\n",
       "    }\n",
       "\n",
       "    .dataframe tbody tr th {\n",
       "        vertical-align: top;\n",
       "    }\n",
       "\n",
       "    .dataframe thead th {\n",
       "        text-align: right;\n",
       "    }\n",
       "</style>\n",
       "<table border=\"1\" class=\"dataframe\">\n",
       "  <thead>\n",
       "    <tr style=\"text-align: right;\">\n",
       "      <th></th>\n",
       "      <th>0</th>\n",
       "      <th>1</th>\n",
       "      <th>2</th>\n",
       "      <th>3</th>\n",
       "      <th>4</th>\n",
       "      <th>5</th>\n",
       "      <th>6</th>\n",
       "      <th>7</th>\n",
       "      <th>8</th>\n",
       "      <th>9</th>\n",
       "      <th>...</th>\n",
       "      <th>774</th>\n",
       "      <th>775</th>\n",
       "      <th>776</th>\n",
       "      <th>777</th>\n",
       "      <th>778</th>\n",
       "      <th>779</th>\n",
       "      <th>780</th>\n",
       "      <th>781</th>\n",
       "      <th>782</th>\n",
       "      <th>783</th>\n",
       "    </tr>\n",
       "  </thead>\n",
       "  <tbody>\n",
       "    <tr>\n",
       "      <th>0</th>\n",
       "      <td>0.0</td>\n",
       "      <td>0.0</td>\n",
       "      <td>0.0</td>\n",
       "      <td>0.0</td>\n",
       "      <td>0.0</td>\n",
       "      <td>0.000000</td>\n",
       "      <td>0.0</td>\n",
       "      <td>0.0</td>\n",
       "      <td>0.000000</td>\n",
       "      <td>0.000000</td>\n",
       "      <td>...</td>\n",
       "      <td>0.000000</td>\n",
       "      <td>0.000000</td>\n",
       "      <td>0.000000</td>\n",
       "      <td>0.000000</td>\n",
       "      <td>0.0</td>\n",
       "      <td>0.000000</td>\n",
       "      <td>0.0</td>\n",
       "      <td>0.0</td>\n",
       "      <td>0.0</td>\n",
       "      <td>0.0</td>\n",
       "    </tr>\n",
       "    <tr>\n",
       "      <th>1</th>\n",
       "      <td>0.0</td>\n",
       "      <td>0.0</td>\n",
       "      <td>0.0</td>\n",
       "      <td>0.0</td>\n",
       "      <td>0.0</td>\n",
       "      <td>0.003922</td>\n",
       "      <td>0.0</td>\n",
       "      <td>0.0</td>\n",
       "      <td>0.000000</td>\n",
       "      <td>0.000000</td>\n",
       "      <td>...</td>\n",
       "      <td>0.466667</td>\n",
       "      <td>0.447059</td>\n",
       "      <td>0.509804</td>\n",
       "      <td>0.298039</td>\n",
       "      <td>0.0</td>\n",
       "      <td>0.000000</td>\n",
       "      <td>0.0</td>\n",
       "      <td>0.0</td>\n",
       "      <td>0.0</td>\n",
       "      <td>0.0</td>\n",
       "    </tr>\n",
       "    <tr>\n",
       "      <th>2</th>\n",
       "      <td>0.0</td>\n",
       "      <td>0.0</td>\n",
       "      <td>0.0</td>\n",
       "      <td>0.0</td>\n",
       "      <td>0.0</td>\n",
       "      <td>0.000000</td>\n",
       "      <td>0.0</td>\n",
       "      <td>0.0</td>\n",
       "      <td>0.000000</td>\n",
       "      <td>0.086275</td>\n",
       "      <td>...</td>\n",
       "      <td>0.000000</td>\n",
       "      <td>0.000000</td>\n",
       "      <td>0.003922</td>\n",
       "      <td>0.000000</td>\n",
       "      <td>0.0</td>\n",
       "      <td>0.000000</td>\n",
       "      <td>0.0</td>\n",
       "      <td>0.0</td>\n",
       "      <td>0.0</td>\n",
       "      <td>0.0</td>\n",
       "    </tr>\n",
       "    <tr>\n",
       "      <th>3</th>\n",
       "      <td>0.0</td>\n",
       "      <td>0.0</td>\n",
       "      <td>0.0</td>\n",
       "      <td>0.0</td>\n",
       "      <td>0.0</td>\n",
       "      <td>0.000000</td>\n",
       "      <td>0.0</td>\n",
       "      <td>0.0</td>\n",
       "      <td>0.129412</td>\n",
       "      <td>0.376471</td>\n",
       "      <td>...</td>\n",
       "      <td>0.000000</td>\n",
       "      <td>0.000000</td>\n",
       "      <td>0.000000</td>\n",
       "      <td>0.000000</td>\n",
       "      <td>0.0</td>\n",
       "      <td>0.000000</td>\n",
       "      <td>0.0</td>\n",
       "      <td>0.0</td>\n",
       "      <td>0.0</td>\n",
       "      <td>0.0</td>\n",
       "    </tr>\n",
       "    <tr>\n",
       "      <th>4</th>\n",
       "      <td>0.0</td>\n",
       "      <td>0.0</td>\n",
       "      <td>0.0</td>\n",
       "      <td>0.0</td>\n",
       "      <td>0.0</td>\n",
       "      <td>0.000000</td>\n",
       "      <td>0.0</td>\n",
       "      <td>0.0</td>\n",
       "      <td>0.000000</td>\n",
       "      <td>0.000000</td>\n",
       "      <td>...</td>\n",
       "      <td>0.000000</td>\n",
       "      <td>0.000000</td>\n",
       "      <td>0.000000</td>\n",
       "      <td>0.000000</td>\n",
       "      <td>0.0</td>\n",
       "      <td>0.000000</td>\n",
       "      <td>0.0</td>\n",
       "      <td>0.0</td>\n",
       "      <td>0.0</td>\n",
       "      <td>0.0</td>\n",
       "    </tr>\n",
       "    <tr>\n",
       "      <th>...</th>\n",
       "      <td>...</td>\n",
       "      <td>...</td>\n",
       "      <td>...</td>\n",
       "      <td>...</td>\n",
       "      <td>...</td>\n",
       "      <td>...</td>\n",
       "      <td>...</td>\n",
       "      <td>...</td>\n",
       "      <td>...</td>\n",
       "      <td>...</td>\n",
       "      <td>...</td>\n",
       "      <td>...</td>\n",
       "      <td>...</td>\n",
       "      <td>...</td>\n",
       "      <td>...</td>\n",
       "      <td>...</td>\n",
       "      <td>...</td>\n",
       "      <td>...</td>\n",
       "      <td>...</td>\n",
       "      <td>...</td>\n",
       "      <td>...</td>\n",
       "    </tr>\n",
       "    <tr>\n",
       "      <th>59995</th>\n",
       "      <td>0.0</td>\n",
       "      <td>0.0</td>\n",
       "      <td>0.0</td>\n",
       "      <td>0.0</td>\n",
       "      <td>0.0</td>\n",
       "      <td>0.000000</td>\n",
       "      <td>0.0</td>\n",
       "      <td>0.0</td>\n",
       "      <td>0.000000</td>\n",
       "      <td>0.000000</td>\n",
       "      <td>...</td>\n",
       "      <td>0.000000</td>\n",
       "      <td>0.000000</td>\n",
       "      <td>0.000000</td>\n",
       "      <td>0.000000</td>\n",
       "      <td>0.0</td>\n",
       "      <td>0.000000</td>\n",
       "      <td>0.0</td>\n",
       "      <td>0.0</td>\n",
       "      <td>0.0</td>\n",
       "      <td>0.0</td>\n",
       "    </tr>\n",
       "    <tr>\n",
       "      <th>59996</th>\n",
       "      <td>0.0</td>\n",
       "      <td>0.0</td>\n",
       "      <td>0.0</td>\n",
       "      <td>0.0</td>\n",
       "      <td>0.0</td>\n",
       "      <td>0.000000</td>\n",
       "      <td>0.0</td>\n",
       "      <td>0.0</td>\n",
       "      <td>0.000000</td>\n",
       "      <td>0.000000</td>\n",
       "      <td>...</td>\n",
       "      <td>0.000000</td>\n",
       "      <td>0.000000</td>\n",
       "      <td>0.000000</td>\n",
       "      <td>0.000000</td>\n",
       "      <td>0.0</td>\n",
       "      <td>0.000000</td>\n",
       "      <td>0.0</td>\n",
       "      <td>0.0</td>\n",
       "      <td>0.0</td>\n",
       "      <td>0.0</td>\n",
       "    </tr>\n",
       "    <tr>\n",
       "      <th>59997</th>\n",
       "      <td>0.0</td>\n",
       "      <td>0.0</td>\n",
       "      <td>0.0</td>\n",
       "      <td>0.0</td>\n",
       "      <td>0.0</td>\n",
       "      <td>0.000000</td>\n",
       "      <td>0.0</td>\n",
       "      <td>0.0</td>\n",
       "      <td>0.000000</td>\n",
       "      <td>0.019608</td>\n",
       "      <td>...</td>\n",
       "      <td>0.000000</td>\n",
       "      <td>0.000000</td>\n",
       "      <td>0.000000</td>\n",
       "      <td>0.000000</td>\n",
       "      <td>0.0</td>\n",
       "      <td>0.000000</td>\n",
       "      <td>0.0</td>\n",
       "      <td>0.0</td>\n",
       "      <td>0.0</td>\n",
       "      <td>0.0</td>\n",
       "    </tr>\n",
       "    <tr>\n",
       "      <th>59998</th>\n",
       "      <td>0.0</td>\n",
       "      <td>0.0</td>\n",
       "      <td>0.0</td>\n",
       "      <td>0.0</td>\n",
       "      <td>0.0</td>\n",
       "      <td>0.000000</td>\n",
       "      <td>0.0</td>\n",
       "      <td>0.0</td>\n",
       "      <td>0.000000</td>\n",
       "      <td>0.000000</td>\n",
       "      <td>...</td>\n",
       "      <td>0.258824</td>\n",
       "      <td>0.211765</td>\n",
       "      <td>0.196078</td>\n",
       "      <td>0.019608</td>\n",
       "      <td>0.0</td>\n",
       "      <td>0.003922</td>\n",
       "      <td>0.0</td>\n",
       "      <td>0.0</td>\n",
       "      <td>0.0</td>\n",
       "      <td>0.0</td>\n",
       "    </tr>\n",
       "    <tr>\n",
       "      <th>59999</th>\n",
       "      <td>0.0</td>\n",
       "      <td>0.0</td>\n",
       "      <td>0.0</td>\n",
       "      <td>0.0</td>\n",
       "      <td>0.0</td>\n",
       "      <td>0.000000</td>\n",
       "      <td>0.0</td>\n",
       "      <td>0.0</td>\n",
       "      <td>0.000000</td>\n",
       "      <td>0.000000</td>\n",
       "      <td>...</td>\n",
       "      <td>0.000000</td>\n",
       "      <td>0.000000</td>\n",
       "      <td>0.000000</td>\n",
       "      <td>0.000000</td>\n",
       "      <td>0.0</td>\n",
       "      <td>0.000000</td>\n",
       "      <td>0.0</td>\n",
       "      <td>0.0</td>\n",
       "      <td>0.0</td>\n",
       "      <td>0.0</td>\n",
       "    </tr>\n",
       "  </tbody>\n",
       "</table>\n",
       "<p>60000 rows × 784 columns</p>\n",
       "</div>"
      ],
      "text/plain": [
       "       0    1    2    3    4         5    6    7         8         9    ...  \\\n",
       "0      0.0  0.0  0.0  0.0  0.0  0.000000  0.0  0.0  0.000000  0.000000  ...   \n",
       "1      0.0  0.0  0.0  0.0  0.0  0.003922  0.0  0.0  0.000000  0.000000  ...   \n",
       "2      0.0  0.0  0.0  0.0  0.0  0.000000  0.0  0.0  0.000000  0.086275  ...   \n",
       "3      0.0  0.0  0.0  0.0  0.0  0.000000  0.0  0.0  0.129412  0.376471  ...   \n",
       "4      0.0  0.0  0.0  0.0  0.0  0.000000  0.0  0.0  0.000000  0.000000  ...   \n",
       "...    ...  ...  ...  ...  ...       ...  ...  ...       ...       ...  ...   \n",
       "59995  0.0  0.0  0.0  0.0  0.0  0.000000  0.0  0.0  0.000000  0.000000  ...   \n",
       "59996  0.0  0.0  0.0  0.0  0.0  0.000000  0.0  0.0  0.000000  0.000000  ...   \n",
       "59997  0.0  0.0  0.0  0.0  0.0  0.000000  0.0  0.0  0.000000  0.019608  ...   \n",
       "59998  0.0  0.0  0.0  0.0  0.0  0.000000  0.0  0.0  0.000000  0.000000  ...   \n",
       "59999  0.0  0.0  0.0  0.0  0.0  0.000000  0.0  0.0  0.000000  0.000000  ...   \n",
       "\n",
       "            774       775       776       777  778       779  780  781  782  \\\n",
       "0      0.000000  0.000000  0.000000  0.000000  0.0  0.000000  0.0  0.0  0.0   \n",
       "1      0.466667  0.447059  0.509804  0.298039  0.0  0.000000  0.0  0.0  0.0   \n",
       "2      0.000000  0.000000  0.003922  0.000000  0.0  0.000000  0.0  0.0  0.0   \n",
       "3      0.000000  0.000000  0.000000  0.000000  0.0  0.000000  0.0  0.0  0.0   \n",
       "4      0.000000  0.000000  0.000000  0.000000  0.0  0.000000  0.0  0.0  0.0   \n",
       "...         ...       ...       ...       ...  ...       ...  ...  ...  ...   \n",
       "59995  0.000000  0.000000  0.000000  0.000000  0.0  0.000000  0.0  0.0  0.0   \n",
       "59996  0.000000  0.000000  0.000000  0.000000  0.0  0.000000  0.0  0.0  0.0   \n",
       "59997  0.000000  0.000000  0.000000  0.000000  0.0  0.000000  0.0  0.0  0.0   \n",
       "59998  0.258824  0.211765  0.196078  0.019608  0.0  0.003922  0.0  0.0  0.0   \n",
       "59999  0.000000  0.000000  0.000000  0.000000  0.0  0.000000  0.0  0.0  0.0   \n",
       "\n",
       "       783  \n",
       "0      0.0  \n",
       "1      0.0  \n",
       "2      0.0  \n",
       "3      0.0  \n",
       "4      0.0  \n",
       "...    ...  \n",
       "59995  0.0  \n",
       "59996  0.0  \n",
       "59997  0.0  \n",
       "59998  0.0  \n",
       "59999  0.0  \n",
       "\n",
       "[60000 rows x 784 columns]"
      ]
     },
     "execution_count": 2,
     "metadata": {},
     "output_type": "execute_result"
    }
   ],
   "source": [
    "dataset = np.load('fashion_mnist_dataset_train.npy', allow_pickle=True)\n",
    "data_dict = np.array(dataset)\n",
    "\n",
    "values = data_dict[()]['features']\n",
    "labels = data_dict[()]['target']\n",
    "\n",
    "features = []\n",
    "for i in range(60000):\n",
    "    features.append(values[i].flatten())\n",
    "features = np.array(features)\n",
    "\n",
    "final_features = pd.DataFrame(features)\n",
    "final_features"
   ]
  },
  {
   "cell_type": "markdown",
   "id": "34752f71",
   "metadata": {},
   "source": [
    "### EXPLORATORY DATA ANALYSIS"
   ]
  },
  {
   "cell_type": "code",
   "execution_count": 3,
   "id": "247648b5",
   "metadata": {},
   "outputs": [
    {
     "name": "stdout",
     "output_type": "stream",
     "text": [
      "Label assigned for dress:  1.0\n",
      "Label assigned for t-shirt:  1.0\n",
      "Label assigned for bag:  5.0\n",
      "Label assigned for coat:  4.0\n",
      "Label assigned for sneaker:  5.0\n",
      "Label assigned for trouser:  1.0\n",
      "Label assigned for bag:  5.0\n",
      "Label assigned for sandal:  5.0\n",
      "Label assigned for t-shirt:  1.0\n",
      "Label assigned for boots:  4.0\n",
      "Label assigned for pant:  2.0\n",
      "Label assigned for shirt:  4.0\n"
     ]
    },
    {
     "data": {
      "image/png": "[encoded data removed]",
      "text/plain": [
       "<Figure size 1080x720 with 12 Axes>"
      ]
     },
     "metadata": {},
     "output_type": "display_data"
    }
   ],
   "source": [
    "fig = plt.figure(figsize=(15,10))\n",
    "\n",
    "plt.subplot(3,4,1)\n",
    "plt.title(\"Dress\")\n",
    "image = features[2,:].reshape((28,28))\n",
    "plt.imshow(image)\n",
    "print(\"Label assigned for dress: \", labels[2])\n",
    "\n",
    "plt.subplot(3,4,2)\n",
    "plt.title(\"t_shirt\")\n",
    "image = features[789,:].reshape((28,28))\n",
    "plt.imshow(image)\n",
    "print(\"Label assigned for t-shirt: \", labels[789])\n",
    "\n",
    "plt.subplot(3,4,3)\n",
    "plt.title(\"bag\")\n",
    "image = features[1578,:].reshape((28,28))\n",
    "plt.imshow(image)\n",
    "print(\"Label assigned for bag: \", labels[1578])\n",
    "\n",
    "plt.subplot(3,4,4)\n",
    "plt.title(\"coat\")\n",
    "image = features[5000,:].reshape((28,28))\n",
    "plt.imshow(image)\n",
    "print(\"Label assigned for coat: \", labels[5000])\n",
    "\n",
    "plt.subplot(3,4,5)\n",
    "plt.title(\"sneaker\")\n",
    "image = features[7589,:].reshape((28,28))\n",
    "plt.imshow(image)\n",
    "print(\"Label assigned for sneaker: \", labels[7589])\n",
    "\n",
    "plt.subplot(3,4,6)\n",
    "plt.title(\"trouser\")\n",
    "image = features[15963,:].reshape((28,28))\n",
    "plt.imshow(image)\n",
    "print(\"Label assigned for trouser: \", labels[15963])\n",
    "\n",
    "plt.subplot(3,4,7)\n",
    "plt.title(\"bag\")\n",
    "image = features[19586,:].reshape((28,28))\n",
    "plt.imshow(image)\n",
    "print(\"Label assigned for bag: \", labels[19586])\n",
    "\n",
    "plt.subplot(3,4,8)\n",
    "plt.title(\"sandal\")\n",
    "image = features[22504,:].reshape((28,28))\n",
    "plt.imshow(image)\n",
    "print(\"Label assigned for sandal: \", labels[22504])\n",
    "\n",
    "plt.subplot(3,4,9)\n",
    "plt.title(\"t_shirt\")\n",
    "image = features[28056,:].reshape((28,28))\n",
    "plt.imshow(image)\n",
    "print(\"Label assigned for t-shirt: \", labels[28056])\n",
    "\n",
    "plt.subplot(3,4,10)\n",
    "plt.title(\"boots\")\n",
    "image = features[34869,:].reshape((28,28))\n",
    "plt.imshow(image)\n",
    "print(\"Label assigned for boots: \", labels[34869])\n",
    "\n",
    "plt.subplot(3,4,11)\n",
    "plt.title(\"pant\")\n",
    "image = features[38956,:].reshape((28,28))\n",
    "plt.imshow(image)\n",
    "print(\"Label assigned for pant: \", labels[38956])\n",
    "\n",
    "plt.subplot(3,4,12)\n",
    "plt.title(\"shirt\")\n",
    "image = features[45896,:].reshape((28,28))\n",
    "plt.imshow(image)\n",
    "print(\"Label assigned for shirt: \", labels[45896])\n",
    "\n",
    "plt.show()"
   ]
  },
  {
   "cell_type": "markdown",
   "id": "ca88c37f",
   "metadata": {},
   "source": [
    "On doing the initial analysis of the data, we see that the dataset contains 60,000 images of size 28*28 pixel with a single channel. An interesting point to note here is that the dataset has labels different from the standard mnist dataset. Here we observe that images for sneaker and bag have been assigned same label, Also images for trouser, t-shirt and dress have same label."
   ]
  },
  {
   "cell_type": "markdown",
   "id": "fe935d1a",
   "metadata": {},
   "source": [
    "### DATA PREPROCESSING AND SPLIT"
   ]
  },
  {
   "cell_type": "markdown",
   "id": "38d7371b",
   "metadata": {},
   "source": [
    "Following tasks are performed as part of data preprocessing:\n",
    "<ul>\n",
    "<li>We perform one-hot encoding of the target variable so that it is processed properly by the Categorical cross entropy loss function of the tensorflow library</li>\n",
    "<li>Also,we reshape our test and train data, to give it as input to our neural network.</li>\n",
    "<li>We perform a split of 90-10 on the given dataset, such that 90% of the images are in training data and the remaining 10% are in the test data.</li>\n",
    "</ul>\n",
    "\n"
   ]
  },
  {
   "cell_type": "code",
   "execution_count": 4,
   "id": "aeaed714",
   "metadata": {},
   "outputs": [],
   "source": [
    "from sklearn.preprocessing import OneHotEncoder\n",
    "labels = pd.DataFrame(labels, columns = ['output'])\n",
    "\n",
    "categorical_cols = ['output']\n",
    "encoder = OneHotEncoder(categories = \"auto\", handle_unknown=\"error\", sparse = False)\n",
    "encoded_labels = encoder.fit_transform(labels[categorical_cols])"
   ]
  },
  {
   "cell_type": "code",
   "execution_count": 5,
   "id": "eb3fe777",
   "metadata": {},
   "outputs": [],
   "source": [
    "from sklearn.model_selection import train_test_split\n",
    "X_train, X_test, y_train, y_test = train_test_split(final_features, encoded_labels, test_size = 0.1, random_state = 0)\n",
    "X_train = np.array(X_train)\n",
    "X_test = np.array(X_test)\n",
    "X_train = X_train.reshape((X_train.shape[0], 28, 28, 1))\n",
    "X_test = X_test.reshape((X_test.shape[0], 28, 28, 1))"
   ]
  },
  {
   "cell_type": "markdown",
   "id": "756e7655",
   "metadata": {},
   "source": [
    "<p>The data is split into train and test sets with training set comprising of 90% of the total values, and test set with 10% values. The input data is reshaped in the shape of (48000, 28, 28, 1) compatible to the input given to the conv2d layer.</p>"
   ]
  },
  {
   "cell_type": "markdown",
   "id": "afd7fa3a",
   "metadata": {},
   "source": [
    "### CNN ARCHITECTURE"
   ]
  },
  {
   "cell_type": "markdown",
   "id": "b9128a45",
   "metadata": {},
   "source": [
    "After trying various models for our CNN(model comparison in CM6), we selected the following design for our Convolutional Neural Network:"
   ]
  },
  {
   "cell_type": "code",
   "execution_count": 6,
   "id": "ec6254a9",
   "metadata": {},
   "outputs": [],
   "source": [
    "# Set up some params \n",
    "# Set up some params \n",
    "nb_epoch = 100      # number of epochs to train on\n",
    "batch_size = 600    # training batch size\n",
    "drop_rate_1 = 0.15  # Dropping Rate\n",
    "\n",
    "cnn = tf.keras.models.Sequential()\n",
    "cnn.add(tf.keras.layers.Conv2D(filters = 96, kernel_size = 2, activation = 'relu', input_shape = [28,28,1]))\n",
    "cnn.add(tf.keras.layers.MaxPooling2D(pool_size = 2))\n",
    "cnn.add(tf.keras.layers.BatchNormalization())\n",
    "cnn.add(Dropout(drop_rate_1))\n",
    "\n",
    "cnn.add(tf.keras.layers.Conv2D(filters = 256, kernel_size = 4, activation = 'relu',))\n",
    "cnn.add(tf.keras.layers.MaxPool2D(pool_size = 2))\n",
    "\n",
    "cnn.add(tf.keras.layers.Flatten())\n",
    "\n",
    "#input layer and first hidden layer\n",
    "cnn.add(tf.keras.layers.Dense(units = 512, activation = 'relu'))\n",
    "\n",
    "\n",
    "# second and third hidden layer\n",
    "cnn.add(tf.keras.layers.Dense(units = 256, activation = 'relu'))\n",
    "cnn.add(tf.keras.layers.Dense(units = 128, activation = 'relu'))\n",
    "cnn.add(tf.keras.layers.Dense(units = 5, activation = 'softmax'))"
   ]
  },
  {
   "cell_type": "code",
   "execution_count": 7,
   "id": "ce15fa7e",
   "metadata": {},
   "outputs": [],
   "source": [
    "# Compiling the model \n",
    "cnn.compile(loss='categorical_crossentropy', optimizer='adam', metrics=['accuracy'])"
   ]
  },
  {
   "cell_type": "code",
   "execution_count": 40,
   "id": "5035a55e",
   "metadata": {},
   "outputs": [
    {
     "name": "stdout",
     "output_type": "stream",
     "text": [
      "Epoch 1/100\n",
      "81/81 [==============================] - 63s 773ms/step - loss: 1.2609 - accuracy: 0.5771 - val_loss: 1.4593 - val_accuracy: 0.6644\n",
      "\n",
      "Epoch 00001: val_loss improved from inf to 1.45929, saving model to best_model_2.wts.h5\n",
      "Epoch 2/100\n",
      "81/81 [==============================] - 63s 776ms/step - loss: 0.4220 - accuracy: 0.8320 - val_loss: 1.4003 - val_accuracy: 0.8083\n",
      "\n",
      "Epoch 00002: val_loss improved from 1.45929 to 1.40030, saving model to best_model_2.wts.h5\n",
      "Epoch 3/100\n",
      "81/81 [==============================] - 63s 781ms/step - loss: 0.3284 - accuracy: 0.8679 - val_loss: 1.2925 - val_accuracy: 0.8367\n",
      "\n",
      "Epoch 00003: val_loss improved from 1.40030 to 1.29248, saving model to best_model_2.wts.h5\n",
      "Epoch 4/100\n",
      "81/81 [==============================] - 64s 790ms/step - loss: 0.2908 - accuracy: 0.8828 - val_loss: 1.1220 - val_accuracy: 0.8526\n",
      "\n",
      "Epoch 00004: val_loss improved from 1.29248 to 1.12197, saving model to best_model_2.wts.h5\n",
      "Epoch 5/100\n",
      "81/81 [==============================] - 64s 795ms/step - loss: 0.2350 - accuracy: 0.9057 - val_loss: 0.8436 - val_accuracy: 0.8694\n",
      "\n",
      "Epoch 00005: val_loss improved from 1.12197 to 0.84357, saving model to best_model_2.wts.h5\n",
      "Epoch 6/100\n",
      "81/81 [==============================] - 66s 817ms/step - loss: 0.2309 - accuracy: 0.9104 - val_loss: 0.5184 - val_accuracy: 0.8728\n",
      "\n",
      "Epoch 00006: val_loss improved from 0.84357 to 0.51841, saving model to best_model_2.wts.h5\n",
      "Epoch 7/100\n",
      "81/81 [==============================] - 65s 797ms/step - loss: 0.2145 - accuracy: 0.9154 - val_loss: 0.3304 - val_accuracy: 0.9017\n",
      "\n",
      "Epoch 00007: val_loss improved from 0.51841 to 0.33040, saving model to best_model_2.wts.h5\n",
      "Epoch 8/100\n",
      "81/81 [==============================] - 64s 795ms/step - loss: 0.2013 - accuracy: 0.9174 - val_loss: 0.2777 - val_accuracy: 0.8948\n",
      "\n",
      "Epoch 00008: val_loss improved from 0.33040 to 0.27767, saving model to best_model_2.wts.h5\n",
      "Epoch 9/100\n",
      "81/81 [==============================] - 64s 794ms/step - loss: 0.1736 - accuracy: 0.9305 - val_loss: 0.2163 - val_accuracy: 0.9193\n",
      "\n",
      "Epoch 00009: val_loss improved from 0.27767 to 0.21629, saving model to best_model_2.wts.h5\n",
      "Epoch 10/100\n",
      "81/81 [==============================] - 64s 791ms/step - loss: 0.1643 - accuracy: 0.9363 - val_loss: 0.3154 - val_accuracy: 0.8756\n",
      "\n",
      "Epoch 00010: val_loss did not improve from 0.21629\n",
      "Epoch 11/100\n",
      "81/81 [==============================] - 65s 805ms/step - loss: 0.1666 - accuracy: 0.9335 - val_loss: 0.2459 - val_accuracy: 0.9091\n",
      "\n",
      "Epoch 00011: val_loss did not improve from 0.21629\n",
      "Epoch 12/100\n",
      "81/81 [==============================] - 65s 803ms/step - loss: 0.1403 - accuracy: 0.9448 - val_loss: 0.2227 - val_accuracy: 0.9180\n",
      "\n",
      "Epoch 00012: val_loss did not improve from 0.21629\n",
      "Epoch 13/100\n",
      "81/81 [==============================] - 65s 805ms/step - loss: 0.1277 - accuracy: 0.9506 - val_loss: 0.4181 - val_accuracy: 0.8665\n",
      "\n",
      "Epoch 00013: val_loss did not improve from 0.21629\n",
      "Epoch 14/100\n",
      "81/81 [==============================] - 65s 804ms/step - loss: 0.1177 - accuracy: 0.9527 - val_loss: 0.2276 - val_accuracy: 0.9156\n",
      "\n",
      "Epoch 00014: val_loss did not improve from 0.21629\n",
      "Epoch 00014: early stopping\n"
     ]
    }
   ],
   "source": [
    "# FIT METHOD TO TRAIN THE ANN ON TRAINING SET\n",
    "filepath = 'best_model_2.wts.h5'\n",
    "\n",
    "fitted_model = cnn.fit(X_train, y_train, batch_size=batch_size, epochs=nb_epoch, validation_split=0.1, callbacks = [ tf.keras.callbacks.ModelCheckpoint(filepath, monitor='val_loss', verbose=1, save_best_only=True, mode='auto'),\n",
    "        tf.keras.callbacks.EarlyStopping(monitor='val_loss', patience=5, verbose=1, mode='auto')])"
   ]
  },
  {
   "cell_type": "code",
   "execution_count": 41,
   "id": "a2203855",
   "metadata": {},
   "outputs": [
    {
     "name": "stdout",
     "output_type": "stream",
     "text": [
      "Model: \"sequential_1\"\n",
      "_________________________________________________________________\n",
      "Layer (type)                 Output Shape              Param #   \n",
      "=================================================================\n",
      "conv2d_2 (Conv2D)            (None, 27, 27, 96)        480       \n",
      "_________________________________________________________________\n",
      "max_pooling2d_2 (MaxPooling2 (None, 13, 13, 96)        0         \n",
      "_________________________________________________________________\n",
      "batch_normalization_1 (Batch (None, 13, 13, 96)        384       \n",
      "_________________________________________________________________\n",
      "dropout_1 (Dropout)          (None, 13, 13, 96)        0         \n",
      "_________________________________________________________________\n",
      "conv2d_3 (Conv2D)            (None, 10, 10, 256)       393472    \n",
      "_________________________________________________________________\n",
      "max_pooling2d_3 (MaxPooling2 (None, 5, 5, 256)         0         \n",
      "_________________________________________________________________\n",
      "flatten_1 (Flatten)          (None, 6400)              0         \n",
      "_________________________________________________________________\n",
      "dense_4 (Dense)              (None, 512)               3277312   \n",
      "_________________________________________________________________\n",
      "dense_5 (Dense)              (None, 256)               131328    \n",
      "_________________________________________________________________\n",
      "dense_6 (Dense)              (None, 128)               32896     \n",
      "_________________________________________________________________\n",
      "dense_7 (Dense)              (None, 5)                 645       \n",
      "=================================================================\n",
      "Total params: 3,836,517\n",
      "Trainable params: 3,836,325\n",
      "Non-trainable params: 192\n",
      "_________________________________________________________________\n"
     ]
    }
   ],
   "source": [
    "cnn.summary()"
   ]
  },
  {
   "cell_type": "markdown",
   "id": "d9c46d34",
   "metadata": {},
   "source": [
    "The Main components of our CNN are:"
   ]
  },
  {
   "cell_type": "markdown",
   "id": "fab7e4b9",
   "metadata": {},
   "source": [
    "#### 1. Layers:\n",
    "A CNN primarily consists of 3 layers:\n",
    "    <ol>\n",
    "    <li>The convolutional layer : This layer is the first layer that is used to extract the various features from the input images.</li>\n",
    "<li>The Pooling layer: The goal of this layer is to decrease the size of the convolved feature map to reduce the computational costs.</li>\n",
    "<li>Fully Connected Layer: This layer essentially contains a feed forward neural network. These layers are usually placed before the output layer and form the last few layers of a CNN Architecture.</li>\n",
    "</ol>\n",
    "\n",
    "Our CNN model consists of the following layers:\n",
    "<ul>\n",
    "<li>Convolutional layer with 96 filters, kernel size = 2*2</li>\n",
    "<li>Pooling layer with window size 2</li>\n",
    "<li>Convolutional layer with 256 filters, kernel size = 4*4</li>\n",
    "<li>Pooling layer with window size 2</li>\n",
    "<li>Fully Connected Layer with 512 neurons</li>\n",
    "<li>Fully Connected Layer with 256 neurons</li>\n",
    "<li>Fully Connected Layer with 128 neurons</li>\n",
    "<li>Output layer with 5 neurons</li>\n",
    "</ul>\n",
    "    <p>The total number of parameters in our CNN are 3,836,517. The main points of our CNN architecture are:</p>\n",
    "1. We start by using smaller filters size(2x2), to collect as much information as possible and then we gradually increase the filter size(4x4) to reduce the generated feature space width to represent more global, high-level and representative information.<br>\n",
    "2. We gradually increase the number of filters as we progress through the layers in the CNN. The intial Convolutional layer contains 96 filters and the subsequent layer contains 256 filters. The number of filters is increased to increase the depth of the feature space thus helping in learning more levels of global abstract structures."
   ]
  },
  {
   "cell_type": "markdown",
   "id": "32f3e435",
   "metadata": {},
   "source": [
    "#### 2. Activation Functions\n",
    "Activation functions help the neural networks to learn complex patterns in the data. It takes in the output signal from the previous cell and converts it into some form that can be taken as input to the next cell. The most important feature of activation function is that it adds non-linearity to the model.\n",
    "<p>\n",
    "<li>After trying out different Activation functions for our model (Hyperparameter tuning details in CM6), we select ReLU activation function for our convolutional and fully connected layers. Compared to other activation functions like the sigmoid and tanh, the ReLU function offers much better performance and generalization in deep learning. The function is a nearly linear function that retains the properties of linear models, which makes them easy to optimize with gradient-descent methods.</li>\n",
    "<li>The output layer uses the softmax activation function which will return the confidence scores of each class. This activation function is useful for multi-class classification as the scores returned by Softmax are essentially the probablities of different classes which add to 1.\n",
    "</li>\n",
    "</p>\n"
   ]
  },
  {
   "cell_type": "markdown",
   "id": "3e965784",
   "metadata": {},
   "source": [
    "#### 3. Pooling\n",
    "The pooling operation involves sliding a two-dimensional filter over each channel of feature map and summarising the features lying within the region covered by the filter. Pooling is performed in neural networks to reduce variance and computation complexity. There are two types of pooling:\n",
    "<ul>\n",
    "    <li>Max pooling: It returns the maximum value from the portion of the image covered by the Kernel.</li>\n",
    "    <li>Average pooling: It returns the average of all the values from the portion of the image covered by the Kernel.</li>\n",
    "</ul>\n",
    "Our model uses Max Pooling with a window size of 2, stride=2 and no paddings.\n"
   ]
  },
  {
   "cell_type": "markdown",
   "id": "e62afed9",
   "metadata": {},
   "source": [
    "#### 4. Dropout\n",
    "<p>Dropout is a regularization technique which helps in reducing overfitting by randomly selected nodes are dropped-out/ignored during training.</p>\n",
    "<ul>\n",
    "<li>Our model has a dropout layer between the two convolutional layers, and the dropout rate being used in 0.05. i.e, it will randomly set 5% of inputs to zero.\n",
    "</li>\n",
    "<li>We place the dropout layer after the Max-Pool layer. The placement done in this way upholds the definition of Dropout which while learning removes high dependency on small set of features. If placed before the Max-Pool layer the values removed by Dropout may not affect the output of the Max-Pool layer as it picks the maximum from a set of values, therefore only when the maximum value is removed can it be thought of removing a feature dependency.</li>\n",
    "</ul>"
   ]
  },
  {
   "cell_type": "markdown",
   "id": "6be6c890",
   "metadata": {},
   "source": [
    "#### 5. Batch Normalization\n",
    "Batch normalization is a technique for training very deep neural networks that normalizes the contributions to a layer for every mini-batch. This has the impact of settling the learning process and drastically decreasing the number of training epochs required to train deep neural networks. Batch normalization also reduces the internal covariance shift.\n",
    "<p>We are adding Batch Normalization layer in our model to standardize the input of the intermediate convolutional layers. This layer is added before the dropout layer.</p>"
   ]
  },
  {
   "cell_type": "markdown",
   "id": "571bc371",
   "metadata": {},
   "source": [
    "#### 6. Optimizer\n",
    "Optimizers are algorithms or methods used to change the attributes of your neural network such as weights and learning rate in order to reduce the losses. After trying out various optimizers during hyper-parameter tuning, we found that Adam optimer gives the best performance among the all.(Details in CM6).\n",
    "<p> Adam optimizer works with the momentums of first and second order. The advantage of using Adam optimizer is that it is very fast and converges rapidly. It also rectifies the vanishing learning rate</p>\n"
   ]
  },
  {
   "cell_type": "markdown",
   "id": "6ffe5193",
   "metadata": {},
   "source": [
    "#### 7. Loss Function\n",
    "As the problem statement is a multi-class classification, the loss function we are using is the categorical cross entropy. It expects one-hot encoded representation of the labels as input. In this loss function, each predicted class probability is compared to the actual class desired output 0 or 1 and a score/loss is calculated that penalizes the probability based on how far it is from the actual expected value."
   ]
  },
  {
   "cell_type": "markdown",
   "id": "13e48ff4",
   "metadata": {},
   "source": [
    "#### 8. Early-stopping\n",
    "A major issue with neural networks is the the number of training epochs to be used while training the model.Too many epochs can lead to overfitting of the training dataset, whereas too few may result in an underfit model. Early stopping is a method that allows you to specify an arbitrary large number of training epochs and it continues to monitor the validation loss and automatically stops the training if there is no improvement in the model.\n",
    "<p>Our model uses early stopping during the training phase and thus it stops training after 18 epochs. Here we are using patience as 10, i.e the model will stop when it sees no change in the the validation loss over 10 epochs.</p>"
   ]
  },
  {
   "cell_type": "markdown",
   "id": "716b2221",
   "metadata": {},
   "source": [
    "### RESULTS"
   ]
  },
  {
   "cell_type": "markdown",
   "id": "66c308e0",
   "metadata": {},
   "source": [
    "#### ACCURACY VS EPOCHS PLOT"
   ]
  },
  {
   "cell_type": "code",
   "execution_count": 42,
   "id": "8b994c1c",
   "metadata": {},
   "outputs": [
    {
     "data": {
      "image/png": "[encoded data removed]",
      "text/plain": [
       "<Figure size 432x288 with 1 Axes>"
      ]
     },
     "metadata": {},
     "output_type": "display_data"
    }
   ],
   "source": [
    "# summarize history for accuracy\n",
    "plt.plot(fitted_model.history['accuracy'], c = 'green', label = 'training_accuracy')\n",
    "plt.plot(fitted_model.history['val_accuracy'], c = 'red', label = 'validation_accuracy')\n",
    "plt.title('model accuracy')\n",
    "plt.ylabel('accuracy')\n",
    "plt.xlabel('epoch')\n",
    "plt.legend()\n",
    "plt.show()"
   ]
  },
  {
   "cell_type": "markdown",
   "id": "982a4d9c",
   "metadata": {},
   "source": [
    "It is observed that over the initial few epochs, the training set accuracy witness a very rapid increase, and after about 14 epochs, the model becomes stable and there very small difference between the validitation and the training accuracies.\n",
    "During the training process, the mean values of accuracies achieved on the training and the validation set are:"
   ]
  },
  {
   "cell_type": "code",
   "execution_count": 43,
   "id": "02bcab29",
   "metadata": {},
   "outputs": [
    {
     "name": "stdout",
     "output_type": "stream",
     "text": [
      "Mean val acc: 0.8646163940429688\n",
      "Mean train acc: 0.8998927048274449\n"
     ]
    }
   ],
   "source": [
    "print(\"Mean val acc:\", np.mean(fitted_model.history['val_accuracy']))\n",
    "print(\"Mean train acc:\", np.mean(fitted_model.history['accuracy']))"
   ]
  },
  {
   "cell_type": "markdown",
   "id": "7928ae95",
   "metadata": {},
   "source": [
    "#### LOSS VS EPOCHS PLOT"
   ]
  },
  {
   "cell_type": "code",
   "execution_count": 44,
   "id": "35d03f2a",
   "metadata": {},
   "outputs": [
    {
     "data": {
      "image/png": "[encoded data removed]",
      "text/plain": [
       "<Figure size 432x288 with 1 Axes>"
      ]
     },
     "metadata": {},
     "output_type": "display_data"
    }
   ],
   "source": [
    "# summarize history for loss\n",
    "plt.plot(fitted_model.history['loss'])\n",
    "plt.plot(fitted_model.history['val_loss'])\n",
    "plt.title('model loss')\n",
    "plt.ylabel('loss')\n",
    "plt.xlabel('epoch')\n",
    "plt.show()"
   ]
  },
  {
   "cell_type": "markdown",
   "id": "e2d90836",
   "metadata": {},
   "source": [
    "It is observed that during the initial epochs, there is a huge gap between the training and validation loss. As the number of epochs increase, the difference between the training and validation losses keeps on decreasing. The mean values of the these losses during the training phase are: "
   ]
  },
  {
   "cell_type": "code",
   "execution_count": 45,
   "id": "d36e7b53",
   "metadata": {},
   "outputs": [
    {
     "name": "stdout",
     "output_type": "stream",
     "text": [
      "Mean val loss: 0.6349943290863719\n",
      "Mean train loss: 0.25627167682562557\n"
     ]
    }
   ],
   "source": [
    "print(\"Mean val loss:\", np.mean(fitted_model.history['val_loss']))\n",
    "print(\"Mean train loss:\", np.mean(fitted_model.history['loss']))"
   ]
  },
  {
   "cell_type": "markdown",
   "id": "d4e743fc",
   "metadata": {},
   "source": [
    "### RELOADING THE WEIGHTS OF TRAINED MODEL"
   ]
  },
  {
   "cell_type": "code",
   "execution_count": 8,
   "id": "450777f4",
   "metadata": {},
   "outputs": [],
   "source": [
    "# we re-load the best weights once training is finished\n",
    "filepath = 'best_model_2.wts.h5'\n",
    "cnn.load_weights(filepath)"
   ]
  },
  {
   "cell_type": "code",
   "execution_count": 9,
   "id": "5ab8fa76",
   "metadata": {},
   "outputs": [
    {
     "data": {
      "text/plain": [
       "array([[0., 1., 0., 0., 0.],\n",
       "       [0., 0., 1., 0., 0.],\n",
       "       [0., 1., 0., 0., 0.],\n",
       "       ...,\n",
       "       [0., 0., 0., 0., 1.],\n",
       "       [0., 1., 0., 0., 0.],\n",
       "       [0., 0., 0., 0., 1.]], dtype=float32)"
      ]
     },
     "execution_count": 9,
     "metadata": {},
     "output_type": "execute_result"
    }
   ],
   "source": [
    "y_pred = cnn.predict(X_test)\n",
    "\n",
    "for i in range(0,len(y_pred)):\n",
    "    temp = max(y_pred[i])\n",
    "    for j in range(5):\n",
    "        if y_pred[i][j] == temp:\n",
    "            y_pred[i][j] = 1\n",
    "        else:\n",
    "            y_pred[i][j] = 0 \n",
    "            \n",
    "y_pred"
   ]
  },
  {
   "cell_type": "code",
   "execution_count": 10,
   "id": "71a8fbd3",
   "metadata": {},
   "outputs": [],
   "source": [
    "true_values = []\n",
    "for i in range(0, len(y_test)):\n",
    "    for j in range(5):\n",
    "        if y_test[i][j] == 1:\n",
    "            if j == 0:\n",
    "                true_values.append(1)\n",
    "            elif j == 1:\n",
    "                true_values.append(2)\n",
    "            elif j == 2:\n",
    "                true_values.append(3)\n",
    "            elif j == 3:\n",
    "                true_values.append(4)\n",
    "            elif j == 4:\n",
    "                true_values.append(5)"
   ]
  },
  {
   "cell_type": "code",
   "execution_count": 11,
   "id": "4437e020",
   "metadata": {},
   "outputs": [],
   "source": [
    "result = []\n",
    "for i in range(0, len(y_pred)):\n",
    "    for j in range(5):\n",
    "        if y_pred[i][j] == 1:\n",
    "            if j == 0:\n",
    "                result.append(1)\n",
    "            elif j == 1:\n",
    "                result.append(2)\n",
    "            elif j == 2:\n",
    "                result.append(3)\n",
    "            elif j == 3:\n",
    "                result.append(4)\n",
    "            elif j == 4:\n",
    "                result.append(5)"
   ]
  },
  {
   "cell_type": "code",
   "execution_count": 16,
   "id": "618c668e",
   "metadata": {},
   "outputs": [
    {
     "name": "stdout",
     "output_type": "stream",
     "text": [
      "The test set accuracy obtained: 91.81666666666666 %\n"
     ]
    }
   ],
   "source": [
    "from sklearn.metrics import confusion_matrix, accuracy_score\n",
    "score =accuracy_score(true_values, result) \n",
    "print(f'The test set accuracy obtained: {score*100} %')"
   ]
  },
  {
   "cell_type": "markdown",
   "id": "0386ff7e",
   "metadata": {},
   "source": [
    "We observe that there our model gives an accuracy of 91.81% on the test set, which is very close to the accuracies obtained on the training and the validation sets."
   ]
  },
  {
   "cell_type": "code",
   "execution_count": 15,
   "id": "c6820063",
   "metadata": {},
   "outputs": [
    {
     "data": {
      "image/png": "[encoded data removed]",
      "text/plain": [
       "<Figure size 432x288 with 1 Axes>"
      ]
     },
     "metadata": {},
     "output_type": "display_data"
    }
   ],
   "source": [
    "from mlxtend.evaluate import confusion_matrix\n",
    "from mlxtend.plotting import plot_confusion_matrix\n",
    "\n",
    "y_target = true_values\n",
    "y_predicted = result\n",
    "\n",
    "cm = confusion_matrix(y_target=y_target, y_predicted=y_predicted, binary=False)\n",
    "\n",
    "fig, ax = plot_confusion_matrix(conf_mat=cm, cmap = 'PuRd' , class_names = ['1','2','3','4','5'])\n",
    "plt.show()"
   ]
  },
  {
   "cell_type": "markdown",
   "id": "93efa33e",
   "metadata": {},
   "source": [
    "<p>The plot above shows the confusion matrix for the CNN based classification model on fashion mnist dataset. It can be seen that labels '1' and '5' are classified at a better rate compared to other two classes. The highest error is observed in case of label '2' and '3' which have been misclassified as either '1', '2' or '3'. However, the model provides a good accuracy in classifing the outcome for covid patient with majority of the data classified properly.</p>"
   ]
  }
 ],
 "metadata": {
  "kernelspec": {
   "display_name": "Python 3",
   "language": "python",
   "name": "python3"
  },
  "language_info": {
   "codemirror_mode": {
    "name": "ipython",
    "version": 3
   },
   "file_extension": ".py",
   "mimetype": "text/x-python",
   "name": "python",
   "nbconvert_exporter": "python",
   "pygments_lexer": "ipython3",
   "version": "3.8.8"
  }
 },
 "nbformat": 4,
 "nbformat_minor": 5
}
