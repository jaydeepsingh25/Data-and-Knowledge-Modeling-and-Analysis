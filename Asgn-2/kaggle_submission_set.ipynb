{
 "cells": [
  {
   "cell_type": "code",
   "execution_count": 1,
   "metadata": {},
   "outputs": [],
   "source": [
    "import pandas as pd\n",
    "import numpy as np\n",
    "import matplotlib.pyplot as plt\n",
    "import seaborn as sns\n",
    "sns.set()\n",
    "\n",
    "from sklearn.model_selection import train_test_split\n",
    "from sklearn.preprocessing import StandardScaler\n",
    "from sklearn.metrics import accuracy_score, confusion_matrix\n",
    "from sklearn.model_selection import cross_val_score\n",
    "from sklearn.model_selection import GridSearchCV\n",
    "from sklearn.tree import DecisionTreeClassifier\n",
    "from sklearn.ensemble import RandomForestClassifier\n",
    "from sklearn.ensemble import GradientBoostingClassifier\n",
    "from sklearn import tree\n",
    "from sklearn.preprocessing import LabelEncoder\n",
    "from sklearn.model_selection import KFold"
   ]
  },
  {
   "cell_type": "code",
   "execution_count": 2,
   "metadata": {},
   "outputs": [],
   "source": [
    "dataset = pd.read_csv(\"covid_train.csv\")\n",
    "test_set = pd.read_csv(\"covid_test.csv\")"
   ]
  },
  {
   "cell_type": "code",
   "execution_count": 3,
   "metadata": {},
   "outputs": [],
   "source": [
    "# replacing NaN in Outbreak_Related with NO \n",
    "dataset['Outbreak_Related'] = dataset['Outbreak_Related'].fillna(\"No\")\n",
    "test_set['Outbreak_Related'] = test_set['Outbreak_Related'].fillna(\"No\") \n",
    "\n",
    "# Dropping NaN values in Age_Group\n",
    "dataset = dataset.dropna()\n",
    "test_set = test_set.dropna()\n",
    "# print(test_set['Reporting_PHU_City'].unique())\n",
    "# print(dataset['Reporting_PHU_City'].unique())\n",
    "\n",
    "# Ordinal encoding of Age_Group\n",
    "dataset['Age_Group'] = dataset['Age_Group'].replace({'<20': 1, '20s': 2, '30s': 3 , '40s': 4, '50s': 5, '60s': 6, '70s': 7, '80s': 8, '90s': 9})\n",
    "test_set['Age_Group'] = test_set['Age_Group'].replace({'<20': 1, '20s': 2, '30s': 3 , '40s': 4, '50s': 5, '60s': 6, '70s': 7, '80s': 8, '90s': 9})"
   ]
  },
  {
   "cell_type": "code",
   "execution_count": 4,
   "metadata": {},
   "outputs": [],
   "source": [
    "## on-hot encoding of training and test set\n",
    "from sklearn.preprocessing import OneHotEncoder\n",
    "\n",
    "dataset_features = dataset.iloc[:,:-1]\n",
    "dataset_target = dataset.iloc[:, -1]\n",
    "\n",
    "categorical_cols = ['Client_Gender','Case_AcquisitionInfo','Reporting_PHU_City','Outbreak_Related']\n",
    "# Create the encoder.\n",
    "encoder = OneHotEncoder(categories = \"auto\", handle_unknown=\"error\", sparse = False, drop= 'first')\n",
    "# Fit and transform encoder to X\n",
    "array_hot_encoded = encoder.fit_transform(dataset_features[categorical_cols])\n",
    "# convert it to a Data Frame\n",
    "data_hot_encoded = pd.DataFrame(array_hot_encoded, index=dataset_features.index)\n",
    "# set column names of encoded dataframe\n",
    "data_hot_encoded.columns = encoder.get_feature_names(categorical_cols)\n",
    "# concatenate other columns with the encoded columns to get the final datset\n",
    "data_other_cols = dataset_features.drop(columns=categorical_cols)\n",
    "X_train_data = pd.concat([data_hot_encoded, data_other_cols], axis=1)\n"
   ]
  },
  {
   "cell_type": "code",
   "execution_count": 5,
   "metadata": {},
   "outputs": [],
   "source": [
    "# Apply the encoder to test data.\n",
    "X_test_array = encoder.transform(test_set[categorical_cols])\n",
    "test_data_encoded = pd.DataFrame(X_test_array, index=test_set.index)\n",
    "test_data_encoded.columns = encoder.get_feature_names(categorical_cols)\n",
    "test_data_other_cols = test_set.drop(columns=categorical_cols)\n",
    "X_test_with_id = pd.concat([test_data_encoded, test_data_other_cols], axis=1)\n",
    "X_test_without_id = X_test_with_id.drop([\"id\"], axis =1)\n",
    "# X_test_without_id"
   ]
  },
  {
   "cell_type": "code",
   "execution_count": 6,
   "metadata": {},
   "outputs": [
    {
     "name": "stdout",
     "output_type": "stream",
     "text": [
      "(3713, 45)\n",
      "(14845, 45)\n",
      "(14845,)\n"
     ]
    }
   ],
   "source": [
    "# Dataframe to Numpy array for training\n",
    "X_test = X_test_without_id.values\n",
    "X_train = X_train_data.values\n",
    "y_train = dataset_target.values\n",
    "print(X_test.shape)\n",
    "print(X_train.shape)\n",
    "print(y_train.shape)"
   ]
  },
  {
   "cell_type": "code",
   "execution_count": null,
   "metadata": {},
   "outputs": [],
   "source": []
  },
  {
   "cell_type": "code",
   "execution_count": 9,
   "metadata": {},
   "outputs": [
    {
     "name": "stdout",
     "output_type": "stream",
     "text": [
      "Best Accuracy obtained for Random Forest Classifier: 67.18 %\n",
      "Best Parameters found for Random Forest Classifier: {'criterion': 'gini', 'max_depth': 10, 'n_estimators': 50}\n"
     ]
    }
   ],
   "source": [
    "rfclassifier = RandomForestClassifier(random_state = 0)\n",
    "rfclassifier.fit(X_train_data, y_train)\n",
    "cv = KFold(n_splits=10, random_state=0, shuffle=True)\n",
    "\n",
    "parameters = [{'criterion': ['gini','entropy'], 'n_estimators': [5, 10, 50, 150, 200] , 'max_depth': [3, 5, 10, None]}]\n",
    "grid_search = GridSearchCV(estimator = rfclassifier,\n",
    "                           param_grid = parameters,\n",
    "                           scoring = 'accuracy',\n",
    "                           cv = cv,\n",
    "                           n_jobs = -1)\n",
    "grid_search.fit(X_train_data, y_train)\n",
    "best_accuracy = grid_search.best_score_\n",
    "best_parameters = grid_search.best_params_\n",
    "results = grid_search.cv_results_\n",
    "print(\"Best Accuracy obtained for Random Forest Classifier: {:.2f} %\".format(best_accuracy*100))\n",
    "print(\"Best Parameters found for Random Forest Classifier:\", best_parameters)"
   ]
  },
  {
   "cell_type": "code",
   "execution_count": 10,
   "metadata": {},
   "outputs": [
    {
     "data": {
      "text/plain": [
       "RandomForestClassifier(max_depth=10, n_estimators=50, random_state=0)"
      ]
     },
     "execution_count": 10,
     "metadata": {},
     "output_type": "execute_result"
    }
   ],
   "source": [
    "rfclassifier_final = RandomForestClassifier(criterion = 'gini', n_estimators = 50, max_depth = 10, random_state = 0)\n",
    "rfclassifier_final.fit(X_train, y_train)"
   ]
  },
  {
   "cell_type": "code",
   "execution_count": 11,
   "metadata": {},
   "outputs": [],
   "source": [
    "y_pred = rfclassifier_final.predict(X_test)"
   ]
  },
  {
   "cell_type": "code",
   "execution_count": 12,
   "metadata": {},
   "outputs": [
    {
     "data": {
      "text/plain": [
       "array(['Fatal', 'Fatal', 'Not Resolved', ..., 'Fatal', 'Fatal', 'Fatal'],\n",
       "      dtype=object)"
      ]
     },
     "execution_count": 12,
     "metadata": {},
     "output_type": "execute_result"
    }
   ],
   "source": [
    "y_pred"
   ]
  },
  {
   "cell_type": "code",
   "execution_count": 13,
   "metadata": {},
   "outputs": [
    {
     "data": {
      "text/html": [
       "<div>\n",
       "<style scoped>\n",
       "    .dataframe tbody tr th:only-of-type {\n",
       "        vertical-align: middle;\n",
       "    }\n",
       "\n",
       "    .dataframe tbody tr th {\n",
       "        vertical-align: top;\n",
       "    }\n",
       "\n",
       "    .dataframe thead th {\n",
       "        text-align: right;\n",
       "    }\n",
       "</style>\n",
       "<table border=\"1\" class=\"dataframe\">\n",
       "  <thead>\n",
       "    <tr style=\"text-align: right;\">\n",
       "      <th></th>\n",
       "      <th>id</th>\n",
       "      <th>Outcome1</th>\n",
       "    </tr>\n",
       "  </thead>\n",
       "  <tbody>\n",
       "    <tr>\n",
       "      <td>0</td>\n",
       "      <td>0</td>\n",
       "      <td>Fatal</td>\n",
       "    </tr>\n",
       "    <tr>\n",
       "      <td>1</td>\n",
       "      <td>1</td>\n",
       "      <td>Fatal</td>\n",
       "    </tr>\n",
       "    <tr>\n",
       "      <td>2</td>\n",
       "      <td>2</td>\n",
       "      <td>Not Resolved</td>\n",
       "    </tr>\n",
       "    <tr>\n",
       "      <td>3</td>\n",
       "      <td>3</td>\n",
       "      <td>Resolved</td>\n",
       "    </tr>\n",
       "    <tr>\n",
       "      <td>4</td>\n",
       "      <td>4</td>\n",
       "      <td>Not Resolved</td>\n",
       "    </tr>\n",
       "    <tr>\n",
       "      <td>...</td>\n",
       "      <td>...</td>\n",
       "      <td>...</td>\n",
       "    </tr>\n",
       "    <tr>\n",
       "      <td>3708</td>\n",
       "      <td>3708</td>\n",
       "      <td>Fatal</td>\n",
       "    </tr>\n",
       "    <tr>\n",
       "      <td>3709</td>\n",
       "      <td>3709</td>\n",
       "      <td>Not Resolved</td>\n",
       "    </tr>\n",
       "    <tr>\n",
       "      <td>3710</td>\n",
       "      <td>3710</td>\n",
       "      <td>Fatal</td>\n",
       "    </tr>\n",
       "    <tr>\n",
       "      <td>3711</td>\n",
       "      <td>3711</td>\n",
       "      <td>Fatal</td>\n",
       "    </tr>\n",
       "    <tr>\n",
       "      <td>3712</td>\n",
       "      <td>3712</td>\n",
       "      <td>Fatal</td>\n",
       "    </tr>\n",
       "  </tbody>\n",
       "</table>\n",
       "<p>3713 rows × 2 columns</p>\n",
       "</div>"
      ],
      "text/plain": [
       "        id      Outcome1\n",
       "0        0         Fatal\n",
       "1        1         Fatal\n",
       "2        2  Not Resolved\n",
       "3        3      Resolved\n",
       "4        4  Not Resolved\n",
       "...    ...           ...\n",
       "3708  3708         Fatal\n",
       "3709  3709  Not Resolved\n",
       "3710  3710         Fatal\n",
       "3711  3711         Fatal\n",
       "3712  3712         Fatal\n",
       "\n",
       "[3713 rows x 2 columns]"
      ]
     },
     "execution_count": 13,
     "metadata": {},
     "output_type": "execute_result"
    }
   ],
   "source": [
    "ids = test_set['id'].values\n",
    "column_values = ['id', 'Outcome1']\n",
    "final_np = np.concatenate((ids.reshape(len(ids),1), y_pred.reshape(len(y_pred),1)),1)\n",
    "final_np\n",
    "final = pd.DataFrame(data = final_np, columns = column_values)\n",
    "final"
   ]
  },
  {
   "cell_type": "code",
   "execution_count": 14,
   "metadata": {},
   "outputs": [],
   "source": [
    "final.to_csv(\"Group_31.csv\", index = False)"
   ]
  },
  {
   "cell_type": "code",
   "execution_count": null,
   "metadata": {},
   "outputs": [],
   "source": []
  }
 ],
 "metadata": {
  "kernelspec": {
   "display_name": "Python 3",
   "language": "python",
   "name": "python3"
  },
  "language_info": {
   "codemirror_mode": {
    "name": "ipython",
    "version": 3
   },
   "file_extension": ".py",
   "mimetype": "text/x-python",
   "name": "python",
   "nbconvert_exporter": "python",
   "pygments_lexer": "ipython3",
   "version": "3.7.4"
  }
 },
 "nbformat": 4,
 "nbformat_minor": 2
}
