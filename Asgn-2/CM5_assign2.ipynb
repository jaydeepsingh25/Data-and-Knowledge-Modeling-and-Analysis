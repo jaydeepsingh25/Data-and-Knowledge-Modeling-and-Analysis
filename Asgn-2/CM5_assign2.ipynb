{
 "cells": [
  {
   "cell_type": "markdown",
   "metadata": {},
   "source": [
    "<h2><center>ASSIGNMENT 2</center></h2>\n",
    "<h2><center>DEEP ASHISH JARIWALA, JAYDEEP SINGH</center></h2>\n",
    "<h2><center>GROUP - 31</center></h2>\n",
    "<h2><center>Q: CM5</center></h2>"
   ]
  },
  {
   "cell_type": "markdown",
   "metadata": {},
   "source": [
    "## COVID DATASET-----NAIVE BAYES CLASSIFICATION ALGORITHM"
   ]
  },
  {
   "cell_type": "markdown",
   "metadata": {},
   "source": [
    "#### IMPORTING THE LIBRARIES"
   ]
  },
  {
   "cell_type": "code",
   "execution_count": 2,
   "metadata": {},
   "outputs": [],
   "source": [
    "import pandas as pd\n",
    "import numpy as np\n",
    "import matplotlib.pyplot as plt\n",
    "import seaborn as sns\n",
    "sns.set()\n",
    "\n",
    "from sklearn.model_selection import train_test_split\n",
    "from sklearn.preprocessing import OneHotEncoder\n",
    "from sklearn.preprocessing import StandardScaler\n",
    "from sklearn.naive_bayes import GaussianNB\n",
    "from sklearn.metrics import accuracy_score, confusion_matrix\n",
    "from sklearn.model_selection import cross_val_score\n",
    "from sklearn.model_selection import GridSearchCV\n",
    "from sklearn.model_selection import KFold\n",
    "from mlxtend.plotting import plot_confusion_matrix"
   ]
  },
  {
   "cell_type": "markdown",
   "metadata": {},
   "source": [
    "#### IMPORTING THE DATASET"
   ]
  },
  {
   "cell_type": "code",
   "execution_count": 3,
   "metadata": {},
   "outputs": [
    {
     "data": {
      "text/html": [
       "<div>\n",
       "<style scoped>\n",
       "    .dataframe tbody tr th:only-of-type {\n",
       "        vertical-align: middle;\n",
       "    }\n",
       "\n",
       "    .dataframe tbody tr th {\n",
       "        vertical-align: top;\n",
       "    }\n",
       "\n",
       "    .dataframe thead th {\n",
       "        text-align: right;\n",
       "    }\n",
       "</style>\n",
       "<table border=\"1\" class=\"dataframe\">\n",
       "  <thead>\n",
       "    <tr style=\"text-align: right;\">\n",
       "      <th></th>\n",
       "      <th>Age_Group</th>\n",
       "      <th>Client_Gender</th>\n",
       "      <th>Case_AcquisitionInfo</th>\n",
       "      <th>Reporting_PHU_City</th>\n",
       "      <th>Outbreak_Related</th>\n",
       "      <th>Reporting_PHU_Latitude</th>\n",
       "      <th>Reporting_PHU_Longitude</th>\n",
       "      <th>Outcome1</th>\n",
       "    </tr>\n",
       "  </thead>\n",
       "  <tbody>\n",
       "    <tr>\n",
       "      <td>0</td>\n",
       "      <td>50s</td>\n",
       "      <td>MALE</td>\n",
       "      <td>NO KNOWN EPI LINK</td>\n",
       "      <td>Oakville</td>\n",
       "      <td>NaN</td>\n",
       "      <td>43.413997</td>\n",
       "      <td>-79.744796</td>\n",
       "      <td>Resolved</td>\n",
       "    </tr>\n",
       "    <tr>\n",
       "      <td>1</td>\n",
       "      <td>20s</td>\n",
       "      <td>FEMALE</td>\n",
       "      <td>CC</td>\n",
       "      <td>Guelph</td>\n",
       "      <td>NaN</td>\n",
       "      <td>43.524881</td>\n",
       "      <td>-80.233743</td>\n",
       "      <td>Not Resolved</td>\n",
       "    </tr>\n",
       "    <tr>\n",
       "      <td>2</td>\n",
       "      <td>90s</td>\n",
       "      <td>FEMALE</td>\n",
       "      <td>OB</td>\n",
       "      <td>Barrie</td>\n",
       "      <td>Yes</td>\n",
       "      <td>44.410713</td>\n",
       "      <td>-79.686306</td>\n",
       "      <td>Resolved</td>\n",
       "    </tr>\n",
       "    <tr>\n",
       "      <td>3</td>\n",
       "      <td>20s</td>\n",
       "      <td>FEMALE</td>\n",
       "      <td>MISSING INFORMATION</td>\n",
       "      <td>Toronto</td>\n",
       "      <td>NaN</td>\n",
       "      <td>43.656591</td>\n",
       "      <td>-79.379358</td>\n",
       "      <td>Resolved</td>\n",
       "    </tr>\n",
       "    <tr>\n",
       "      <td>4</td>\n",
       "      <td>90s</td>\n",
       "      <td>FEMALE</td>\n",
       "      <td>OB</td>\n",
       "      <td>Ottawa</td>\n",
       "      <td>Yes</td>\n",
       "      <td>45.345665</td>\n",
       "      <td>-75.763912</td>\n",
       "      <td>Fatal</td>\n",
       "    </tr>\n",
       "  </tbody>\n",
       "</table>\n",
       "</div>"
      ],
      "text/plain": [
       "  Age_Group Client_Gender Case_AcquisitionInfo Reporting_PHU_City  \\\n",
       "0       50s          MALE    NO KNOWN EPI LINK           Oakville   \n",
       "1       20s        FEMALE                   CC             Guelph   \n",
       "2       90s        FEMALE                   OB             Barrie   \n",
       "3       20s        FEMALE  MISSING INFORMATION            Toronto   \n",
       "4       90s        FEMALE                   OB             Ottawa   \n",
       "\n",
       "  Outbreak_Related  Reporting_PHU_Latitude  Reporting_PHU_Longitude  \\\n",
       "0              NaN               43.413997               -79.744796   \n",
       "1              NaN               43.524881               -80.233743   \n",
       "2              Yes               44.410713               -79.686306   \n",
       "3              NaN               43.656591               -79.379358   \n",
       "4              Yes               45.345665               -75.763912   \n",
       "\n",
       "       Outcome1  \n",
       "0      Resolved  \n",
       "1  Not Resolved  \n",
       "2      Resolved  \n",
       "3      Resolved  \n",
       "4         Fatal  "
      ]
     },
     "execution_count": 3,
     "metadata": {},
     "output_type": "execute_result"
    }
   ],
   "source": [
    "dataset = pd.read_csv(\"covid_train.csv\")\n",
    "dataset.head(5)"
   ]
  },
  {
   "cell_type": "markdown",
   "metadata": {},
   "source": [
    "#### EXPLORATORY DATA ANALYSIS"
   ]
  },
  {
   "cell_type": "code",
   "execution_count": 4,
   "metadata": {},
   "outputs": [
    {
     "data": {
      "text/plain": [
       "<matplotlib.axes._subplots.AxesSubplot at 0x254027858c8>"
      ]
     },
     "execution_count": 4,
     "metadata": {},
     "output_type": "execute_result"
    },
    {
     "data": {
      "image/png": "[encoded data removed]",
      "text/plain": [
       "<Figure size 1080x720 with 4 Axes>"
      ]
     },
     "metadata": {
      "needs_background": "light"
     },
     "output_type": "display_data"
    }
   ],
   "source": [
    "fig = plt.figure(figsize=(15,10))\n",
    "\n",
    "plt.subplot(221)\n",
    "plt.title(\"Distribution of Age group\")\n",
    "sns.countplot(x='Age_Group', hue='Outcome1', data = dataset, palette = 'dark')\n",
    "\n",
    "plt.subplot(222)\n",
    "plt.title(\"Distribution of Gender\")\n",
    "sns.countplot(x='Client_Gender', hue='Outcome1', data = dataset, palette = 'dark')\n",
    "\n",
    "plt.subplot(223)\n",
    "plt.title(\"Distribution of Case acquisition info\")\n",
    "sns.countplot(x='Case_AcquisitionInfo', hue='Outcome1', data = dataset, palette = 'dark')\n",
    "\n",
    "plt.subplot(224)\n",
    "plt.title(\"Distribution of Case acquisition info\")\n",
    "sns.scatterplot(x = 'Reporting_PHU_Latitude', y = 'Reporting_PHU_Longitude', hue = 'Outcome1', data = dataset)"
   ]
  },
  {
   "cell_type": "markdown",
   "metadata": {},
   "source": [
    "<p>IMPORTANT FEATURES OBSERVED FROM THE PLOTS:</p>\n",
    "<ul>\n",
    "            <li>The age group of 70s, 80s and 90s has observed the highest fatal outcomes compared to other classes.</li>\n",
    "            <li>There is particular pattern observed in the gender histogram plot. All the classes of outcomes are equally divided among males and females. The unspecified also has an almost equal distribution of target.</li>\n",
    "            <li>The case aquisition info provides one interesting pattern, The Outbreak(OB) class in acquissition info has the highest fatal outcomes.</li>\n",
    "            <li>An interesting pattern is observed in longitude v/s latitude plot, The box covered by latitude(43,44) and longitude(-77.5,-82.5) has the cases with most fatal outcomes. This region can be a red zone.</li>\n",
    "</ul>"
   ]
  },
  {
   "cell_type": "markdown",
   "metadata": {},
   "source": [
    "####  DATA CLEANING AND PREPROCESSING "
   ]
  },
  {
   "cell_type": "code",
   "execution_count": 5,
   "metadata": {},
   "outputs": [
    {
     "name": "stdout",
     "output_type": "stream",
     "text": [
      "Age_Group                     6\n",
      "Client_Gender                 0\n",
      "Case_AcquisitionInfo          0\n",
      "Reporting_PHU_City            0\n",
      "Outbreak_Related           9020\n",
      "Reporting_PHU_Latitude        0\n",
      "Reporting_PHU_Longitude       0\n",
      "Outcome1                      0\n",
      "dtype: int64\n"
     ]
    },
    {
     "data": {
      "text/html": [
       "<div>\n",
       "<style scoped>\n",
       "    .dataframe tbody tr th:only-of-type {\n",
       "        vertical-align: middle;\n",
       "    }\n",
       "\n",
       "    .dataframe tbody tr th {\n",
       "        vertical-align: top;\n",
       "    }\n",
       "\n",
       "    .dataframe thead th {\n",
       "        text-align: right;\n",
       "    }\n",
       "</style>\n",
       "<table border=\"1\" class=\"dataframe\">\n",
       "  <thead>\n",
       "    <tr style=\"text-align: right;\">\n",
       "      <th></th>\n",
       "      <th>Age_Group</th>\n",
       "      <th>Client_Gender</th>\n",
       "      <th>Case_AcquisitionInfo</th>\n",
       "      <th>Reporting_PHU_City</th>\n",
       "      <th>Outbreak_Related</th>\n",
       "      <th>Reporting_PHU_Latitude</th>\n",
       "      <th>Reporting_PHU_Longitude</th>\n",
       "      <th>Outcome1</th>\n",
       "    </tr>\n",
       "  </thead>\n",
       "  <tbody>\n",
       "    <tr>\n",
       "      <td>0</td>\n",
       "      <td>50s</td>\n",
       "      <td>MALE</td>\n",
       "      <td>NO KNOWN EPI LINK</td>\n",
       "      <td>Oakville</td>\n",
       "      <td>No</td>\n",
       "      <td>43.413997</td>\n",
       "      <td>-79.744796</td>\n",
       "      <td>Resolved</td>\n",
       "    </tr>\n",
       "    <tr>\n",
       "      <td>1</td>\n",
       "      <td>20s</td>\n",
       "      <td>FEMALE</td>\n",
       "      <td>CC</td>\n",
       "      <td>Guelph</td>\n",
       "      <td>No</td>\n",
       "      <td>43.524881</td>\n",
       "      <td>-80.233743</td>\n",
       "      <td>Not Resolved</td>\n",
       "    </tr>\n",
       "    <tr>\n",
       "      <td>2</td>\n",
       "      <td>90s</td>\n",
       "      <td>FEMALE</td>\n",
       "      <td>OB</td>\n",
       "      <td>Barrie</td>\n",
       "      <td>Yes</td>\n",
       "      <td>44.410713</td>\n",
       "      <td>-79.686306</td>\n",
       "      <td>Resolved</td>\n",
       "    </tr>\n",
       "    <tr>\n",
       "      <td>3</td>\n",
       "      <td>20s</td>\n",
       "      <td>FEMALE</td>\n",
       "      <td>MISSING INFORMATION</td>\n",
       "      <td>Toronto</td>\n",
       "      <td>No</td>\n",
       "      <td>43.656591</td>\n",
       "      <td>-79.379358</td>\n",
       "      <td>Resolved</td>\n",
       "    </tr>\n",
       "    <tr>\n",
       "      <td>4</td>\n",
       "      <td>90s</td>\n",
       "      <td>FEMALE</td>\n",
       "      <td>OB</td>\n",
       "      <td>Ottawa</td>\n",
       "      <td>Yes</td>\n",
       "      <td>45.345665</td>\n",
       "      <td>-75.763912</td>\n",
       "      <td>Fatal</td>\n",
       "    </tr>\n",
       "  </tbody>\n",
       "</table>\n",
       "</div>"
      ],
      "text/plain": [
       "  Age_Group Client_Gender Case_AcquisitionInfo Reporting_PHU_City  \\\n",
       "0       50s          MALE    NO KNOWN EPI LINK           Oakville   \n",
       "1       20s        FEMALE                   CC             Guelph   \n",
       "2       90s        FEMALE                   OB             Barrie   \n",
       "3       20s        FEMALE  MISSING INFORMATION            Toronto   \n",
       "4       90s        FEMALE                   OB             Ottawa   \n",
       "\n",
       "  Outbreak_Related  Reporting_PHU_Latitude  Reporting_PHU_Longitude  \\\n",
       "0               No               43.413997               -79.744796   \n",
       "1               No               43.524881               -80.233743   \n",
       "2              Yes               44.410713               -79.686306   \n",
       "3               No               43.656591               -79.379358   \n",
       "4              Yes               45.345665               -75.763912   \n",
       "\n",
       "       Outcome1  \n",
       "0      Resolved  \n",
       "1  Not Resolved  \n",
       "2      Resolved  \n",
       "3      Resolved  \n",
       "4         Fatal  "
      ]
     },
     "execution_count": 5,
     "metadata": {},
     "output_type": "execute_result"
    }
   ],
   "source": [
    "print(dataset.isna().sum())\n",
    "\n",
    "# replacing NaN in Outbreak_Related with NO \n",
    "dataset['Outbreak_Related'] = dataset['Outbreak_Related'].fillna(\"No\") \n",
    "\n",
    "# Dropping NaN values in Age_Group\n",
    "dataset = dataset.dropna()\n",
    "\n",
    "# Dropping unspecified gender values\n",
    "dataset = dataset[dataset['Client_Gender'] != 'UNSPECIFIED']\n",
    "dataset.head(5)"
   ]
  },
  {
   "cell_type": "code",
   "execution_count": 6,
   "metadata": {},
   "outputs": [],
   "source": [
    "dataset_features = dataset.iloc[:,:-1]\n",
    "dataset_target = dataset.iloc[:, -1]\n",
    "\n",
    "dataset_features['Age_Group'] = dataset_features['Age_Group'].replace({'<20': 1, '20s': 2, '30s': 3 , '40s': 4, '50s': 5, '60s': 6, '70s': 7, '80s': 8, '90s': 9})\n",
    "\n",
    "categorical_cols = ['Client_Gender','Case_AcquisitionInfo','Reporting_PHU_City','Outbreak_Related']\n",
    "# Create the encoder.\n",
    "encoder = OneHotEncoder(categories = \"auto\", handle_unknown=\"error\", sparse = False, drop= 'first')\n",
    "# Fit and transform encoder to X\n",
    "array_hot_encoded = encoder.fit_transform(dataset_features[categorical_cols])\n",
    "# convert it to a Data Frame\n",
    "data_hot_encoded = pd.DataFrame(array_hot_encoded, index=dataset_features.index)\n",
    "# set column names of encoded dataframe\n",
    "data_hot_encoded.columns = encoder.get_feature_names(categorical_cols)\n",
    "# concatenate other columns with the encoded columns to get the final datset\n",
    "data_other_cols = dataset_features.drop(columns=categorical_cols)\n",
    "dataset_features = pd.concat([data_hot_encoded, data_other_cols], axis=1)"
   ]
  },
  {
   "cell_type": "markdown",
   "metadata": {},
   "source": [
    "<p>The following steps are performed as a part of preprocessing the dataset into training set.</p>\n",
    "<ul>\n",
    "            <li>Imputation of NaN values in the Outbreak_related columns, all the NaNs are replaced with \"No\".</li>\n",
    "            <li>All the values of unspecified gender are removed from the dataset, since the values were very less compared to the total length of the dataset.</li>\n",
    "            <li>All the remaining NaN values were observed in Age_Group, which were dropped because only 6 values out of 14850 values were missing.</li>\n",
    "            <li>Label encoding of Age_Group data as it is ordinal type of dataset. Moreover, the age wise ranking is also preserved in case of label encoding</li>\n",
    "            <li>Other categorical features (Client_Gender, Case_AcquisitionInfo, Reporting_PHU_City, Outbreak_Related) were transformed using One-Hot Encoding for better results.</li>\n",
    "</ul>"
   ]
  },
  {
   "cell_type": "code",
   "execution_count": 7,
   "metadata": {},
   "outputs": [],
   "source": [
    "X, X_test, y, y_test = train_test_split(dataset_features, dataset_target, test_size = 0.15, random_state = 0)"
   ]
  },
  {
   "cell_type": "markdown",
   "metadata": {},
   "source": [
    "<p> The dataset is splited into training and test using train_test_split method in sklearn. 85% dataset is used for training and then applied to grid search cv(using 10 fold cross validation) to tune the best parameters. The best tuned hyperparameters are used to train the model again and is tested on the 15% test set seperated to get the final accuracy. All the splits and algorithm used are applied with random_state = 0.</p>"
   ]
  },
  {
   "cell_type": "markdown",
   "metadata": {},
   "source": [
    "#### TRAINING THE DATASET AND APPLYING GRID_SEARCH_CV METHOD "
   ]
  },
  {
   "cell_type": "code",
   "execution_count": 8,
   "metadata": {},
   "outputs": [
    {
     "name": "stdout",
     "output_type": "stream",
     "text": [
      "Best Accuracy: 64.71 %\n",
      "Best Parameters: {'var_smoothing': 0.1}\n"
     ]
    }
   ],
   "source": [
    "nbclassifier = GaussianNB()\n",
    "nbclassifier.fit(X, y)\n",
    "\n",
    "var_before = nbclassifier.sigma_\n",
    "\n",
    "cv = KFold(n_splits=10, random_state=0, shuffle=True)\n",
    "parameters = [{'var_smoothing': [1e-10, 1e-9, 1e-5, 1e-3, 1e-1]}]\n",
    "grid_search = GridSearchCV(estimator = nbclassifier,\n",
    "                           param_grid = parameters,\n",
    "                           scoring = 'accuracy',\n",
    "                           cv = cv,\n",
    "                           n_jobs = -1)\n",
    "grid_search.fit(X, y)\n",
    "best_accuracy = grid_search.best_score_\n",
    "best_parameters = grid_search.best_params_\n",
    "results = grid_search.cv_results_\n",
    "print(\"Best Accuracy: {:.2f} %\".format(best_accuracy*100))\n",
    "print(\"Best Parameters:\", best_parameters)"
   ]
  },
  {
   "cell_type": "markdown",
   "metadata": {},
   "source": [
    "<p>The box above shows GRID_SEARCH_CV method to find the best hyperparameters. This method utilizes the concept of K-fold cross validation to evaluate the model on different hyperparamters. This case involves tuning of variable smoothing. The best parameter obtained for this case is: var_smoothing = 0.1. The box below shows all the results (for all the folds, mean accuracy, ranked test score among all the splits and computation time for grid search hyperparameter tuning).</p>"
   ]
  },
  {
   "cell_type": "code",
   "execution_count": 9,
   "metadata": {},
   "outputs": [
    {
     "data": {
      "text/plain": [
       "{'mean_fit_time': array([0.07613966, 0.07030253, 0.06828876, 0.06979206, 0.06231432]),\n",
       " 'std_fit_time': array([0.0058271 , 0.0075002 , 0.00453775, 0.00929341, 0.00808959]),\n",
       " 'mean_score_time': array([0.00974283, 0.00831242, 0.01091747, 0.0125473 , 0.00641344]),\n",
       " 'std_score_time': array([0.00210948, 0.00154924, 0.0030983 , 0.00824613, 0.00277547]),\n",
       " 'param_var_smoothing': masked_array(data=[1e-10, 1e-09, 1e-05, 0.001, 0.1],\n",
       "              mask=[False, False, False, False, False],\n",
       "        fill_value='?',\n",
       "             dtype=object),\n",
       " 'params': [{'var_smoothing': 1e-10},\n",
       "  {'var_smoothing': 1e-09},\n",
       "  {'var_smoothing': 1e-05},\n",
       "  {'var_smoothing': 0.001},\n",
       "  {'var_smoothing': 0.1}],\n",
       " 'split0_test_score': array([0.52753392, 0.52913009, 0.53950519, 0.57462091, 0.63607342]),\n",
       " 'split1_test_score': array([0.44293695, 0.45889864, 0.52753392, 0.60335196, 0.6528332 ]),\n",
       " 'split2_test_score': array([0.47964884, 0.49082203, 0.55786113, 0.64006385, 0.67278532]),\n",
       " 'split3_test_score': array([0.45490822, 0.46368715, 0.5490822 , 0.59217877, 0.62330407]),\n",
       " 'split4_test_score': array([0.41260974, 0.42138867, 0.56743815, 0.58419792, 0.65522745]),\n",
       " 'split5_test_score': array([0.41181165, 0.44453312, 0.57142857, 0.62330407, 0.66879489]),\n",
       " 'split6_test_score': array([0.37110934, 0.40223464, 0.52913009, 0.60734238, 0.63367917]),\n",
       " 'split7_test_score': array([0.49162011, 0.49162011, 0.56504389, 0.59936153, 0.6528332 ]),\n",
       " 'split8_test_score': array([0.4094174 , 0.43735036, 0.56344773, 0.58579409, 0.64644852]),\n",
       " 'split9_test_score': array([0.46325879, 0.46884984, 0.54552716, 0.5942492 , 0.62939297]),\n",
       " 'mean_test_score': array([0.4464855 , 0.46085146, 0.5515998 , 0.60044647, 0.64713722]),\n",
       " 'std_test_score': array([0.04413175, 0.03520593, 0.01509273, 0.01844345, 0.01563361]),\n",
       " 'rank_test_score': array([5, 4, 3, 2, 1])}"
      ]
     },
     "execution_count": 9,
     "metadata": {},
     "output_type": "execute_result"
    }
   ],
   "source": [
    "results"
   ]
  },
  {
   "cell_type": "code",
   "execution_count": 10,
   "metadata": {},
   "outputs": [
    {
     "data": {
      "text/plain": [
       "Text(0.5, 1.0, 'Graph of mean accuracy v/s variable smoothing')"
      ]
     },
     "execution_count": 10,
     "metadata": {},
     "output_type": "execute_result"
    },
    {
     "data": {
      "image/png": "[encoded data removed]",
      "text/plain": [
       "<Figure size 432x288 with 1 Axes>"
      ]
     },
     "metadata": {
      "needs_background": "light"
     },
     "output_type": "display_data"
    }
   ],
   "source": [
    "mean_accuracy = grid_search.cv_results_['mean_test_score']\n",
    "varsm = [1e-10, 1e-9, 1e-5, 1e-3, 1e-1]\n",
    "\n",
    "sns.lineplot(varsm, mean_accuracy)\n",
    "plt.xlabel(\"Variable smoothing\")\n",
    "plt.ylabel(\"Mean accuracy\")\n",
    "plt.title(\"Graph of mean accuracy v/s variable smoothing\")"
   ]
  },
  {
   "cell_type": "markdown",
   "metadata": {},
   "source": [
    "<p>The graph above shows the variation of mean validation accuracy with change in var_smoothing parameter. The best accuracy is observed at var_smoothing = 0.1.</p>"
   ]
  },
  {
   "cell_type": "markdown",
   "metadata": {},
   "source": [
    "#### TEST SET ACCURACY"
   ]
  },
  {
   "cell_type": "code",
   "execution_count": 11,
   "metadata": {},
   "outputs": [
    {
     "data": {
      "image/png": "[encoded data removed]",
      "text/plain": [
       "<Figure size 432x288 with 1 Axes>"
      ]
     },
     "metadata": {
      "needs_background": "light"
     },
     "output_type": "display_data"
    },
    {
     "name": "stdout",
     "output_type": "stream",
     "text": [
      "The accuracy obtained on test set with best tuned hyperparameters: 66.6365280289331 % \n"
     ]
    }
   ],
   "source": [
    "nbclassifier_final = GaussianNB(var_smoothing = 0.1)\n",
    "nbclassifier_final.fit(X, y)\n",
    "\n",
    "var_after = nbclassifier_final.sigma_\n",
    "\n",
    "y_pred = nbclassifier_final.predict(X_test)\n",
    "cm = confusion_matrix(y_test, y_pred)\n",
    "fig, ax = plot_confusion_matrix(conf_mat=cm)\n",
    "plt.show()\n",
    "ac = accuracy_score(y_test, y_pred)\n",
    "print(f\"The accuracy obtained on test set with best tuned hyperparameters: {ac*100} % \")"
   ]
  },
  {
   "cell_type": "markdown",
   "metadata": {},
   "source": [
    "#### Parameters learned by the NB Classifier: (to be used in CM6 analysis)"
   ]
  },
  {
   "cell_type": "code",
   "execution_count": 12,
   "metadata": {},
   "outputs": [
    {
     "name": "stdout",
     "output_type": "stream",
     "text": [
      "nbclassifier_final.class_count_: [4172. 4191. 4166.]\n",
      "\n",
      "nbclassifier_final.class_prior_: [0.33298747 0.33450395 0.33250858]\n",
      "\n",
      "nbclassifier_final.classes_: ['Fatal' 'Not Resolved' 'Resolved']\n",
      "\n",
      "nbclassifier_final.theta_: [[ 0.00000000e+00  4.79386385e-01  7.83796740e-02  1.03547459e-01\n",
      "   7.27468840e-01  1.27037392e-02  0.00000000e+00  7.19079578e-04\n",
      "   1.43815916e-03  8.38926174e-03  4.79386385e-04  9.58772771e-03\n",
      "   1.17449664e-02  4.07478428e-02  0.00000000e+00  2.39693193e-04\n",
      "   2.80441035e-02  9.58772771e-02  2.39693193e-04  7.67018217e-02\n",
      "   2.39693193e-04  2.56471716e-02  6.78331735e-02  0.00000000e+00\n",
      "   2.39693193e-04  1.19846596e-03  5.51294343e-03  6.23202301e-03\n",
      "   2.39693193e-04  6.23202301e-03  9.82742090e-03  6.23202301e-03\n",
      "   7.19079578e-04  5.12943432e-02  3.83509108e-03  1.91754554e-03\n",
      "   3.83748802e-01  3.40364334e-02  4.81783317e-02  4.88974113e-02\n",
      "   7.56951103e-01  7.82790029e+00  4.37228728e+01 -7.94726359e+01]\n",
      " [ 0.00000000e+00  4.94392746e-01  3.55762348e-01  1.32188022e-01\n",
      "   1.87306132e-01  9.54426151e-03  0.00000000e+00  0.00000000e+00\n",
      "   5.72655691e-03  1.43163923e-03  6.44237652e-03  1.09759007e-02\n",
      "   2.50536865e-02  3.55523741e-02  1.19303269e-03  4.77213076e-04\n",
      "   2.48150799e-02  2.00429492e-01  2.38606538e-04  7.27749940e-02\n",
      "   9.54426151e-04  3.53137676e-02  4.41422095e-02  1.90885230e-03\n",
      "   2.38606538e-04  2.38606538e-03  3.81770461e-03  5.48795037e-03\n",
      "   1.43163923e-03  3.81770461e-03  6.44237652e-03  5.01073729e-03\n",
      "   6.91958960e-03  3.31663088e-02  7.87401575e-03  3.57909807e-03\n",
      "   3.48365545e-01  2.67239322e-02  2.43378669e-02  2.55308995e-02\n",
      "   2.18563589e-01  3.98377476e+00  4.37715009e+01 -7.96239586e+01]\n",
      " [ 2.40038406e-04  4.98799808e-01  1.62265963e-01  2.08353337e-01\n",
      "   1.72827652e-01  1.72827652e-02  7.20115218e-04  2.40038406e-03\n",
      "   6.96111378e-03  2.64042247e-03  4.32069131e-03  1.10417667e-02\n",
      "   1.41622660e-02  3.12049928e-02  9.60153625e-04  2.16034566e-03\n",
      "   1.82429189e-02  2.10033605e-01  9.60153625e-04  8.97743639e-02\n",
      "   2.40038406e-04  3.16850696e-02  4.77676428e-02  2.16034566e-03\n",
      "   1.20019203e-03  2.40038406e-03  6.72107537e-03  4.08065290e-03\n",
      "   2.40038406e-04  6.72107537e-03  7.44119059e-03  4.08065290e-03\n",
      "   2.64042247e-03  2.80844935e-02  3.84061450e-03  1.20019203e-03\n",
      "   3.08689390e-01  3.09649544e-02  4.94479117e-02  4.34469515e-02\n",
      "   2.04512722e-01  3.71747480e+00  4.37283864e+01 -7.95805776e+01]]\n",
      "\n",
      "nbclassifier_final.sigma_: [[0.68274483 0.93231991 0.75498113 0.77557021 0.88100276 0.69528718\n",
      "  0.68274483 0.68346339 0.68418092 0.69106371 0.68322399 0.69224063\n",
      "  0.69435185 0.72183229 0.68274483 0.68298447 0.71000246 0.76942965\n",
      "  0.68298447 0.75356348 0.68298447 0.70773422 0.74597666 0.68274483\n",
      "  0.68298447 0.68394186 0.68822738 0.68893801 0.68298447 0.68893801\n",
      "  0.69247567 0.68893801 0.68346339 0.73140806 0.68656521 0.6846587\n",
      "  0.91923049 0.71562278 0.72860201 0.72925128 0.86672096 1.99636717\n",
      "  1.21373349 3.23445524]\n",
      " [0.68274483 0.93271339 0.91194033 0.79745918 0.83496737 0.692198\n",
      "  0.68274483 0.68274483 0.68843859 0.68417442 0.6891457  0.69360026\n",
      "  0.70717083 0.71703323 0.68393644 0.68322181 0.70694412 0.84300234\n",
      "  0.68298338 0.75022362 0.68369834 0.71681153 0.7249385  0.68465004\n",
      "  0.68298338 0.6851252  0.68654796 0.68820266 0.68417442 0.68654796\n",
      "  0.6891457  0.68773046 0.68961654 0.71481113 0.69055685 0.68631112\n",
      "  0.90975182 0.70875459 0.70649036 0.7076239  0.85353838 5.14824153\n",
      "  1.32930538 3.23517656]\n",
      " [0.68298481 0.93274339 0.81868055 0.84768705 0.82570308 0.6997289\n",
      "  0.68346443 0.68513945 0.68965749 0.68537828 0.68704685 0.69366468\n",
      "  0.69670653 0.71297607 0.68370406 0.68490051 0.70065494 0.84866432\n",
      "  0.68370406 0.76445976 0.68298481 0.71342596 0.72823072 0.68490051\n",
      "  0.68394358 0.68513945 0.68942073 0.68680883 0.68298481 0.68942073\n",
      "  0.69013065 0.68680883 0.68537828 0.71004058 0.68657069 0.68394358\n",
      "  0.89614508 0.71275096 0.72974765 0.72430414 0.8454321  4.80815718\n",
      "  1.19108762 3.08206284]]\n",
      "\n",
      "nbclassifier_final.epsilon_: 0.682744829505325\n",
      "\n"
     ]
    }
   ],
   "source": [
    "# number of training samples observed in each class.\n",
    "print(f\"nbclassifier_final.class_count_: {nbclassifier_final.class_count_}\\n\")\n",
    "\n",
    "\n",
    "# probability of each class.\n",
    "print(f\"nbclassifier_final.class_prior_: {nbclassifier_final.class_prior_}\\n\")\n",
    "\n",
    "\n",
    "# class labels known to the classifier\n",
    "print(f\"nbclassifier_final.classes_: {nbclassifier_final.classes_}\\n\")\n",
    "\n",
    "\n",
    "# mean of each feature per class\n",
    "print(f\"nbclassifier_final.theta_: {nbclassifier_final.theta_}\\n\")\n",
    "\n",
    "\n",
    "# variance of each feature per class\n",
    "print(f\"nbclassifier_final.sigma_: {nbclassifier_final.sigma_}\\n\")\n",
    "\n",
    "\n",
    "# absolute additive value to variances\n",
    "print(f\"nbclassifier_final.epsilon_: {nbclassifier_final.epsilon_}\\n\")"
   ]
  },
  {
   "cell_type": "markdown",
   "metadata": {},
   "source": [
    "#### TABLE TO SHOW THE CHANGE IN VARIANCE AFFECTED BY VAR_SMOOTHING"
   ]
  },
  {
   "cell_type": "code",
   "execution_count": 13,
   "metadata": {},
   "outputs": [
    {
     "name": "stdout",
     "output_type": "stream",
     "text": [
      "         Client_Gender_GENDER DIVERSE  Client_Gender_MALE  \\\n",
      "class 1                      0.682745            0.682745   \n",
      "class 2                      0.682745            0.682745   \n",
      "class 3                      0.682745            0.682745   \n",
      "\n",
      "         Case_AcquisitionInfo_MISSING INFORMATION  \\\n",
      "class 1                                  0.682745   \n",
      "class 2                                  0.682745   \n",
      "class 3                                  0.682745   \n",
      "\n",
      "         Case_AcquisitionInfo_NO KNOWN EPI LINK  Case_AcquisitionInfo_OB  \\\n",
      "class 1                                0.682745                 0.682745   \n",
      "class 2                                0.682745                 0.682745   \n",
      "class 3                                0.682745                 0.682745   \n",
      "\n",
      "         Case_AcquisitionInfo_TRAVEL  \\\n",
      "class 1                     0.682745   \n",
      "class 2                     0.682745   \n",
      "class 3                     0.682745   \n",
      "\n",
      "         Case_AcquisitionInfo_UNSPECIFIED EPI LINK  \\\n",
      "class 1                                   0.682745   \n",
      "class 2                                   0.682745   \n",
      "class 3                                   0.682745   \n",
      "\n",
      "         Reporting_PHU_City_Belleville  Reporting_PHU_City_Brantford  \\\n",
      "class 1                       0.682745                      0.682745   \n",
      "class 2                       0.682745                      0.682745   \n",
      "class 3                       0.682745                      0.682745   \n",
      "\n",
      "         Reporting_PHU_City_Brockville  ...  Reporting_PHU_City_Thunder Bay  \\\n",
      "class 1                       0.682745  ...                        0.682745   \n",
      "class 2                       0.682745  ...                        0.682745   \n",
      "class 3                       0.682745  ...                        0.682745   \n",
      "\n",
      "         Reporting_PHU_City_Timmins  Reporting_PHU_City_Toronto  \\\n",
      "class 1                    0.682745                    0.682745   \n",
      "class 2                    0.682745                    0.682745   \n",
      "class 3                    0.682745                    0.682745   \n",
      "\n",
      "         Reporting_PHU_City_Waterloo  Reporting_PHU_City_Whitby  \\\n",
      "class 1                     0.682745                   0.682745   \n",
      "class 2                     0.682745                   0.682745   \n",
      "class 3                     0.682745                   0.682745   \n",
      "\n",
      "         Reporting_PHU_City_Windsor  Outbreak_Related_Yes  Age_Group  \\\n",
      "class 1                    0.682745              0.682745   0.682745   \n",
      "class 2                    0.682745              0.682745   0.682745   \n",
      "class 3                    0.682745              0.682745   0.682745   \n",
      "\n",
      "         Reporting_PHU_Latitude  Reporting_PHU_Longitude  \n",
      "class 1                0.682745                 0.682745  \n",
      "class 2                0.682745                 0.682745  \n",
      "class 3                0.682745                 0.682745  \n",
      "\n",
      "[3 rows x 44 columns]\n"
     ]
    }
   ],
   "source": [
    "var = var_after - var_before\n",
    "df = pd.DataFrame(var, index = ['class 1','class 2','class 3'], columns = dataset_features.columns)\n",
    "print(df)"
   ]
  },
  {
   "cell_type": "markdown",
   "metadata": {},
   "source": [
    "<p>The above table shows the change in variance for all the features and classes with the change in var_smoothing paramter from 1e-9 to 0.001. We can see a change of 0.682745 in all the features, which indicates the stabilzation provided in calculation of prior probabilities. Moreover, it increases the variance to make it a better estimator.</p>\n",
    "<p>The var_smoothing parameter provides the portion of the largest variance of the features, that can be added based on the value in order to stabilize calculation linked with prior probabilities. This essentially widens (or \"smooths\") the curve and accounts for more samples that are further away from the distribution mean. Moreover, higher the variance between two features the less correlational and better estimator since Naive Bayes assumes that samples are i.i.d.</p> "
   ]
  },
  {
   "cell_type": "markdown",
   "metadata": {},
   "source": [
    "<h2>References</h2>\n",
    "\n",
    "<a>https://scikit-learn.org/stable/modules/naive_bayes.html</a>\n",
    "\n",
    "<a>https://scikit-learn.org/stable/modules/generated/sklearn.naive_bayes.GaussianNB.html#sklearn.naive_bayes.GaussianNB</a>\n",
    "\n",
    "<a>https://scikit-learn.org/stable/modules/generated/sklearn.model_selection.GridSearchCV.html</a>\n",
    "\n",
    "<a>https://scikit-learn.org/stable/modules/generated/sklearn.model_selection.KFold.html</a>\n",
    "\n",
    "<a>http://rasbt.github.io/mlxtend/user_guide/evaluate/confusion_matrix/</a>\n",
    "\n",
    "<a>https://stackoverflow.com/questions/58046129/can-someone-give-a-good-math-stats-explanation-as-to-what-the-parameter-var-smoo</a>\n",
    "\n",
    "<a>http://seaborn.pydata.org/</a>\n",
    "\n",
    "<a>https://scikit-learn.org/stable/modules/generated/sklearn.preprocessing.OneHotEncoder.html</a>\n",
    "\n",
    "<a>https://pandas.pydata.org/pandas-docs/stable/reference/api/pandas.DataFrame.drop.html</a>\n",
    "\n",
    "<a>https://scikit-learn.org/stable/modules/generated/sklearn.preprocessing.StandardScaler.html</a>"
   ]
  }
 ],
 "metadata": {
  "kernelspec": {
   "display_name": "Python 3",
   "language": "python",
   "name": "python3"
  },
  "language_info": {
   "codemirror_mode": {
    "name": "ipython",
    "version": 3
   },
   "file_extension": ".py",
   "mimetype": "text/x-python",
   "name": "python",
   "nbconvert_exporter": "python",
   "pygments_lexer": "ipython3",
   "version": "3.7.4"
  }
 },
 "nbformat": 4,
 "nbformat_minor": 2
}
