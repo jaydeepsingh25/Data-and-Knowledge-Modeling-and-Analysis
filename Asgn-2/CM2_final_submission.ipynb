{
 "cells": [
  {
   "cell_type": "markdown",
   "metadata": {},
   "source": [
    "<h2><center>ASSIGNMENT 2</center></h2>\n",
    "<h2><center>DEEP ASHISH JARIWALA, JAYDEEP SINGH</center></h2>\n",
    "<h2><center>GROUP - 31</center></h2>\n",
    "<h2><center>Q: CM2</center></h2>"
   ]
  },
  {
   "cell_type": "markdown",
   "metadata": {},
   "source": [
    "## COVID DATASET"
   ]
  },
  {
   "cell_type": "markdown",
   "metadata": {},
   "source": [
    "#### IMPORTING THE LIBRARIES"
   ]
  },
  {
   "cell_type": "code",
   "execution_count": 1,
   "metadata": {},
   "outputs": [],
   "source": [
    "import pandas as pd\n",
    "import numpy as np\n",
    "import matplotlib.pyplot as plt\n",
    "import seaborn as sns\n",
    "sns.set()\n",
    "\n",
    "from sklearn.model_selection import train_test_split\n",
    "from sklearn.preprocessing import StandardScaler\n",
    "from sklearn.metrics import accuracy_score, confusion_matrix\n",
    "from sklearn.model_selection import cross_val_score\n",
    "from sklearn.model_selection import GridSearchCV\n",
    "from sklearn.tree import DecisionTreeClassifier\n",
    "from sklearn.ensemble import RandomForestClassifier\n",
    "from sklearn.ensemble import GradientBoostingClassifier\n",
    "from sklearn import tree\n",
    "from sklearn.preprocessing import LabelEncoder\n",
    "from sklearn.model_selection import KFold\n",
    "from sklearn.preprocessing import OneHotEncoder\n",
    "from mlxtend.plotting import plot_confusion_matrix"
   ]
  },
  {
   "cell_type": "markdown",
   "metadata": {},
   "source": [
    "#### IMPORTING THE DATASET"
   ]
  },
  {
   "cell_type": "code",
   "execution_count": 2,
   "metadata": {},
   "outputs": [
    {
     "data": {
      "text/html": [
       "<div>\n",
       "<style scoped>\n",
       "    .dataframe tbody tr th:only-of-type {\n",
       "        vertical-align: middle;\n",
       "    }\n",
       "\n",
       "    .dataframe tbody tr th {\n",
       "        vertical-align: top;\n",
       "    }\n",
       "\n",
       "    .dataframe thead th {\n",
       "        text-align: right;\n",
       "    }\n",
       "</style>\n",
       "<table border=\"1\" class=\"dataframe\">\n",
       "  <thead>\n",
       "    <tr style=\"text-align: right;\">\n",
       "      <th></th>\n",
       "      <th>Age_Group</th>\n",
       "      <th>Client_Gender</th>\n",
       "      <th>Case_AcquisitionInfo</th>\n",
       "      <th>Reporting_PHU_City</th>\n",
       "      <th>Outbreak_Related</th>\n",
       "      <th>Reporting_PHU_Latitude</th>\n",
       "      <th>Reporting_PHU_Longitude</th>\n",
       "      <th>Outcome1</th>\n",
       "    </tr>\n",
       "  </thead>\n",
       "  <tbody>\n",
       "    <tr>\n",
       "      <td>0</td>\n",
       "      <td>50s</td>\n",
       "      <td>MALE</td>\n",
       "      <td>NO KNOWN EPI LINK</td>\n",
       "      <td>Oakville</td>\n",
       "      <td>NaN</td>\n",
       "      <td>43.413997</td>\n",
       "      <td>-79.744796</td>\n",
       "      <td>Resolved</td>\n",
       "    </tr>\n",
       "    <tr>\n",
       "      <td>1</td>\n",
       "      <td>20s</td>\n",
       "      <td>FEMALE</td>\n",
       "      <td>CC</td>\n",
       "      <td>Guelph</td>\n",
       "      <td>NaN</td>\n",
       "      <td>43.524881</td>\n",
       "      <td>-80.233743</td>\n",
       "      <td>Not Resolved</td>\n",
       "    </tr>\n",
       "    <tr>\n",
       "      <td>2</td>\n",
       "      <td>90s</td>\n",
       "      <td>FEMALE</td>\n",
       "      <td>OB</td>\n",
       "      <td>Barrie</td>\n",
       "      <td>Yes</td>\n",
       "      <td>44.410713</td>\n",
       "      <td>-79.686306</td>\n",
       "      <td>Resolved</td>\n",
       "    </tr>\n",
       "    <tr>\n",
       "      <td>3</td>\n",
       "      <td>20s</td>\n",
       "      <td>FEMALE</td>\n",
       "      <td>MISSING INFORMATION</td>\n",
       "      <td>Toronto</td>\n",
       "      <td>NaN</td>\n",
       "      <td>43.656591</td>\n",
       "      <td>-79.379358</td>\n",
       "      <td>Resolved</td>\n",
       "    </tr>\n",
       "    <tr>\n",
       "      <td>4</td>\n",
       "      <td>90s</td>\n",
       "      <td>FEMALE</td>\n",
       "      <td>OB</td>\n",
       "      <td>Ottawa</td>\n",
       "      <td>Yes</td>\n",
       "      <td>45.345665</td>\n",
       "      <td>-75.763912</td>\n",
       "      <td>Fatal</td>\n",
       "    </tr>\n",
       "  </tbody>\n",
       "</table>\n",
       "</div>"
      ],
      "text/plain": [
       "  Age_Group Client_Gender Case_AcquisitionInfo Reporting_PHU_City  \\\n",
       "0       50s          MALE    NO KNOWN EPI LINK           Oakville   \n",
       "1       20s        FEMALE                   CC             Guelph   \n",
       "2       90s        FEMALE                   OB             Barrie   \n",
       "3       20s        FEMALE  MISSING INFORMATION            Toronto   \n",
       "4       90s        FEMALE                   OB             Ottawa   \n",
       "\n",
       "  Outbreak_Related  Reporting_PHU_Latitude  Reporting_PHU_Longitude  \\\n",
       "0              NaN               43.413997               -79.744796   \n",
       "1              NaN               43.524881               -80.233743   \n",
       "2              Yes               44.410713               -79.686306   \n",
       "3              NaN               43.656591               -79.379358   \n",
       "4              Yes               45.345665               -75.763912   \n",
       "\n",
       "       Outcome1  \n",
       "0      Resolved  \n",
       "1  Not Resolved  \n",
       "2      Resolved  \n",
       "3      Resolved  \n",
       "4         Fatal  "
      ]
     },
     "execution_count": 2,
     "metadata": {},
     "output_type": "execute_result"
    }
   ],
   "source": [
    "dataset = pd.read_csv(\"covid_train.csv\")\n",
    "dataset.head(5)"
   ]
  },
  {
   "cell_type": "markdown",
   "metadata": {},
   "source": [
    "#### EXPLORATORY DATA ANALYSIS"
   ]
  },
  {
   "cell_type": "code",
   "execution_count": 3,
   "metadata": {},
   "outputs": [
    {
     "data": {
      "text/plain": [
       "<matplotlib.axes._subplots.AxesSubplot at 0x26a7155de88>"
      ]
     },
     "execution_count": 3,
     "metadata": {},
     "output_type": "execute_result"
    },
    {
     "data": {
      "image/png": "[encoded data removed]",
      "text/plain": [
       "<Figure size 1080x720 with 4 Axes>"
      ]
     },
     "metadata": {
      "needs_background": "light"
     },
     "output_type": "display_data"
    }
   ],
   "source": [
    "fig = plt.figure(figsize=(15,10))\n",
    "\n",
    "plt.subplot(221)\n",
    "plt.title(\"Distribution of Age group\")\n",
    "sns.countplot(x='Age_Group', hue='Outcome1', data = dataset, palette = 'dark')\n",
    "\n",
    "plt.subplot(222)\n",
    "plt.title(\"Distribution of Gender\")\n",
    "sns.countplot(x='Client_Gender', hue='Outcome1', data = dataset, palette = 'dark')\n",
    "\n",
    "plt.subplot(223)\n",
    "plt.title(\"Distribution of Case acquisition info\")\n",
    "sns.countplot(x='Case_AcquisitionInfo', hue='Outcome1', data = dataset, palette = 'dark')\n",
    "\n",
    "plt.subplot(224)\n",
    "plt.title(\"Distribution of Case acquisition info\")\n",
    "sns.scatterplot(x = 'Reporting_PHU_Latitude', y = 'Reporting_PHU_Longitude', hue = 'Outcome1', data = dataset)"
   ]
  },
  {
   "cell_type": "markdown",
   "metadata": {},
   "source": [
    "<p><b>Important features observed from the plots:</b></p>\n",
    "<ul>\n",
    "            <li>The age group of 70s, 80s and 90s has observed the highest fatal outcomes compared to other classes.</li>\n",
    "            <li>There is particular pattern observed in the gender histogram plot. All the classes of outcomes are equally divided among males and females. The unspecified also has an almost equal distribution of target.</li>\n",
    "            <li>The case aquisition info provides one interesting pattern, The Outbreak(OB) class in acquissition info has the highest fatal outcomes.</li>\n",
    "            <li>An interesting pattern is observed in longitude v/s latitude plot, The box covered by latitude(43,44) and longitude(-77.5,-82.5) has the cases with most fatal outcomes. This region can be a red zone.</li>\n",
    "</ul>"
   ]
  },
  {
   "cell_type": "markdown",
   "metadata": {},
   "source": [
    "####  DATA CLEANING AND PREPROCESSING "
   ]
  },
  {
   "cell_type": "code",
   "execution_count": 4,
   "metadata": {},
   "outputs": [
    {
     "name": "stdout",
     "output_type": "stream",
     "text": [
      "Age_Group                     6\n",
      "Client_Gender                 0\n",
      "Case_AcquisitionInfo          0\n",
      "Reporting_PHU_City            0\n",
      "Outbreak_Related           9020\n",
      "Reporting_PHU_Latitude        0\n",
      "Reporting_PHU_Longitude       0\n",
      "Outcome1                      0\n",
      "dtype: int64\n"
     ]
    },
    {
     "data": {
      "text/html": [
       "<div>\n",
       "<style scoped>\n",
       "    .dataframe tbody tr th:only-of-type {\n",
       "        vertical-align: middle;\n",
       "    }\n",
       "\n",
       "    .dataframe tbody tr th {\n",
       "        vertical-align: top;\n",
       "    }\n",
       "\n",
       "    .dataframe thead th {\n",
       "        text-align: right;\n",
       "    }\n",
       "</style>\n",
       "<table border=\"1\" class=\"dataframe\">\n",
       "  <thead>\n",
       "    <tr style=\"text-align: right;\">\n",
       "      <th></th>\n",
       "      <th>Age_Group</th>\n",
       "      <th>Client_Gender</th>\n",
       "      <th>Case_AcquisitionInfo</th>\n",
       "      <th>Reporting_PHU_City</th>\n",
       "      <th>Outbreak_Related</th>\n",
       "      <th>Reporting_PHU_Latitude</th>\n",
       "      <th>Reporting_PHU_Longitude</th>\n",
       "      <th>Outcome1</th>\n",
       "    </tr>\n",
       "  </thead>\n",
       "  <tbody>\n",
       "    <tr>\n",
       "      <td>0</td>\n",
       "      <td>50s</td>\n",
       "      <td>MALE</td>\n",
       "      <td>NO KNOWN EPI LINK</td>\n",
       "      <td>Oakville</td>\n",
       "      <td>No</td>\n",
       "      <td>43.413997</td>\n",
       "      <td>-79.744796</td>\n",
       "      <td>Resolved</td>\n",
       "    </tr>\n",
       "    <tr>\n",
       "      <td>1</td>\n",
       "      <td>20s</td>\n",
       "      <td>FEMALE</td>\n",
       "      <td>CC</td>\n",
       "      <td>Guelph</td>\n",
       "      <td>No</td>\n",
       "      <td>43.524881</td>\n",
       "      <td>-80.233743</td>\n",
       "      <td>Not Resolved</td>\n",
       "    </tr>\n",
       "    <tr>\n",
       "      <td>2</td>\n",
       "      <td>90s</td>\n",
       "      <td>FEMALE</td>\n",
       "      <td>OB</td>\n",
       "      <td>Barrie</td>\n",
       "      <td>Yes</td>\n",
       "      <td>44.410713</td>\n",
       "      <td>-79.686306</td>\n",
       "      <td>Resolved</td>\n",
       "    </tr>\n",
       "    <tr>\n",
       "      <td>3</td>\n",
       "      <td>20s</td>\n",
       "      <td>FEMALE</td>\n",
       "      <td>MISSING INFORMATION</td>\n",
       "      <td>Toronto</td>\n",
       "      <td>No</td>\n",
       "      <td>43.656591</td>\n",
       "      <td>-79.379358</td>\n",
       "      <td>Resolved</td>\n",
       "    </tr>\n",
       "    <tr>\n",
       "      <td>4</td>\n",
       "      <td>90s</td>\n",
       "      <td>FEMALE</td>\n",
       "      <td>OB</td>\n",
       "      <td>Ottawa</td>\n",
       "      <td>Yes</td>\n",
       "      <td>45.345665</td>\n",
       "      <td>-75.763912</td>\n",
       "      <td>Fatal</td>\n",
       "    </tr>\n",
       "  </tbody>\n",
       "</table>\n",
       "</div>"
      ],
      "text/plain": [
       "  Age_Group Client_Gender Case_AcquisitionInfo Reporting_PHU_City  \\\n",
       "0       50s          MALE    NO KNOWN EPI LINK           Oakville   \n",
       "1       20s        FEMALE                   CC             Guelph   \n",
       "2       90s        FEMALE                   OB             Barrie   \n",
       "3       20s        FEMALE  MISSING INFORMATION            Toronto   \n",
       "4       90s        FEMALE                   OB             Ottawa   \n",
       "\n",
       "  Outbreak_Related  Reporting_PHU_Latitude  Reporting_PHU_Longitude  \\\n",
       "0               No               43.413997               -79.744796   \n",
       "1               No               43.524881               -80.233743   \n",
       "2              Yes               44.410713               -79.686306   \n",
       "3               No               43.656591               -79.379358   \n",
       "4              Yes               45.345665               -75.763912   \n",
       "\n",
       "       Outcome1  \n",
       "0      Resolved  \n",
       "1  Not Resolved  \n",
       "2      Resolved  \n",
       "3      Resolved  \n",
       "4         Fatal  "
      ]
     },
     "execution_count": 4,
     "metadata": {},
     "output_type": "execute_result"
    }
   ],
   "source": [
    "print(dataset.isna().sum())\n",
    "\n",
    "# replacing NaN in Outbreak_Related with NO \n",
    "dataset['Outbreak_Related'] = dataset['Outbreak_Related'].fillna(\"No\") \n",
    "\n",
    "# Dropping NaN values in Age_Group\n",
    "dataset = dataset.dropna()\n",
    "\n",
    "# Dropping unspecified gender values\n",
    "dataset = dataset[dataset['Client_Gender'] != 'UNSPECIFIED']\n",
    "dataset.head(5)"
   ]
  },
  {
   "cell_type": "code",
   "execution_count": 5,
   "metadata": {},
   "outputs": [
    {
     "data": {
      "text/html": [
       "<div>\n",
       "<style scoped>\n",
       "    .dataframe tbody tr th:only-of-type {\n",
       "        vertical-align: middle;\n",
       "    }\n",
       "\n",
       "    .dataframe tbody tr th {\n",
       "        vertical-align: top;\n",
       "    }\n",
       "\n",
       "    .dataframe thead th {\n",
       "        text-align: right;\n",
       "    }\n",
       "</style>\n",
       "<table border=\"1\" class=\"dataframe\">\n",
       "  <thead>\n",
       "    <tr style=\"text-align: right;\">\n",
       "      <th></th>\n",
       "      <th>Client_Gender_GENDER DIVERSE</th>\n",
       "      <th>Client_Gender_MALE</th>\n",
       "      <th>Case_AcquisitionInfo_MISSING INFORMATION</th>\n",
       "      <th>Case_AcquisitionInfo_NO KNOWN EPI LINK</th>\n",
       "      <th>Case_AcquisitionInfo_OB</th>\n",
       "      <th>Case_AcquisitionInfo_TRAVEL</th>\n",
       "      <th>Case_AcquisitionInfo_UNSPECIFIED EPI LINK</th>\n",
       "      <th>Reporting_PHU_City_Belleville</th>\n",
       "      <th>Reporting_PHU_City_Brantford</th>\n",
       "      <th>Reporting_PHU_City_Brockville</th>\n",
       "      <th>...</th>\n",
       "      <th>Reporting_PHU_City_Thunder Bay</th>\n",
       "      <th>Reporting_PHU_City_Timmins</th>\n",
       "      <th>Reporting_PHU_City_Toronto</th>\n",
       "      <th>Reporting_PHU_City_Waterloo</th>\n",
       "      <th>Reporting_PHU_City_Whitby</th>\n",
       "      <th>Reporting_PHU_City_Windsor</th>\n",
       "      <th>Outbreak_Related_Yes</th>\n",
       "      <th>Age_Group</th>\n",
       "      <th>Reporting_PHU_Latitude</th>\n",
       "      <th>Reporting_PHU_Longitude</th>\n",
       "    </tr>\n",
       "  </thead>\n",
       "  <tbody>\n",
       "    <tr>\n",
       "      <td>0</td>\n",
       "      <td>0.0</td>\n",
       "      <td>1.0</td>\n",
       "      <td>0.0</td>\n",
       "      <td>1.0</td>\n",
       "      <td>0.0</td>\n",
       "      <td>0.0</td>\n",
       "      <td>0.0</td>\n",
       "      <td>0.0</td>\n",
       "      <td>0.0</td>\n",
       "      <td>0.0</td>\n",
       "      <td>...</td>\n",
       "      <td>0.0</td>\n",
       "      <td>0.0</td>\n",
       "      <td>0.0</td>\n",
       "      <td>0.0</td>\n",
       "      <td>0.0</td>\n",
       "      <td>0.0</td>\n",
       "      <td>0.0</td>\n",
       "      <td>5</td>\n",
       "      <td>43.413997</td>\n",
       "      <td>-79.744796</td>\n",
       "    </tr>\n",
       "    <tr>\n",
       "      <td>1</td>\n",
       "      <td>0.0</td>\n",
       "      <td>0.0</td>\n",
       "      <td>0.0</td>\n",
       "      <td>0.0</td>\n",
       "      <td>0.0</td>\n",
       "      <td>0.0</td>\n",
       "      <td>0.0</td>\n",
       "      <td>0.0</td>\n",
       "      <td>0.0</td>\n",
       "      <td>0.0</td>\n",
       "      <td>...</td>\n",
       "      <td>0.0</td>\n",
       "      <td>0.0</td>\n",
       "      <td>0.0</td>\n",
       "      <td>0.0</td>\n",
       "      <td>0.0</td>\n",
       "      <td>0.0</td>\n",
       "      <td>0.0</td>\n",
       "      <td>2</td>\n",
       "      <td>43.524881</td>\n",
       "      <td>-80.233743</td>\n",
       "    </tr>\n",
       "    <tr>\n",
       "      <td>2</td>\n",
       "      <td>0.0</td>\n",
       "      <td>0.0</td>\n",
       "      <td>0.0</td>\n",
       "      <td>0.0</td>\n",
       "      <td>1.0</td>\n",
       "      <td>0.0</td>\n",
       "      <td>0.0</td>\n",
       "      <td>0.0</td>\n",
       "      <td>0.0</td>\n",
       "      <td>0.0</td>\n",
       "      <td>...</td>\n",
       "      <td>0.0</td>\n",
       "      <td>0.0</td>\n",
       "      <td>0.0</td>\n",
       "      <td>0.0</td>\n",
       "      <td>0.0</td>\n",
       "      <td>0.0</td>\n",
       "      <td>1.0</td>\n",
       "      <td>9</td>\n",
       "      <td>44.410713</td>\n",
       "      <td>-79.686306</td>\n",
       "    </tr>\n",
       "    <tr>\n",
       "      <td>3</td>\n",
       "      <td>0.0</td>\n",
       "      <td>0.0</td>\n",
       "      <td>1.0</td>\n",
       "      <td>0.0</td>\n",
       "      <td>0.0</td>\n",
       "      <td>0.0</td>\n",
       "      <td>0.0</td>\n",
       "      <td>0.0</td>\n",
       "      <td>0.0</td>\n",
       "      <td>0.0</td>\n",
       "      <td>...</td>\n",
       "      <td>0.0</td>\n",
       "      <td>0.0</td>\n",
       "      <td>1.0</td>\n",
       "      <td>0.0</td>\n",
       "      <td>0.0</td>\n",
       "      <td>0.0</td>\n",
       "      <td>0.0</td>\n",
       "      <td>2</td>\n",
       "      <td>43.656591</td>\n",
       "      <td>-79.379358</td>\n",
       "    </tr>\n",
       "    <tr>\n",
       "      <td>4</td>\n",
       "      <td>0.0</td>\n",
       "      <td>0.0</td>\n",
       "      <td>0.0</td>\n",
       "      <td>0.0</td>\n",
       "      <td>1.0</td>\n",
       "      <td>0.0</td>\n",
       "      <td>0.0</td>\n",
       "      <td>0.0</td>\n",
       "      <td>0.0</td>\n",
       "      <td>0.0</td>\n",
       "      <td>...</td>\n",
       "      <td>0.0</td>\n",
       "      <td>0.0</td>\n",
       "      <td>0.0</td>\n",
       "      <td>0.0</td>\n",
       "      <td>0.0</td>\n",
       "      <td>0.0</td>\n",
       "      <td>1.0</td>\n",
       "      <td>9</td>\n",
       "      <td>45.345665</td>\n",
       "      <td>-75.763912</td>\n",
       "    </tr>\n",
       "  </tbody>\n",
       "</table>\n",
       "<p>5 rows × 44 columns</p>\n",
       "</div>"
      ],
      "text/plain": [
       "   Client_Gender_GENDER DIVERSE  Client_Gender_MALE  \\\n",
       "0                           0.0                 1.0   \n",
       "1                           0.0                 0.0   \n",
       "2                           0.0                 0.0   \n",
       "3                           0.0                 0.0   \n",
       "4                           0.0                 0.0   \n",
       "\n",
       "   Case_AcquisitionInfo_MISSING INFORMATION  \\\n",
       "0                                       0.0   \n",
       "1                                       0.0   \n",
       "2                                       0.0   \n",
       "3                                       1.0   \n",
       "4                                       0.0   \n",
       "\n",
       "   Case_AcquisitionInfo_NO KNOWN EPI LINK  Case_AcquisitionInfo_OB  \\\n",
       "0                                     1.0                      0.0   \n",
       "1                                     0.0                      0.0   \n",
       "2                                     0.0                      1.0   \n",
       "3                                     0.0                      0.0   \n",
       "4                                     0.0                      1.0   \n",
       "\n",
       "   Case_AcquisitionInfo_TRAVEL  Case_AcquisitionInfo_UNSPECIFIED EPI LINK  \\\n",
       "0                          0.0                                        0.0   \n",
       "1                          0.0                                        0.0   \n",
       "2                          0.0                                        0.0   \n",
       "3                          0.0                                        0.0   \n",
       "4                          0.0                                        0.0   \n",
       "\n",
       "   Reporting_PHU_City_Belleville  Reporting_PHU_City_Brantford  \\\n",
       "0                            0.0                           0.0   \n",
       "1                            0.0                           0.0   \n",
       "2                            0.0                           0.0   \n",
       "3                            0.0                           0.0   \n",
       "4                            0.0                           0.0   \n",
       "\n",
       "   Reporting_PHU_City_Brockville  ...  Reporting_PHU_City_Thunder Bay  \\\n",
       "0                            0.0  ...                             0.0   \n",
       "1                            0.0  ...                             0.0   \n",
       "2                            0.0  ...                             0.0   \n",
       "3                            0.0  ...                             0.0   \n",
       "4                            0.0  ...                             0.0   \n",
       "\n",
       "   Reporting_PHU_City_Timmins  Reporting_PHU_City_Toronto  \\\n",
       "0                         0.0                         0.0   \n",
       "1                         0.0                         0.0   \n",
       "2                         0.0                         0.0   \n",
       "3                         0.0                         1.0   \n",
       "4                         0.0                         0.0   \n",
       "\n",
       "   Reporting_PHU_City_Waterloo  Reporting_PHU_City_Whitby  \\\n",
       "0                          0.0                        0.0   \n",
       "1                          0.0                        0.0   \n",
       "2                          0.0                        0.0   \n",
       "3                          0.0                        0.0   \n",
       "4                          0.0                        0.0   \n",
       "\n",
       "   Reporting_PHU_City_Windsor  Outbreak_Related_Yes  Age_Group  \\\n",
       "0                         0.0                   0.0          5   \n",
       "1                         0.0                   0.0          2   \n",
       "2                         0.0                   1.0          9   \n",
       "3                         0.0                   0.0          2   \n",
       "4                         0.0                   1.0          9   \n",
       "\n",
       "   Reporting_PHU_Latitude  Reporting_PHU_Longitude  \n",
       "0               43.413997               -79.744796  \n",
       "1               43.524881               -80.233743  \n",
       "2               44.410713               -79.686306  \n",
       "3               43.656591               -79.379358  \n",
       "4               45.345665               -75.763912  \n",
       "\n",
       "[5 rows x 44 columns]"
      ]
     },
     "execution_count": 5,
     "metadata": {},
     "output_type": "execute_result"
    }
   ],
   "source": [
    "dataset_features = dataset.iloc[:,:-1]\n",
    "dataset_target = dataset.iloc[:, -1]\n",
    "\n",
    "dataset_features['Age_Group'] = dataset_features['Age_Group'].replace({'<20': 1, '20s': 2, '30s': 3 , '40s': 4, '50s': 5, '60s': 6, '70s': 7, '80s': 8, '90s': 9})\n",
    "\n",
    "categorical_cols = ['Client_Gender','Case_AcquisitionInfo','Reporting_PHU_City','Outbreak_Related']\n",
    "# Create the encoder.\n",
    "encoder = OneHotEncoder(categories = \"auto\", handle_unknown=\"error\", sparse = False, drop= 'first')\n",
    "# Fit and transform encoder to X\n",
    "array_hot_encoded = encoder.fit_transform(dataset_features[categorical_cols])\n",
    "# convert it to a Data Frame\n",
    "data_hot_encoded = pd.DataFrame(array_hot_encoded, index=dataset_features.index)\n",
    "# set column names of encoded dataframe\n",
    "data_hot_encoded.columns = encoder.get_feature_names(categorical_cols)\n",
    "# concatenate other columns with the encoded columns to get the final datset\n",
    "data_other_cols = dataset_features.drop(columns=categorical_cols)\n",
    "dataset_features = pd.concat([data_hot_encoded, data_other_cols], axis=1)\n",
    "dataset_features.head()\n"
   ]
  },
  {
   "cell_type": "markdown",
   "metadata": {},
   "source": [
    "<p>The following steps are performed as a part of preprocessing the dataset into training set.</p>\n",
    "<ul>\n",
    "            <li>Imputation of NaN values in the Outbreak_related columns, all the NaNs are replaced with \"No\".</li>\n",
    "            <li>All the values of unspecified gender are removed from the dataset, since the values were very less compared to the total size of the dataset.</li>\n",
    "            <li>All the remaining NaN values were observed in Age_Group, which were dropped because only 6 values out of 14850 values were missing.</li>\n",
    "            <li>Label encoding of Age_Group data as it is ordinal type of dataset. Moreover, the age wise ranking is also preserved in case of label encoding.</li>\n",
    "            <li>Other categorical features (Client_Gender, Case_AcquisitionInfo, Reporting_PHU_City, Outbreak_Related) were transformed using One-Hot Encoding for better results.</li>\n",
    "</ul>"
   ]
  },
  {
   "cell_type": "code",
   "execution_count": 6,
   "metadata": {},
   "outputs": [],
   "source": [
    "X, X_test, y, y_test = train_test_split(dataset_features, dataset_target, test_size = 0.15, random_state = 0)"
   ]
  },
  {
   "cell_type": "markdown",
   "metadata": {},
   "source": [
    "<p> The dataset is splited into training and test using train_test_split method in sklearn. 85% dataset is used for training and then applied to grid search cv(using 10 fold cross validation) to tune the best parameters. The best tuned hyperparameters are used to train the model again and is tested on the 15% test set seperated to get the final accuracy. All the splits and algorithm used are applied with random_state = 0.</p> \n",
    "<p>Generally, Decision trees and ensemble methods do not require feature scaling to be performed as they are not sensitive to the the variance in the data. In this case, majority of the variables are categorical in nature and the numeric variable shows coordinate location of a point. Therefore, feature scaling is not applied in COVID dataset.</p>"
   ]
  },
  {
   "cell_type": "markdown",
   "metadata": {},
   "source": [
    "# DECISION TREE CLASSIFICATION ALGORITHM"
   ]
  },
  {
   "cell_type": "markdown",
   "metadata": {},
   "source": [
    "#### TRAINING THE DATASET AND APPLYING GRID_SEARCH_CV METHOD "
   ]
  },
  {
   "cell_type": "code",
   "execution_count": 7,
   "metadata": {},
   "outputs": [
    {
     "name": "stdout",
     "output_type": "stream",
     "text": [
      "Best Accuracy obtained for Decision Tree Classifier: 66.21 %\n",
      "Best Parameters found for Decision Tree Classifier: {'max_depth': 10}\n"
     ]
    }
   ],
   "source": [
    "dtclassifier = DecisionTreeClassifier(random_state = 0)\n",
    "dtclassifier.fit(X, y)\n",
    "\n",
    "cv = KFold(n_splits=10, random_state=0, shuffle=True)\n",
    "parameters = [{'max_depth': [3, 5, 10, None]}]\n",
    "grid_search = GridSearchCV(estimator = dtclassifier,\n",
    "                           param_grid = parameters,\n",
    "                           scoring = 'accuracy',\n",
    "                           cv = cv,\n",
    "                           n_jobs = -1)\n",
    "grid_search.fit(dataset_features.values, dataset_target.values)\n",
    "best_accuracy = grid_search.best_score_\n",
    "best_parameters = grid_search.best_params_\n",
    "results = grid_search.cv_results_\n",
    "print(\"Best Accuracy obtained for Decision Tree Classifier: {:.2f} %\".format(best_accuracy*100))\n",
    "print(\"Best Parameters found for Decision Tree Classifier:\", best_parameters)"
   ]
  },
  {
   "cell_type": "markdown",
   "metadata": {},
   "source": [
    "<p>The box above shows GRID_SEARCH_CV method to find the best parameters. This method utilizes the concept of K-fold cross validation to evaluate the model on different parameters. This case involves tuning of maximum depth of trees. The best parameters obtained for this case are: maximum depth of 10. The box below shows all the results (for all the folds, mean accuracy, ranked test score among all the splits and computation time for grid search parameter tuning).</p>"
   ]
  },
  {
   "cell_type": "code",
   "execution_count": 8,
   "metadata": {},
   "outputs": [
    {
     "data": {
      "text/plain": [
       "{'mean_fit_time': array([0.07250628, 0.07509911, 0.08706622, 0.08886116]),\n",
       " 'std_fit_time': array([0.00553483, 0.00348519, 0.00448301, 0.0157536 ]),\n",
       " 'mean_score_time': array([0.00259218, 0.00209405, 0.00219438, 0.00249336]),\n",
       " 'std_score_time': array([0.00048865, 0.00029857, 0.00039841, 0.00066855]),\n",
       " 'param_max_depth': masked_array(data=[3, 5, 10, None],\n",
       "              mask=[False, False, False, False],\n",
       "        fill_value='?',\n",
       "             dtype=object),\n",
       " 'params': [{'max_depth': 3},\n",
       "  {'max_depth': 5},\n",
       "  {'max_depth': 10},\n",
       "  {'max_depth': None}],\n",
       " 'split0_test_score': array([0.66508475, 0.67186441, 0.66508475, 0.64067797]),\n",
       " 'split1_test_score': array([0.64789688, 0.66214383, 0.66485753, 0.65468114]),\n",
       " 'split2_test_score': array([0.66078697, 0.66621438, 0.67774763, 0.6614654 ]),\n",
       " 'split3_test_score': array([0.65671642, 0.66485753, 0.66824966, 0.64857531]),\n",
       " 'split4_test_score': array([0.64993216, 0.65739484, 0.65739484, 0.64925373]),\n",
       " 'split5_test_score': array([0.64518318, 0.65264586, 0.66010855, 0.63975577]),\n",
       " 'split6_test_score': array([0.6458616 , 0.65400271, 0.65603799, 0.65603799]),\n",
       " 'split7_test_score': array([0.63975577, 0.65196744, 0.66350068, 0.64246947]),\n",
       " 'split8_test_score': array([0.6641791 , 0.67639077, 0.66621438, 0.66485753]),\n",
       " 'split9_test_score': array([0.6431479 , 0.65061058, 0.64179104, 0.64043419]),\n",
       " 'mean_test_score': array([0.65185447, 0.66080924, 0.66209871, 0.64982085]),\n",
       " 'std_test_score': array([0.00867368, 0.00848059, 0.00890716, 0.00867696]),\n",
       " 'rank_test_score': array([3, 2, 1, 4])}"
      ]
     },
     "execution_count": 8,
     "metadata": {},
     "output_type": "execute_result"
    }
   ],
   "source": [
    "results"
   ]
  },
  {
   "cell_type": "code",
   "execution_count": 9,
   "metadata": {},
   "outputs": [
    {
     "data": {
      "text/plain": [
       "Text(0.5, 1.0, 'Graph of mean accuracy v/s tree depth')"
      ]
     },
     "execution_count": 9,
     "metadata": {},
     "output_type": "execute_result"
    },
    {
     "data": {
      "image/png": "[encoded data removed]",
      "text/plain": [
       "<Figure size 432x288 with 1 Axes>"
      ]
     },
     "metadata": {
      "needs_background": "light"
     },
     "output_type": "display_data"
    }
   ],
   "source": [
    "# values taken from GridSearchCV mean_test_score\n",
    "mean_accuracy = [0.65173768, 0.65779979, 0.66150431, 0.65402516]\n",
    "depth = [3, 5, 10, 28]\n",
    "\n",
    "plt.title('Accuracy v/s depth curve gini index as criterion')\n",
    "sns.lineplot(depth, mean_accuracy)\n",
    "plt.xlabel(\"Max_depth\")\n",
    "plt.ylabel(\"Validation accuracy\")\n",
    "plt.title(\"Graph of mean accuracy v/s tree depth\")"
   ]
  },
  {
   "cell_type": "markdown",
   "metadata": {},
   "source": [
    "<p>The graph shows variation of accuracy with the changing values of max_depth of the tree, with the highest accuracy observed at max_depth = 10. In this case, max_depth of 28 corresponds to default/None value</p>"
   ]
  },
  {
   "cell_type": "code",
   "execution_count": 10,
   "metadata": {},
   "outputs": [
    {
     "name": "stdout",
     "output_type": "stream",
     "text": [
      "The default parameters(max_depth = None) produces a depth of : 28\n"
     ]
    },
    {
     "data": {
      "image/png": "[encoded data removed]",
      "text/plain": [
       "<Figure size 432x288 with 1 Axes>"
      ]
     },
     "metadata": {
      "needs_background": "light"
     },
     "output_type": "display_data"
    },
    {
     "name": "stdout",
     "output_type": "stream",
     "text": [
      "The accuracy obtained on test set with best tuned parameters using decision tree classifier : 66.72694394213381 % \n"
     ]
    }
   ],
   "source": [
    "print(f\"The default parameters(max_depth = None) produces a depth of : {dtclassifier.get_depth()}\")\n",
    "dtclassifier_final = DecisionTreeClassifier(max_depth = 10, random_state = 0)\n",
    "dtclassifier_final.fit(X, y)\n",
    "\n",
    "y_pred = dtclassifier_final.predict(X_test)\n",
    "cm = confusion_matrix(y_test, y_pred)\n",
    "fig, ax = plot_confusion_matrix(conf_mat=cm)\n",
    "plt.show()\n",
    "ac = accuracy_score(y_test, y_pred)\n",
    "print(f\"The accuracy obtained on test set with best tuned parameters using decision tree classifier : {ac*100} % \")"
   ]
  },
  {
   "cell_type": "markdown",
   "metadata": {},
   "source": [
    "#### THE TREE DIAGRAM IS SHOWN AT THE END"
   ]
  },
  {
   "cell_type": "code",
   "execution_count": 11,
   "metadata": {},
   "outputs": [],
   "source": [
    "from sklearn.tree import export_graphviz\n",
    "# Export as dot file\n",
    "export_graphviz(dtclassifier_final, max_depth = 3, out_file = 'tree.dot',feature_names = list(dataset_features.columns))"
   ]
  },
  {
   "cell_type": "code",
   "execution_count": 12,
   "metadata": {},
   "outputs": [],
   "source": [
    "from sklearn.tree import export_graphviz\n",
    "# Export as dot file\n",
    "export_graphviz(dtclassifier_final, out_file = 'tree1.dot',feature_names = list(dataset_features.columns))"
   ]
  },
  {
   "cell_type": "markdown",
   "metadata": {},
   "source": [
    "# RANDOM FOREST CLASSIFICATION ALGORITHM"
   ]
  },
  {
   "cell_type": "markdown",
   "metadata": {},
   "source": [
    "#### TRAINING THE DATASET AND APPLYING GRID_SEARCH_CV METHOD "
   ]
  },
  {
   "cell_type": "code",
   "execution_count": 13,
   "metadata": {},
   "outputs": [
    {
     "name": "stdout",
     "output_type": "stream",
     "text": [
      "Best Accuracy obtained for Random Forest Classifier: 66.88 %\n",
      "Best Parameters found for Random Forest Classifier: {'max_depth': 10, 'n_estimators': 150}\n"
     ]
    }
   ],
   "source": [
    "rfclassifier = RandomForestClassifier(random_state = 0)\n",
    "rfclassifier.fit(X, y)\n",
    "\n",
    "parameters = [{'n_estimators': [5, 10, 50, 150, 200] , 'max_depth': [3, 5, 10, None]}]\n",
    "grid_search = GridSearchCV(estimator = rfclassifier,\n",
    "                           param_grid = parameters,\n",
    "                           scoring = 'accuracy',\n",
    "                           cv = cv,\n",
    "                           n_jobs = -1)\n",
    "grid_search.fit(X, y)\n",
    "best_accuracy = grid_search.best_score_\n",
    "best_parameters = grid_search.best_params_\n",
    "results = grid_search.cv_results_\n",
    "print(\"Best Accuracy obtained for Random Forest Classifier: {:.2f} %\".format(best_accuracy*100))\n",
    "print(\"Best Parameters found for Random Forest Classifier:\", best_parameters)"
   ]
  },
  {
   "cell_type": "markdown",
   "metadata": {},
   "source": [
    "<p>The box above shows GRID_SEARCH_CV method to find the best parameters. This method utilizes the concept of K-fold cross validation to evaluate the model on different parameters. This case involves tuning of maximum depth of trees and number of estimators to be used. The best parameters obtained for this case are: maximum depth of 10 and number of estimators as 200. The box below shows all the results (for all the folds, mean accuracy, ranked test score among all the splits and computation time for grid search parameter tuning).</p>"
   ]
  },
  {
   "cell_type": "code",
   "execution_count": 14,
   "metadata": {},
   "outputs": [
    {
     "data": {
      "text/plain": [
       "{'mean_fit_time': array([0.06163518, 0.08028443, 0.24484491, 0.68805912, 0.85412037,\n",
       "        0.05824366, 0.08622437, 0.31515598, 0.89999189, 1.08449814,\n",
       "        0.07499986, 0.11977932, 0.47673335, 1.40648649, 1.8932348 ,\n",
       "        0.10601733, 0.18540483, 0.79347637, 2.4683043 , 3.17450755]),\n",
       " 'std_fit_time': array([0.00721679, 0.00657386, 0.01043429, 0.02370032, 0.01949251,\n",
       "        0.00190267, 0.00428869, 0.03514491, 0.0583061 , 0.01431589,\n",
       "        0.00255468, 0.00457981, 0.00994855, 0.0150246 , 0.02280895,\n",
       "        0.00423325, 0.00390005, 0.01121491, 0.11494969, 0.54603463]),\n",
       " 'mean_score_time': array([0.00837669, 0.00708134, 0.016256  , 0.03680141, 0.04827096,\n",
       "        0.00618372, 0.0075309 , 0.02084379, 0.03949387, 0.04896834,\n",
       "        0.00678227, 0.00817764, 0.02009745, 0.0511626 , 0.06512489,\n",
       "        0.0073792 , 0.00987246, 0.02702744, 0.07988532, 0.09445348]),\n",
       " 'std_score_time': array([0.0022834 , 0.00030038, 0.00148236, 0.00257921, 0.00600439,\n",
       "        0.0005984 , 0.00195022, 0.00640884, 0.00391918, 0.00242015,\n",
       "        0.00039928, 0.00074705, 0.00154691, 0.00248583, 0.00256364,\n",
       "        0.00048918, 0.0006983 , 0.00129593, 0.00932861, 0.0280324 ]),\n",
       " 'param_max_depth': masked_array(data=[3, 3, 3, 3, 3, 5, 5, 5, 5, 5, 10, 10, 10, 10, 10, None,\n",
       "                    None, None, None, None],\n",
       "              mask=[False, False, False, False, False, False, False, False,\n",
       "                    False, False, False, False, False, False, False, False,\n",
       "                    False, False, False, False],\n",
       "        fill_value='?',\n",
       "             dtype=object),\n",
       " 'param_n_estimators': masked_array(data=[5, 10, 50, 150, 200, 5, 10, 50, 150, 200, 5, 10, 50,\n",
       "                    150, 200, 5, 10, 50, 150, 200],\n",
       "              mask=[False, False, False, False, False, False, False, False,\n",
       "                    False, False, False, False, False, False, False, False,\n",
       "                    False, False, False, False],\n",
       "        fill_value='?',\n",
       "             dtype=object),\n",
       " 'params': [{'max_depth': 3, 'n_estimators': 5},\n",
       "  {'max_depth': 3, 'n_estimators': 10},\n",
       "  {'max_depth': 3, 'n_estimators': 50},\n",
       "  {'max_depth': 3, 'n_estimators': 150},\n",
       "  {'max_depth': 3, 'n_estimators': 200},\n",
       "  {'max_depth': 5, 'n_estimators': 5},\n",
       "  {'max_depth': 5, 'n_estimators': 10},\n",
       "  {'max_depth': 5, 'n_estimators': 50},\n",
       "  {'max_depth': 5, 'n_estimators': 150},\n",
       "  {'max_depth': 5, 'n_estimators': 200},\n",
       "  {'max_depth': 10, 'n_estimators': 5},\n",
       "  {'max_depth': 10, 'n_estimators': 10},\n",
       "  {'max_depth': 10, 'n_estimators': 50},\n",
       "  {'max_depth': 10, 'n_estimators': 150},\n",
       "  {'max_depth': 10, 'n_estimators': 200},\n",
       "  {'max_depth': None, 'n_estimators': 5},\n",
       "  {'max_depth': None, 'n_estimators': 10},\n",
       "  {'max_depth': None, 'n_estimators': 50},\n",
       "  {'max_depth': None, 'n_estimators': 150},\n",
       "  {'max_depth': None, 'n_estimators': 200}],\n",
       " 'split0_test_score': array([0.55307263, 0.65602554, 0.63288109, 0.63527534, 0.63687151,\n",
       "        0.6113328 , 0.6528332 , 0.65602554, 0.66480447, 0.66081405,\n",
       "        0.64325619, 0.65921788, 0.66560255, 0.66560255, 0.66719872,\n",
       "        0.64405427, 0.64964086, 0.64964086, 0.64964086, 0.64804469]),\n",
       " 'split1_test_score': array([0.60335196, 0.66719872, 0.66161213, 0.65522745, 0.64405427,\n",
       "        0.62889066, 0.63766959, 0.65762171, 0.67996808, 0.66879489,\n",
       "        0.6735834 , 0.6735834 , 0.68475658, 0.68076616, 0.68236233,\n",
       "        0.66560255, 0.66001596, 0.65682362, 0.65682362, 0.65762171]),\n",
       " 'split2_test_score': array([0.59377494, 0.67118915, 0.66719872, 0.67517957, 0.67278532,\n",
       "        0.6009577 , 0.6632083 , 0.67837191, 0.68794892, 0.68794892,\n",
       "        0.68076616, 0.68156425, 0.68236233, 0.69193935, 0.69114126,\n",
       "        0.66719872, 0.67118915, 0.67996808, 0.67597765, 0.67996808]),\n",
       " 'split3_test_score': array([0.57382283, 0.63766959, 0.60335196, 0.6113328 , 0.59776536,\n",
       "        0.5698324 , 0.60734238, 0.64644852, 0.63926576, 0.63527534,\n",
       "        0.63288109, 0.64724661, 0.64006385, 0.64884278, 0.64565044,\n",
       "        0.63288109, 0.63926576, 0.64166002, 0.64804469, 0.64405427]),\n",
       " 'split4_test_score': array([0.5802075 , 0.67597765, 0.65203512, 0.6528332 , 0.64405427,\n",
       "        0.62889066, 0.65123703, 0.65841979, 0.67198723, 0.67118915,\n",
       "        0.66560255, 0.67996808, 0.67597765, 0.67517957, 0.6735834 ,\n",
       "        0.65841979, 0.66560255, 0.66560255, 0.66799681, 0.66560255]),\n",
       " 'split5_test_score': array([0.59856345, 0.6735834 , 0.66001596, 0.65841979, 0.64964086,\n",
       "        0.63288109, 0.66560255, 0.67118915, 0.67517957, 0.67597765,\n",
       "        0.66879489, 0.66719872, 0.67118915, 0.67278532, 0.67118915,\n",
       "        0.65363128, 0.65602554, 0.65602554, 0.65682362, 0.65522745]),\n",
       " 'split6_test_score': array([0.55067837, 0.64485235, 0.62809258, 0.62968875, 0.61851556,\n",
       "        0.62968875, 0.64644852, 0.64724661, 0.65043895, 0.64565044,\n",
       "        0.64565044, 0.64644852, 0.65043895, 0.65123703, 0.65203512,\n",
       "        0.62649641, 0.63128492, 0.62649641, 0.64006385, 0.64006385]),\n",
       " 'split7_test_score': array([0.55227454, 0.67597765, 0.64724661, 0.65522745, 0.64565044,\n",
       "        0.62569832, 0.65363128, 0.66959298, 0.67597765, 0.67278532,\n",
       "        0.65921788, 0.66719872, 0.67677574, 0.67677574, 0.67597765,\n",
       "        0.66001596, 0.65442937, 0.65841979, 0.65363128, 0.65762171]),\n",
       " 'split8_test_score': array([0.5905826 , 0.65203512, 0.62330407, 0.63288109, 0.61771748,\n",
       "        0.62889066, 0.63926576, 0.63048683, 0.65043895, 0.6424581 ,\n",
       "        0.63607342, 0.65522745, 0.65762171, 0.6632083 , 0.66799681,\n",
       "        0.63766959, 0.63846768, 0.63926576, 0.6424581 , 0.64166002]),\n",
       " 'split9_test_score': array([0.52236422, 0.64297125, 0.63338658, 0.62859425, 0.62859425,\n",
       "        0.5870607 , 0.63738019, 0.65335463, 0.65734824, 0.65015974,\n",
       "        0.65654952, 0.65974441, 0.6629393 , 0.66134185, 0.66054313,\n",
       "        0.65175719, 0.65015974, 0.64536741, 0.64456869, 0.64616613]),\n",
       " 'mean_test_score': array([0.5718693 , 0.65974804, 0.64091248, 0.64346597, 0.63556493,\n",
       "        0.61441238, 0.64546188, 0.65687577, 0.66533578, 0.66110536,\n",
       "        0.65623755, 0.6637398 , 0.66677278, 0.66876786, 0.6687678 ,\n",
       "        0.64977269, 0.65160815, 0.651927  , 0.65360292, 0.65360305]),\n",
       " 'std_test_score': array([0.0249884 , 0.01403131, 0.01911691, 0.0179344 , 0.01979308,\n",
       "        0.02063176, 0.01579084, 0.01320064, 0.01472213, 0.0161637 ,\n",
       "        0.0154584 , 0.0117549 , 0.01360409, 0.01265964, 0.01285113,\n",
       "        0.013263  , 0.01192238, 0.01420191, 0.01079019, 0.01173614]),\n",
       " 'rank_test_score': array([20,  7, 17, 16, 18, 19, 15,  8,  4,  6,  9,  5,  3,  1,  2, 14, 13,\n",
       "        12, 11, 10])}"
      ]
     },
     "execution_count": 14,
     "metadata": {},
     "output_type": "execute_result"
    }
   ],
   "source": [
    "results"
   ]
  },
  {
   "cell_type": "code",
   "execution_count": 15,
   "metadata": {},
   "outputs": [
    {
     "data": {
      "image/png": "[encoded data removed]",
      "text/plain": [
       "<Figure size 576x432 with 2 Axes>"
      ]
     },
     "metadata": {
      "needs_background": "light"
     },
     "output_type": "display_data"
    }
   ],
   "source": [
    "mean_accuracy_score = grid_search.cv_results_['mean_test_score']\n",
    "arr = np.array(mean_accuracy_score*100)\n",
    "arr = arr.reshape(5,4)\n",
    "df = pd.DataFrame(arr, index = ['5','10','50','150','200'], columns = ['3','5','10','None'])\n",
    "\n",
    "plt.figure(figsize=(8,6))\n",
    "sns.heatmap(df, annot = True, linewidth = 0.5, cmap = \"YlGnBu\")\n",
    "plt.xlabel(\"Max_depth\")\n",
    "plt.ylabel(\"Number of estimators/Trees\")\n",
    "plt.title(\"Heat map of accuracy v/s different parameters\")\n",
    "\n",
    "\n",
    "# fix for mpl bug that cuts off top/bottom of seaborn viz\n",
    "b, t = plt.ylim() # discover the values for bottom and top\n",
    "b += 0.5 # Add 0.5 to the bottom\n",
    "t -= 0.5 # Subtract 0.5 from the top\n",
    "plt.ylim(b, t) # update the ylim(bottom, top) values\n",
    "plt.show() # ta-da!"
   ]
  },
  {
   "cell_type": "markdown",
   "metadata": {},
   "source": [
    "<p>The heat plot above shows a relationship between number of estimators and maximum depth to obtain tuned parameters. The tuned parameters (max_depth = 10 and number of estimators = 150) shows the maximum accuracy of 67% using GridSearchCV.</p>"
   ]
  },
  {
   "cell_type": "code",
   "execution_count": 16,
   "metadata": {},
   "outputs": [
    {
     "data": {
      "image/png": "[encoded data removed]",
      "text/plain": [
       "<Figure size 432x288 with 1 Axes>"
      ]
     },
     "metadata": {
      "needs_background": "light"
     },
     "output_type": "display_data"
    },
    {
     "name": "stdout",
     "output_type": "stream",
     "text": [
      "The accuracy obtained on test set with best tuned parameters using random forest : 67.6763110307414 % \n"
     ]
    }
   ],
   "source": [
    "rfclassifier_final = RandomForestClassifier(n_estimators = 150, max_depth = 10, random_state = 0)\n",
    "rfclassifier_final.fit(X, y)\n",
    "\n",
    "y_pred = rfclassifier_final.predict(X_test)\n",
    "cm = confusion_matrix(y_test, y_pred)\n",
    "fig, ax = plot_confusion_matrix(conf_mat=cm)\n",
    "plt.show()\n",
    "ac = accuracy_score(y_test, y_pred)\n",
    "print(f\"The accuracy obtained on test set with best tuned parameters using random forest : {ac*100} % \")"
   ]
  },
  {
   "cell_type": "markdown",
   "metadata": {},
   "source": [
    "# GRADIENT BOOSTING CLASSIFICATION ALGORITHM"
   ]
  },
  {
   "cell_type": "markdown",
   "metadata": {},
   "source": [
    "#### TRAINING THE DATASET AND APPLYING GRID_SEARCH_CV METHOD "
   ]
  },
  {
   "cell_type": "code",
   "execution_count": 17,
   "metadata": {},
   "outputs": [
    {
     "name": "stdout",
     "output_type": "stream",
     "text": [
      "Best Accuracy obtained for Gradient Tree Boosting Classifier: 66.88 %\n",
      "Best Parameters found for Gradient Tree Boosting Classifier: {'n_estimators': 50}\n"
     ]
    }
   ],
   "source": [
    "gbclassifier = GradientBoostingClassifier(random_state = 0)\n",
    "gbclassifier.fit(X, y)\n",
    "\n",
    "parameters = [{'n_estimators': [5, 10, 50, 150, 200]}]\n",
    "grid_search = GridSearchCV(estimator = gbclassifier,\n",
    "                           param_grid = parameters,\n",
    "                           scoring = 'accuracy',\n",
    "                           cv = cv,\n",
    "                           n_jobs = -1)\n",
    "grid_search.fit(X, y)\n",
    "best_accuracy = grid_search.best_score_\n",
    "best_parameters = grid_search.best_params_\n",
    "results = grid_search.cv_results_\n",
    "print(\"Best Accuracy obtained for Gradient Tree Boosting Classifier: {:.2f} %\".format(best_accuracy*100))\n",
    "print(\"Best Parameters found for Gradient Tree Boosting Classifier:\", best_parameters)"
   ]
  },
  {
   "cell_type": "markdown",
   "metadata": {},
   "source": [
    "<p>The box above shows GRID_SEARCH_CV method to find the best parameters. This method utilizes the concept of K-fold cross validation to evaluate the model on different parameters. This case involves tuning of maximum depth of trees and number of estimators to be used. The best parameter obtained for this case: number of estimators as 50. The box below shows all the results (for all the folds, mean accuracy, ranked test score among all the splits and computation time for grid search hyperparameter tuning).</p>"
   ]
  },
  {
   "cell_type": "code",
   "execution_count": 18,
   "metadata": {},
   "outputs": [
    {
     "data": {
      "text/plain": [
       "{'mean_fit_time': array([ 0.31246467,  0.60358527,  3.27294087, 10.07745013, 11.61852195]),\n",
       " 'std_fit_time': array([0.00292609, 0.00744738, 0.14670216, 0.22873354, 2.14916163]),\n",
       " 'mean_score_time': array([0.00648236, 0.00688069, 0.01166868, 0.02004659, 0.01994255]),\n",
       " 'std_score_time': array([0.00049915, 0.0002992 , 0.00045716, 0.00053706, 0.00480297]),\n",
       " 'param_n_estimators': masked_array(data=[5, 10, 50, 150, 200],\n",
       "              mask=[False, False, False, False, False],\n",
       "        fill_value='?',\n",
       "             dtype=object),\n",
       " 'params': [{'n_estimators': 5},\n",
       "  {'n_estimators': 10},\n",
       "  {'n_estimators': 50},\n",
       "  {'n_estimators': 150},\n",
       "  {'n_estimators': 200}],\n",
       " 'split0_test_score': array([0.64884278, 0.64884278, 0.66241022, 0.66400638, 0.65921788]),\n",
       " 'split1_test_score': array([0.66879489, 0.66799681, 0.6839585 , 0.68156425, 0.68635275]),\n",
       " 'split2_test_score': array([0.68156425, 0.68156425, 0.68954509, 0.68316042, 0.68794892]),\n",
       " 'split3_test_score': array([0.63527534, 0.63527534, 0.64405427, 0.64884278, 0.64804469]),\n",
       " 'split4_test_score': array([0.6632083 , 0.6632083 , 0.67837191, 0.67837191, 0.67677574]),\n",
       " 'split5_test_score': array([0.67118915, 0.67118915, 0.6839585 , 0.67677574, 0.67597765]),\n",
       " 'split6_test_score': array([0.64485235, 0.64485235, 0.65522745, 0.64724661, 0.65043895]),\n",
       " 'split7_test_score': array([0.65682362, 0.66241022, 0.67677574, 0.66799681, 0.66400638]),\n",
       " 'split8_test_score': array([0.65602554, 0.65602554, 0.64804469, 0.64964086, 0.6528332 ]),\n",
       " 'split9_test_score': array([0.64936102, 0.64936102, 0.66533546, 0.6629393 , 0.66214058]),\n",
       " 'mean_test_score': array([0.65759372, 0.65807257, 0.66876818, 0.6660545 , 0.66637367]),\n",
       " 'std_test_score': array([0.01313116, 0.01314284, 0.01524901, 0.0131791 , 0.01383125]),\n",
       " 'rank_test_score': array([5, 4, 1, 3, 2])}"
      ]
     },
     "execution_count": 18,
     "metadata": {},
     "output_type": "execute_result"
    }
   ],
   "source": [
    "results"
   ]
  },
  {
   "cell_type": "code",
   "execution_count": 19,
   "metadata": {},
   "outputs": [
    {
     "data": {
      "text/plain": [
       "Text(0.5, 1.0, 'plot of validation accuracy v/s number of estimators')"
      ]
     },
     "execution_count": 19,
     "metadata": {},
     "output_type": "execute_result"
    },
    {
     "data": {
      "image/png": "[encoded data removed]",
      "text/plain": [
       "<Figure size 432x288 with 1 Axes>"
      ]
     },
     "metadata": {
      "needs_background": "light"
     },
     "output_type": "display_data"
    }
   ],
   "source": [
    "mean_accuracy_score = grid_search.cv_results_['mean_test_score']\n",
    "estimators = [5, 10, 50, 150, 200]\n",
    "plt.plot(estimators, mean_accuracy_score)\n",
    "plt.xlabel(\"number of estimators\")\n",
    "plt.ylabel(\"Validation accuarcy\")\n",
    "plt.title(\"plot of validation accuracy v/s number of estimators\")"
   ]
  },
  {
   "cell_type": "markdown",
   "metadata": {},
   "source": [
    "<p>The graph shows variation of accuracy with the changing values of max_depth of the tree. The maximum accuracy is observed at 50 estimators.</p>"
   ]
  },
  {
   "cell_type": "code",
   "execution_count": 20,
   "metadata": {},
   "outputs": [
    {
     "data": {
      "image/png": "[encoded data removed]",
      "text/plain": [
       "<Figure size 432x288 with 1 Axes>"
      ]
     },
     "metadata": {
      "needs_background": "light"
     },
     "output_type": "display_data"
    },
    {
     "name": "stdout",
     "output_type": "stream",
     "text": [
      "The accuracy obtained on test set with best tuned parameters using gradient boosting : 66.99819168173599 % \n"
     ]
    }
   ],
   "source": [
    "gbclassifier_final = GradientBoostingClassifier(n_estimators = 50, random_state = 0)\n",
    "gbclassifier_final.fit(X, y)\n",
    "\n",
    "y_pred = gbclassifier_final.predict(X_test)\n",
    "cm = confusion_matrix(y_test, y_pred)\n",
    "fig, ax = plot_confusion_matrix(conf_mat=cm)\n",
    "plt.show()\n",
    "ac = accuracy_score(y_test, y_pred)\n",
    "print(f\"The accuracy obtained on test set with best tuned parameters using gradient boosting : {ac*100} % \")"
   ]
  },
  {
   "cell_type": "markdown",
   "metadata": {},
   "source": [
    "# COMPARISION OF ALL THE ALGORITHM FOR COVID DATASET"
   ]
  },
  {
   "cell_type": "markdown",
   "metadata": {},
   "source": [
    "<table>\n",
    "  <tr>\n",
    "    <th>Classifier</th>\n",
    "    <th>Best Parameters</th>\n",
    "    <th>Average validation Accuracy</th>\n",
    "    <th>Test Accuracy</th>\n",
    "    <th>mean fit time(computation time)</th>\n",
    "  </tr>\n",
    "  <tr>\n",
    "    <td>Decision Tree</td>\n",
    "    <td>Max_depth = 10</td>\n",
    "    <td>66.21%</td>\n",
    "    <td>66.72%</td>\n",
    "    <td>93.8 ms</td>\n",
    "   </tr>\n",
    "<tr>\n",
    "    <td>Random Forest Classifier</td>\n",
    "    <td>Max_depth = 10, n_estimators = 150</td>\n",
    "    <td>66.88%</td>\n",
    "    <td>67.68%</td>\n",
    "    <td>1177 ms</td>\n",
    "   </tr>\n",
    "<tr>\n",
    "    <td>Gradient Boosting Classifier</td>\n",
    "    <td>n_estimators = 50</td>\n",
    "    <td>66.88%</td>\n",
    "    <td>66.99%</td>\n",
    "    <td>7212 ms</td>\n",
    "   </tr>\n",
    "</table>"
   ]
  },
  {
   "cell_type": "markdown",
   "metadata": {},
   "source": [
    "<h2>References</h2>\n",
    "\n",
    "<a>https://scikit-learn.org/stable/modules/generated/sklearn.tree.DecisionTreeClassifier.html</a>\n",
    "\n",
    "<a>https://scikit-learn.org/stable/modules/generated/sklearn.ensemble.RandomForestClassifier.html</a>\n",
    "\n",
    "<a>https://scikit-learn.org/stable/modules/generated/sklearn.ensemble.GradientBoostingClassifier.html</a>\n",
    "\n",
    "<a>https://scikit-learn.org/stable/modules/classes.html#module-sklearn.tree</a>\n",
    "\n",
    "<a>https://scikit-learn.org/stable/index.html</a>\n",
    "\n",
    "<a>https://scikit-learn.org/stable/modules/classes.html</a>\n",
    "\n",
    "<a>https://scikit-learn.org/stable/modules/generated/sklearn.model_selection.GridSearchCV.html</a>\n",
    "\n",
    "<a>https://scikit-learn.org/stable/modules/generated/sklearn.model_selection.KFold.html</a>\n",
    "\n",
    "<a>http://rasbt.github.io/mlxtend/user_guide/evaluate/confusion_matrix/</a>\n",
    "\n",
    "<a>https://stackoverflow.com/questions/58046129/can-someone-give-a-good-math-stats-explanation-as-to-what-the-parameter-var-smoo</a>\n",
    "\n",
    "<a>http://seaborn.pydata.org/</a>\n",
    "\n",
    "<a>https://scikit-learn.org/stable/modules/generated/sklearn.preprocessing.OneHotEncoder.html</a>\n",
    "\n",
    "<a>https://pandas.pydata.org/pandas-docs/stable/reference/api/pandas.DataFrame.drop.html</a>\n",
    "\n",
    "<a>https://scikit-learn.org/stable/modules/generated/sklearn.preprocessing.StandardScaler.html</a>"
   ]
  }
 ],
 "metadata": {
  "kernelspec": {
   "display_name": "Python 3",
   "language": "python",
   "name": "python3"
  },
  "language_info": {
   "codemirror_mode": {
    "name": "ipython",
    "version": 3
   },
   "file_extension": ".py",
   "mimetype": "text/x-python",
   "name": "python",
   "nbconvert_exporter": "python",
   "pygments_lexer": "ipython3",
   "version": "3.7.4"
  }
 },
 "nbformat": 4,
 "nbformat_minor": 2
}
