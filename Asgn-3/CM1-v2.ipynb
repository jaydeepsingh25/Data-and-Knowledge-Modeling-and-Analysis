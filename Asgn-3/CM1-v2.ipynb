{
 "cells": [
  {
   "cell_type": "markdown",
   "metadata": {},
   "source": [
    "<h2><center>ASSIGNMENT 3</center></h2>\n",
    "<h2><center>DEEP ASHISH JARIWALA, JAYDEEP SINGH</center></h2>\n",
    "<h2><center>GROUP - 31</center></h2>\n",
    "<h2><center>Q: CM1</center></h2>"
   ]
  },
  {
   "cell_type": "markdown",
   "metadata": {},
   "source": [
    "### PART 1 : TRAINING OF DATASET USING WORD2VEC"
   ]
  },
  {
   "cell_type": "markdown",
   "metadata": {},
   "source": [
    "### IMPORTING LIBRARIES"
   ]
  },
  {
   "cell_type": "code",
   "execution_count": null,
   "metadata": {},
   "outputs": [],
   "source": [
    "import pandas as pd\n",
    "import seaborn as sns\n",
    "import numpy as np\n",
    "import matplotlib.pyplot as plt\n",
    "sns.set()"
   ]
  },
  {
   "cell_type": "markdown",
   "metadata": {},
   "source": [
    "### IMPORTING THE DATASET"
   ]
  },
  {
   "cell_type": "code",
   "execution_count": 1,
   "metadata": {},
   "outputs": [
    {
     "name": "stderr",
     "output_type": "stream",
     "text": [
      "Using custom data configuration default\n",
      "Reusing dataset climate_fever (C:\\Users\\jayde\\.cache\\huggingface\\datasets\\climate_fever\\default\\1.0.1\\3b846b20d7a37bc0019b0f0dcbde5bf2d0f94f6874f7e4c398c579f332c4262c)\n"
     ]
    },
    {
     "name": "stdout",
     "output_type": "stream",
     "text": [
      "DatasetDict({\n",
      "    test: Dataset({\n",
      "        features: ['claim_id', 'claim', 'claim_label', 'evidences'],\n",
      "        num_rows: 1535\n",
      "    })\n",
      "})\n"
     ]
    }
   ],
   "source": [
    "from datasets import load_dataset\n",
    "dataset = load_dataset('climate_fever')\n",
    "print(dataset)"
   ]
  },
  {
   "cell_type": "code",
   "execution_count": 124,
   "metadata": {},
   "outputs": [
    {
     "data": {
      "text/plain": [
       "{'claim': 'Global warming is driving polar bears toward extinction',\n",
       " 'claim_id': '0',\n",
       " 'claim_label': 0,\n",
       " 'evidences': [{'article': 'Extinction risk from global warming',\n",
       "   'entropy': 0.6931471824645996,\n",
       "   'evidence': '\"Recent Research Shows Human Activity Driving Earth Towards Global Extinction Event\".',\n",
       "   'evidence_id': 'Extinction risk from global warming:170',\n",
       "   'evidence_label': 2,\n",
       "   'votes': ['SUPPORTS', 'NOT_ENOUGH_INFO', None, None, None]},\n",
       "  {'article': 'Global warming',\n",
       "   'entropy': 0.0,\n",
       "   'evidence': 'Environmental impacts include the extinction or relocation of many species as their ecosystems change, most immediately the environments of coral reefs, mountains, and the Arctic.',\n",
       "   'evidence_id': 'Global warming:14',\n",
       "   'evidence_label': 0,\n",
       "   'votes': ['SUPPORTS', 'SUPPORTS', None, None, None]},\n",
       "  {'article': 'Global warming',\n",
       "   'entropy': 0.6931471824645996,\n",
       "   'evidence': 'Rising temperatures push bees to their physiological limits, and could cause the extinction of bee populations.',\n",
       "   'evidence_id': 'Global warming:178',\n",
       "   'evidence_label': 2,\n",
       "   'votes': ['SUPPORTS', 'NOT_ENOUGH_INFO', None, None, None]},\n",
       "  {'article': 'Habitat destruction',\n",
       "   'entropy': 0.0,\n",
       "   'evidence': 'Rising global temperatures, caused by the greenhouse effect, contribute to habitat destruction, endangering various species, such as the polar bear.',\n",
       "   'evidence_id': 'Habitat destruction:61',\n",
       "   'evidence_label': 0,\n",
       "   'votes': ['SUPPORTS', 'SUPPORTS', None, None, None]},\n",
       "  {'article': 'Polar bear',\n",
       "   'entropy': 0.6931471824645996,\n",
       "   'evidence': '\"Bear hunting caught in global warming debate\".',\n",
       "   'evidence_id': 'Polar bear:1328',\n",
       "   'evidence_label': 2,\n",
       "   'votes': ['SUPPORTS', 'NOT_ENOUGH_INFO', None, None, None]}]}"
      ]
     },
     "execution_count": 124,
     "metadata": {},
     "output_type": "execute_result"
    }
   ],
   "source": [
    "dataset['test'][0]"
   ]
  },
  {
   "cell_type": "markdown",
   "metadata": {},
   "source": [
    "Observing the dataset, we see that the dataset is in the form of a dictionary and we will use claim and evidences as features to train our data, since these include sentences which can be used to train our model to generate word embeddings. "
   ]
  },
  {
   "cell_type": "markdown",
   "metadata": {},
   "source": [
    "### CONSTRUCTING CORPUS --- ALL SENTENCES IN THE DATASET"
   ]
  },
  {
   "cell_type": "code",
   "execution_count": 3,
   "metadata": {},
   "outputs": [],
   "source": [
    "## construct corpus - All the sentences in the dataset\n",
    "corpus = []\n",
    "for item in dataset['test']:\n",
    "    corpus.append(item['claim'])\n",
    "    for evidence in item['evidences']:\n",
    "        corpus.append(evidence['evidence'])"
   ]
  },
  {
   "cell_type": "code",
   "execution_count": 4,
   "metadata": {},
   "outputs": [
    {
     "data": {
      "text/plain": [
       "9210"
      ]
     },
     "execution_count": 4,
     "metadata": {},
     "output_type": "execute_result"
    }
   ],
   "source": [
    "len(corpus)"
   ]
  },
  {
   "cell_type": "markdown",
   "metadata": {},
   "source": [
    "### TEXT PREPROCESSING USING NLTK"
   ]
  },
  {
   "cell_type": "markdown",
   "metadata": {},
   "source": [
    "<p>As part of data preprocessing, following tasks are performed:<p>\n",
    "<ul>\n",
    "            <li>Tokenisation of the dataset</li>\n",
    "            <li>Conversion to lowercase</li>\n",
    "            <li>Removal of stopwords</li>\n",
    "            <li>Removing punctuations, numbers and special characters</li>\n",
    "            <li>Lemmatization</li>\n",
    "            <li>Stemming</li>\n",
    "</ul>"
   ]
  },
  {
   "cell_type": "markdown",
   "metadata": {},
   "source": [
    "### Tokenization"
   ]
  },
  {
   "cell_type": "markdown",
   "metadata": {},
   "source": [
    "As part of tokenization, we will split longer strings into texts of smaller tokens. Further processing will be done on the text only after it has been appropriately tokenized. Note that the input to word2vec will be a list of tokenized sentences, so that the context of each word when used in a sentence is preserved."
   ]
  },
  {
   "cell_type": "code",
   "execution_count": 5,
   "metadata": {},
   "outputs": [],
   "source": [
    "from nltk.tokenize import word_tokenize\n",
    "words_corpus = [word_tokenize(sentence) for sentence in corpus]"
   ]
  },
  {
   "cell_type": "markdown",
   "metadata": {},
   "source": [
    "### Conversion to lowercase and removal of stop words"
   ]
  },
  {
   "cell_type": "code",
   "execution_count": 6,
   "metadata": {},
   "outputs": [
    {
     "name": "stderr",
     "output_type": "stream",
     "text": [
      "[nltk_data] Downloading package stopwords to\n",
      "[nltk_data]     C:\\Users\\jayde\\AppData\\Roaming\\nltk_data...\n",
      "[nltk_data]   Package stopwords is already up-to-date!\n"
     ]
    }
   ],
   "source": [
    "import nltk\n",
    "from nltk.corpus import stopwords\n",
    "\n",
    "nltk.download('stopwords')\n",
    "stop_words=set(stopwords.words(\"english\"))\n",
    "\n",
    "fil_list = []\n",
    "for sentence_list in words_corpus:\n",
    "    lower_case_sentence = [word.lower() for word in sentence_list]\n",
    "    fil_list.append(list(filter(lambda x: x not in stop_words,lower_case_sentence)))"
   ]
  },
  {
   "cell_type": "markdown",
   "metadata": {},
   "source": [
    "<ul>\n",
    "<li>Here we are converting all the data to lowercase do that same words are not treated differently because of difference in cases.This is neceassary so that words 'Earth' and 'earth' have same meaning but when not converted to lowercase, these would be treated as two different words in vector space.</li>\n",
    "<li>After that we need to remove stop words, these are the words which don't add any additional value to the document.Here we are using nltk library to download all the stop words in english language and then we filter our corpus so that it does not include these stop words.</li></ul>"
   ]
  },
  {
   "cell_type": "markdown",
   "metadata": {},
   "source": [
    "### Remove Punctuation, numbers and special characters"
   ]
  },
  {
   "cell_type": "code",
   "execution_count": 7,
   "metadata": {},
   "outputs": [],
   "source": [
    "import re\n",
    "final_corpus = []\n",
    "for sentence_list in fil_list:\n",
    "    final_corpus.append(list(filter(lambda x: not bool(re.match('[^a-zA-Z]',x)), sentence_list)))"
   ]
  },
  {
   "cell_type": "markdown",
   "metadata": {},
   "source": [
    "<ul>\n",
    "<li>Numbers are generally converted to words when they contain a very useful information about the data for example in banking/financial data. Our data contains information about climate , where numbers are not adding any additional information to the data. So in this case, we are removing the numbers.</li>\n",
    "<li>All the punctuation, numbers and special characters are removed from the corpus, as these are unnecesarry symbols and do not contain any additional information about the data. All these characters will only create unnecessary vectors in the vector space.</li>\n",
    "</ul>"
   ]
  },
  {
   "cell_type": "markdown",
   "metadata": {},
   "source": [
    "### Lemmatization"
   ]
  },
  {
   "cell_type": "code",
   "execution_count": 8,
   "metadata": {},
   "outputs": [
    {
     "name": "stderr",
     "output_type": "stream",
     "text": [
      "[nltk_data] Downloading package wordnet to\n",
      "[nltk_data]     C:\\Users\\jayde\\AppData\\Roaming\\nltk_data...\n",
      "[nltk_data]   Package wordnet is already up-to-date!\n"
     ]
    }
   ],
   "source": [
    "import nltk\n",
    "nltk.download('wordnet')\n",
    "from nltk.stem import WordNetLemmatizer\n",
    "lemma = WordNetLemmatizer()\n",
    "final_corpus_lem = []\n",
    "for sentence_list in final_corpus:\n",
    "    final_corpus_lem.append(list(filter(lambda x: lemma.lemmatize(x),sentence_list)))"
   ]
  },
  {
   "cell_type": "markdown",
   "metadata": {},
   "source": [
    "Lemmatization reduces the words present in different forms to their base form which is also a meaningful dictionary word. It is necessary to reduce the text ambiguity. Here, we are using WordNet lemmatizer from the nltk library to lemmatize the text. "
   ]
  },
  {
   "cell_type": "markdown",
   "metadata": {},
   "source": [
    "### Stemming"
   ]
  },
  {
   "cell_type": "code",
   "execution_count": 10,
   "metadata": {},
   "outputs": [],
   "source": [
    "from nltk.stem import PorterStemmer\n",
    "stemmer = PorterStemmer()\n",
    "final_corpus_stem = []\n",
    "for sentence_list in final_corpus_lem:\n",
    "    final_corpus_stem.append(list(filter(lambda x: stemmer.stem(x),sentence_list)))"
   ]
  },
  {
   "cell_type": "markdown",
   "metadata": {},
   "source": [
    "Stemming is a text-normalisation technique that removes the prefix and affix from the words. For example words like \"wait\", \"waiting\", \"waited\", \"waits\" are reduced to \"wait\". We are using PorterStemmer in the nltk library to stem the tokens in the corpus. It is necessary as it reduces the converts different variations of the same word to a same form."
   ]
  },
  {
   "cell_type": "markdown",
   "metadata": {},
   "source": [
    "After all the data preprocessing steps are complete, we split our data into train and test sets. An important point to note here is that word2vec needs the context of the words to generate correct embeddings. Thus we keep the context of the words same as in the input data and perform the split on the basis of the sentences in the input data. \n",
    "We split our data such that the train data contains 80% of the sentences and test set contains 20% of the sentences. (The total number of words will be different in both the sets as length of sentences may vary)"
   ]
  },
  {
   "cell_type": "code",
   "execution_count": 11,
   "metadata": {},
   "outputs": [],
   "source": [
    "from sklearn.model_selection import train_test_split\n",
    "train_corpus, test_corpus = train_test_split(final_corpus_stem, test_size = 0.2, random_state = 0)"
   ]
  },
  {
   "cell_type": "markdown",
   "metadata": {},
   "source": [
    "### Generate Embeddings with Word2vec"
   ]
  },
  {
   "cell_type": "markdown",
   "metadata": {},
   "source": [
    "While generating embeddings with Word2vec, we generate with complete dataset(train+test). This is because Word2vec gives error embedding unseen words."
   ]
  },
  {
   "cell_type": "code",
   "execution_count": 12,
   "metadata": {},
   "outputs": [
    {
     "data": {
      "text/html": [
       "<div>\n",
       "<style scoped>\n",
       "    .dataframe tbody tr th:only-of-type {\n",
       "        vertical-align: middle;\n",
       "    }\n",
       "\n",
       "    .dataframe tbody tr th {\n",
       "        vertical-align: top;\n",
       "    }\n",
       "\n",
       "    .dataframe thead th {\n",
       "        text-align: right;\n",
       "    }\n",
       "</style>\n",
       "<table border=\"1\" class=\"dataframe\">\n",
       "  <thead>\n",
       "    <tr style=\"text-align: right;\">\n",
       "      <th></th>\n",
       "      <th>0</th>\n",
       "      <th>1</th>\n",
       "      <th>2</th>\n",
       "      <th>3</th>\n",
       "      <th>4</th>\n",
       "      <th>5</th>\n",
       "      <th>6</th>\n",
       "      <th>7</th>\n",
       "      <th>8</th>\n",
       "      <th>9</th>\n",
       "      <th>...</th>\n",
       "      <th>90</th>\n",
       "      <th>91</th>\n",
       "      <th>92</th>\n",
       "      <th>93</th>\n",
       "      <th>94</th>\n",
       "      <th>95</th>\n",
       "      <th>96</th>\n",
       "      <th>97</th>\n",
       "      <th>98</th>\n",
       "      <th>99</th>\n",
       "    </tr>\n",
       "  </thead>\n",
       "  <tbody>\n",
       "    <tr>\n",
       "      <th>global</th>\n",
       "      <td>-0.568775</td>\n",
       "      <td>-0.338097</td>\n",
       "      <td>0.132942</td>\n",
       "      <td>0.072865</td>\n",
       "      <td>-1.010272</td>\n",
       "      <td>-0.438955</td>\n",
       "      <td>0.125711</td>\n",
       "      <td>-0.026338</td>\n",
       "      <td>-0.376328</td>\n",
       "      <td>0.121798</td>\n",
       "      <td>...</td>\n",
       "      <td>-0.278036</td>\n",
       "      <td>-0.284169</td>\n",
       "      <td>-0.032935</td>\n",
       "      <td>-0.129393</td>\n",
       "      <td>0.976994</td>\n",
       "      <td>-0.987039</td>\n",
       "      <td>-0.110614</td>\n",
       "      <td>-0.673994</td>\n",
       "      <td>-0.365496</td>\n",
       "      <td>0.590665</td>\n",
       "    </tr>\n",
       "    <tr>\n",
       "      <th>warming</th>\n",
       "      <td>-0.335332</td>\n",
       "      <td>-0.212150</td>\n",
       "      <td>0.216409</td>\n",
       "      <td>0.227106</td>\n",
       "      <td>-0.738190</td>\n",
       "      <td>-0.379161</td>\n",
       "      <td>-0.021136</td>\n",
       "      <td>-0.020730</td>\n",
       "      <td>-0.388319</td>\n",
       "      <td>0.179445</td>\n",
       "      <td>...</td>\n",
       "      <td>-0.297352</td>\n",
       "      <td>-0.231463</td>\n",
       "      <td>0.061940</td>\n",
       "      <td>-0.083041</td>\n",
       "      <td>0.863640</td>\n",
       "      <td>-0.985942</td>\n",
       "      <td>-0.032778</td>\n",
       "      <td>-0.441281</td>\n",
       "      <td>-0.439736</td>\n",
       "      <td>0.590540</td>\n",
       "    </tr>\n",
       "    <tr>\n",
       "      <th>driving</th>\n",
       "      <td>-0.116966</td>\n",
       "      <td>-0.216662</td>\n",
       "      <td>0.231355</td>\n",
       "      <td>0.196537</td>\n",
       "      <td>-0.198355</td>\n",
       "      <td>-0.018978</td>\n",
       "      <td>-0.199704</td>\n",
       "      <td>-0.024407</td>\n",
       "      <td>-0.181422</td>\n",
       "      <td>0.003508</td>\n",
       "      <td>...</td>\n",
       "      <td>-0.035713</td>\n",
       "      <td>-0.092800</td>\n",
       "      <td>0.052363</td>\n",
       "      <td>-0.005242</td>\n",
       "      <td>0.212818</td>\n",
       "      <td>-0.294014</td>\n",
       "      <td>-0.030985</td>\n",
       "      <td>-0.056035</td>\n",
       "      <td>-0.187407</td>\n",
       "      <td>0.242479</td>\n",
       "    </tr>\n",
       "    <tr>\n",
       "      <th>polar</th>\n",
       "      <td>-0.226589</td>\n",
       "      <td>-0.507905</td>\n",
       "      <td>0.631613</td>\n",
       "      <td>0.407897</td>\n",
       "      <td>-0.268773</td>\n",
       "      <td>0.120460</td>\n",
       "      <td>-0.667699</td>\n",
       "      <td>-0.139531</td>\n",
       "      <td>-0.380417</td>\n",
       "      <td>-0.112360</td>\n",
       "      <td>...</td>\n",
       "      <td>0.148525</td>\n",
       "      <td>-0.180279</td>\n",
       "      <td>0.014541</td>\n",
       "      <td>-0.102157</td>\n",
       "      <td>0.207456</td>\n",
       "      <td>-0.156635</td>\n",
       "      <td>-0.135676</td>\n",
       "      <td>-0.189670</td>\n",
       "      <td>-0.297332</td>\n",
       "      <td>0.393330</td>\n",
       "    </tr>\n",
       "    <tr>\n",
       "      <th>bears</th>\n",
       "      <td>-0.099315</td>\n",
       "      <td>-0.260742</td>\n",
       "      <td>0.308107</td>\n",
       "      <td>0.220830</td>\n",
       "      <td>-0.196689</td>\n",
       "      <td>0.016254</td>\n",
       "      <td>-0.278153</td>\n",
       "      <td>-0.045373</td>\n",
       "      <td>-0.214067</td>\n",
       "      <td>-0.038681</td>\n",
       "      <td>...</td>\n",
       "      <td>0.033337</td>\n",
       "      <td>-0.103435</td>\n",
       "      <td>0.081663</td>\n",
       "      <td>0.012419</td>\n",
       "      <td>0.184800</td>\n",
       "      <td>-0.251467</td>\n",
       "      <td>-0.049694</td>\n",
       "      <td>-0.082064</td>\n",
       "      <td>-0.188921</td>\n",
       "      <td>0.276853</td>\n",
       "    </tr>\n",
       "  </tbody>\n",
       "</table>\n",
       "<p>5 rows × 100 columns</p>\n",
       "</div>"
      ],
      "text/plain": [
       "               0         1         2         3         4         5         6   \\\n",
       "global  -0.568775 -0.338097  0.132942  0.072865 -1.010272 -0.438955  0.125711   \n",
       "warming -0.335332 -0.212150  0.216409  0.227106 -0.738190 -0.379161 -0.021136   \n",
       "driving -0.116966 -0.216662  0.231355  0.196537 -0.198355 -0.018978 -0.199704   \n",
       "polar   -0.226589 -0.507905  0.631613  0.407897 -0.268773  0.120460 -0.667699   \n",
       "bears   -0.099315 -0.260742  0.308107  0.220830 -0.196689  0.016254 -0.278153   \n",
       "\n",
       "               7         8         9   ...        90        91        92  \\\n",
       "global  -0.026338 -0.376328  0.121798  ... -0.278036 -0.284169 -0.032935   \n",
       "warming -0.020730 -0.388319  0.179445  ... -0.297352 -0.231463  0.061940   \n",
       "driving -0.024407 -0.181422  0.003508  ... -0.035713 -0.092800  0.052363   \n",
       "polar   -0.139531 -0.380417 -0.112360  ...  0.148525 -0.180279  0.014541   \n",
       "bears   -0.045373 -0.214067 -0.038681  ...  0.033337 -0.103435  0.081663   \n",
       "\n",
       "               93        94        95        96        97        98        99  \n",
       "global  -0.129393  0.976994 -0.987039 -0.110614 -0.673994 -0.365496  0.590665  \n",
       "warming -0.083041  0.863640 -0.985942 -0.032778 -0.441281 -0.439736  0.590540  \n",
       "driving -0.005242  0.212818 -0.294014 -0.030985 -0.056035 -0.187407  0.242479  \n",
       "polar   -0.102157  0.207456 -0.156635 -0.135676 -0.189670 -0.297332  0.393330  \n",
       "bears    0.012419  0.184800 -0.251467 -0.049694 -0.082064 -0.188921  0.276853  \n",
       "\n",
       "[5 rows x 100 columns]"
      ]
     },
     "execution_count": 12,
     "metadata": {},
     "output_type": "execute_result"
    }
   ],
   "source": [
    "import pandas as pd\n",
    "from gensim.models import Word2Vec\n",
    "\n",
    "model = Word2Vec(final_corpus_stem, workers = 1) ## default seed = 1\n",
    "complete_embedding = pd.DataFrame(columns = range(0,100))\n",
    "\n",
    "for word in model.wv.vocab:\n",
    "    complete_embedding.loc[word] = model.wv[word]\n",
    "complete_embedding.head()"
   ]
  },
  {
   "cell_type": "markdown",
   "metadata": {},
   "source": [
    "From the embedding generated for complete data, we filter out the embeddings for the words in the test data"
   ]
  },
  {
   "cell_type": "code",
   "execution_count": 13,
   "metadata": {
    "scrolled": true
   },
   "outputs": [
    {
     "data": {
      "text/html": [
       "<div>\n",
       "<style scoped>\n",
       "    .dataframe tbody tr th:only-of-type {\n",
       "        vertical-align: middle;\n",
       "    }\n",
       "\n",
       "    .dataframe tbody tr th {\n",
       "        vertical-align: top;\n",
       "    }\n",
       "\n",
       "    .dataframe thead th {\n",
       "        text-align: right;\n",
       "    }\n",
       "</style>\n",
       "<table border=\"1\" class=\"dataframe\">\n",
       "  <thead>\n",
       "    <tr style=\"text-align: right;\">\n",
       "      <th></th>\n",
       "      <th>0</th>\n",
       "      <th>1</th>\n",
       "      <th>2</th>\n",
       "      <th>3</th>\n",
       "      <th>4</th>\n",
       "      <th>5</th>\n",
       "      <th>6</th>\n",
       "      <th>7</th>\n",
       "      <th>8</th>\n",
       "      <th>9</th>\n",
       "      <th>...</th>\n",
       "      <th>90</th>\n",
       "      <th>91</th>\n",
       "      <th>92</th>\n",
       "      <th>93</th>\n",
       "      <th>94</th>\n",
       "      <th>95</th>\n",
       "      <th>96</th>\n",
       "      <th>97</th>\n",
       "      <th>98</th>\n",
       "      <th>99</th>\n",
       "    </tr>\n",
       "  </thead>\n",
       "  <tbody>\n",
       "    <tr>\n",
       "      <th>global</th>\n",
       "      <td>-0.568775</td>\n",
       "      <td>-0.338097</td>\n",
       "      <td>0.132942</td>\n",
       "      <td>0.072865</td>\n",
       "      <td>-1.010272</td>\n",
       "      <td>-0.438955</td>\n",
       "      <td>0.125711</td>\n",
       "      <td>-0.026338</td>\n",
       "      <td>-0.376328</td>\n",
       "      <td>0.121798</td>\n",
       "      <td>...</td>\n",
       "      <td>-0.278036</td>\n",
       "      <td>-0.284169</td>\n",
       "      <td>-0.032935</td>\n",
       "      <td>-0.129393</td>\n",
       "      <td>0.976994</td>\n",
       "      <td>-0.987039</td>\n",
       "      <td>-0.110614</td>\n",
       "      <td>-0.673994</td>\n",
       "      <td>-0.365496</td>\n",
       "      <td>0.590665</td>\n",
       "    </tr>\n",
       "    <tr>\n",
       "      <th>warming</th>\n",
       "      <td>-0.335332</td>\n",
       "      <td>-0.212150</td>\n",
       "      <td>0.216409</td>\n",
       "      <td>0.227106</td>\n",
       "      <td>-0.738190</td>\n",
       "      <td>-0.379161</td>\n",
       "      <td>-0.021136</td>\n",
       "      <td>-0.020730</td>\n",
       "      <td>-0.388319</td>\n",
       "      <td>0.179445</td>\n",
       "      <td>...</td>\n",
       "      <td>-0.297352</td>\n",
       "      <td>-0.231463</td>\n",
       "      <td>0.061940</td>\n",
       "      <td>-0.083041</td>\n",
       "      <td>0.863640</td>\n",
       "      <td>-0.985942</td>\n",
       "      <td>-0.032778</td>\n",
       "      <td>-0.441281</td>\n",
       "      <td>-0.439736</td>\n",
       "      <td>0.590540</td>\n",
       "    </tr>\n",
       "    <tr>\n",
       "      <th>driving</th>\n",
       "      <td>-0.116966</td>\n",
       "      <td>-0.216662</td>\n",
       "      <td>0.231355</td>\n",
       "      <td>0.196537</td>\n",
       "      <td>-0.198355</td>\n",
       "      <td>-0.018978</td>\n",
       "      <td>-0.199704</td>\n",
       "      <td>-0.024407</td>\n",
       "      <td>-0.181422</td>\n",
       "      <td>0.003508</td>\n",
       "      <td>...</td>\n",
       "      <td>-0.035713</td>\n",
       "      <td>-0.092800</td>\n",
       "      <td>0.052363</td>\n",
       "      <td>-0.005242</td>\n",
       "      <td>0.212818</td>\n",
       "      <td>-0.294014</td>\n",
       "      <td>-0.030985</td>\n",
       "      <td>-0.056035</td>\n",
       "      <td>-0.187407</td>\n",
       "      <td>0.242479</td>\n",
       "    </tr>\n",
       "    <tr>\n",
       "      <th>polar</th>\n",
       "      <td>-0.226589</td>\n",
       "      <td>-0.507905</td>\n",
       "      <td>0.631613</td>\n",
       "      <td>0.407897</td>\n",
       "      <td>-0.268773</td>\n",
       "      <td>0.120460</td>\n",
       "      <td>-0.667699</td>\n",
       "      <td>-0.139531</td>\n",
       "      <td>-0.380417</td>\n",
       "      <td>-0.112360</td>\n",
       "      <td>...</td>\n",
       "      <td>0.148525</td>\n",
       "      <td>-0.180279</td>\n",
       "      <td>0.014541</td>\n",
       "      <td>-0.102157</td>\n",
       "      <td>0.207456</td>\n",
       "      <td>-0.156635</td>\n",
       "      <td>-0.135676</td>\n",
       "      <td>-0.189670</td>\n",
       "      <td>-0.297332</td>\n",
       "      <td>0.393330</td>\n",
       "    </tr>\n",
       "    <tr>\n",
       "      <th>bears</th>\n",
       "      <td>-0.099315</td>\n",
       "      <td>-0.260742</td>\n",
       "      <td>0.308107</td>\n",
       "      <td>0.220830</td>\n",
       "      <td>-0.196689</td>\n",
       "      <td>0.016254</td>\n",
       "      <td>-0.278153</td>\n",
       "      <td>-0.045373</td>\n",
       "      <td>-0.214067</td>\n",
       "      <td>-0.038681</td>\n",
       "      <td>...</td>\n",
       "      <td>0.033337</td>\n",
       "      <td>-0.103435</td>\n",
       "      <td>0.081663</td>\n",
       "      <td>0.012419</td>\n",
       "      <td>0.184800</td>\n",
       "      <td>-0.251467</td>\n",
       "      <td>-0.049694</td>\n",
       "      <td>-0.082064</td>\n",
       "      <td>-0.188921</td>\n",
       "      <td>0.276853</td>\n",
       "    </tr>\n",
       "    <tr>\n",
       "      <th>toward</th>\n",
       "      <td>-0.042308</td>\n",
       "      <td>-0.099569</td>\n",
       "      <td>0.116459</td>\n",
       "      <td>0.080434</td>\n",
       "      <td>-0.078344</td>\n",
       "      <td>0.000337</td>\n",
       "      <td>-0.097192</td>\n",
       "      <td>-0.016703</td>\n",
       "      <td>-0.082869</td>\n",
       "      <td>-0.017358</td>\n",
       "      <td>...</td>\n",
       "      <td>0.002453</td>\n",
       "      <td>-0.039910</td>\n",
       "      <td>0.037905</td>\n",
       "      <td>0.013972</td>\n",
       "      <td>0.077887</td>\n",
       "      <td>-0.106070</td>\n",
       "      <td>-0.019633</td>\n",
       "      <td>-0.033213</td>\n",
       "      <td>-0.072421</td>\n",
       "      <td>0.105517</td>\n",
       "    </tr>\n",
       "    <tr>\n",
       "      <th>extinction</th>\n",
       "      <td>-0.094938</td>\n",
       "      <td>-0.270878</td>\n",
       "      <td>0.346009</td>\n",
       "      <td>0.264100</td>\n",
       "      <td>-0.206536</td>\n",
       "      <td>0.007409</td>\n",
       "      <td>-0.319385</td>\n",
       "      <td>-0.048876</td>\n",
       "      <td>-0.227548</td>\n",
       "      <td>-0.039121</td>\n",
       "      <td>...</td>\n",
       "      <td>0.044710</td>\n",
       "      <td>-0.112000</td>\n",
       "      <td>0.084303</td>\n",
       "      <td>0.011807</td>\n",
       "      <td>0.194081</td>\n",
       "      <td>-0.252089</td>\n",
       "      <td>-0.067507</td>\n",
       "      <td>-0.089317</td>\n",
       "      <td>-0.184438</td>\n",
       "      <td>0.303042</td>\n",
       "    </tr>\n",
       "    <tr>\n",
       "      <th>recent</th>\n",
       "      <td>-0.322345</td>\n",
       "      <td>-0.406870</td>\n",
       "      <td>0.051291</td>\n",
       "      <td>0.280043</td>\n",
       "      <td>-0.924127</td>\n",
       "      <td>-0.350084</td>\n",
       "      <td>0.051588</td>\n",
       "      <td>0.052771</td>\n",
       "      <td>-0.477177</td>\n",
       "      <td>0.055784</td>\n",
       "      <td>...</td>\n",
       "      <td>-0.185432</td>\n",
       "      <td>-0.252891</td>\n",
       "      <td>0.232245</td>\n",
       "      <td>-0.018278</td>\n",
       "      <td>0.791442</td>\n",
       "      <td>-0.856129</td>\n",
       "      <td>-0.044381</td>\n",
       "      <td>-0.739197</td>\n",
       "      <td>-0.040094</td>\n",
       "      <td>0.395927</td>\n",
       "    </tr>\n",
       "    <tr>\n",
       "      <th>research</th>\n",
       "      <td>-0.126556</td>\n",
       "      <td>-0.414750</td>\n",
       "      <td>0.462323</td>\n",
       "      <td>0.396950</td>\n",
       "      <td>-0.342769</td>\n",
       "      <td>-0.106389</td>\n",
       "      <td>-0.449327</td>\n",
       "      <td>-0.011369</td>\n",
       "      <td>-0.289514</td>\n",
       "      <td>0.007646</td>\n",
       "      <td>...</td>\n",
       "      <td>0.059254</td>\n",
       "      <td>-0.182899</td>\n",
       "      <td>0.051876</td>\n",
       "      <td>0.059618</td>\n",
       "      <td>0.246298</td>\n",
       "      <td>-0.404762</td>\n",
       "      <td>-0.143777</td>\n",
       "      <td>-0.120075</td>\n",
       "      <td>-0.200678</td>\n",
       "      <td>0.565876</td>\n",
       "    </tr>\n",
       "    <tr>\n",
       "      <th>shows</th>\n",
       "      <td>-0.109022</td>\n",
       "      <td>-0.251379</td>\n",
       "      <td>0.288301</td>\n",
       "      <td>0.205792</td>\n",
       "      <td>-0.242946</td>\n",
       "      <td>-0.021777</td>\n",
       "      <td>-0.257870</td>\n",
       "      <td>-0.045511</td>\n",
       "      <td>-0.229627</td>\n",
       "      <td>-0.026568</td>\n",
       "      <td>...</td>\n",
       "      <td>0.027285</td>\n",
       "      <td>-0.115776</td>\n",
       "      <td>0.060839</td>\n",
       "      <td>0.005693</td>\n",
       "      <td>0.219309</td>\n",
       "      <td>-0.249392</td>\n",
       "      <td>-0.064602</td>\n",
       "      <td>-0.155392</td>\n",
       "      <td>-0.163109</td>\n",
       "      <td>0.290087</td>\n",
       "    </tr>\n",
       "  </tbody>\n",
       "</table>\n",
       "<p>10 rows × 100 columns</p>\n",
       "</div>"
      ],
      "text/plain": [
       "                  0         1         2         3         4         5   \\\n",
       "global     -0.568775 -0.338097  0.132942  0.072865 -1.010272 -0.438955   \n",
       "warming    -0.335332 -0.212150  0.216409  0.227106 -0.738190 -0.379161   \n",
       "driving    -0.116966 -0.216662  0.231355  0.196537 -0.198355 -0.018978   \n",
       "polar      -0.226589 -0.507905  0.631613  0.407897 -0.268773  0.120460   \n",
       "bears      -0.099315 -0.260742  0.308107  0.220830 -0.196689  0.016254   \n",
       "toward     -0.042308 -0.099569  0.116459  0.080434 -0.078344  0.000337   \n",
       "extinction -0.094938 -0.270878  0.346009  0.264100 -0.206536  0.007409   \n",
       "recent     -0.322345 -0.406870  0.051291  0.280043 -0.924127 -0.350084   \n",
       "research   -0.126556 -0.414750  0.462323  0.396950 -0.342769 -0.106389   \n",
       "shows      -0.109022 -0.251379  0.288301  0.205792 -0.242946 -0.021777   \n",
       "\n",
       "                  6         7         8         9   ...        90        91  \\\n",
       "global      0.125711 -0.026338 -0.376328  0.121798  ... -0.278036 -0.284169   \n",
       "warming    -0.021136 -0.020730 -0.388319  0.179445  ... -0.297352 -0.231463   \n",
       "driving    -0.199704 -0.024407 -0.181422  0.003508  ... -0.035713 -0.092800   \n",
       "polar      -0.667699 -0.139531 -0.380417 -0.112360  ...  0.148525 -0.180279   \n",
       "bears      -0.278153 -0.045373 -0.214067 -0.038681  ...  0.033337 -0.103435   \n",
       "toward     -0.097192 -0.016703 -0.082869 -0.017358  ...  0.002453 -0.039910   \n",
       "extinction -0.319385 -0.048876 -0.227548 -0.039121  ...  0.044710 -0.112000   \n",
       "recent      0.051588  0.052771 -0.477177  0.055784  ... -0.185432 -0.252891   \n",
       "research   -0.449327 -0.011369 -0.289514  0.007646  ...  0.059254 -0.182899   \n",
       "shows      -0.257870 -0.045511 -0.229627 -0.026568  ...  0.027285 -0.115776   \n",
       "\n",
       "                  92        93        94        95        96        97  \\\n",
       "global     -0.032935 -0.129393  0.976994 -0.987039 -0.110614 -0.673994   \n",
       "warming     0.061940 -0.083041  0.863640 -0.985942 -0.032778 -0.441281   \n",
       "driving     0.052363 -0.005242  0.212818 -0.294014 -0.030985 -0.056035   \n",
       "polar       0.014541 -0.102157  0.207456 -0.156635 -0.135676 -0.189670   \n",
       "bears       0.081663  0.012419  0.184800 -0.251467 -0.049694 -0.082064   \n",
       "toward      0.037905  0.013972  0.077887 -0.106070 -0.019633 -0.033213   \n",
       "extinction  0.084303  0.011807  0.194081 -0.252089 -0.067507 -0.089317   \n",
       "recent      0.232245 -0.018278  0.791442 -0.856129 -0.044381 -0.739197   \n",
       "research    0.051876  0.059618  0.246298 -0.404762 -0.143777 -0.120075   \n",
       "shows       0.060839  0.005693  0.219309 -0.249392 -0.064602 -0.155392   \n",
       "\n",
       "                  98        99  \n",
       "global     -0.365496  0.590665  \n",
       "warming    -0.439736  0.590540  \n",
       "driving    -0.187407  0.242479  \n",
       "polar      -0.297332  0.393330  \n",
       "bears      -0.188921  0.276853  \n",
       "toward     -0.072421  0.105517  \n",
       "extinction -0.184438  0.303042  \n",
       "recent     -0.040094  0.395927  \n",
       "research   -0.200678  0.565876  \n",
       "shows      -0.163109  0.290087  \n",
       "\n",
       "[10 rows x 100 columns]"
      ]
     },
     "execution_count": 13,
     "metadata": {},
     "output_type": "execute_result"
    }
   ],
   "source": [
    "test_set_words = [word for sentence in test_corpus for word in sentence]\n",
    "test_embedding = complete_embedding[complete_embedding.index.isin(test_set_words)]\n",
    "test_embedding.head(10)"
   ]
  },
  {
   "cell_type": "markdown",
   "metadata": {},
   "source": [
    "### PART 2: ANALYSE WORD2VEC EMBEDDINGS OF THE TEST DATA USING COSINE SIMILARITY"
   ]
  },
  {
   "cell_type": "markdown",
   "metadata": {},
   "source": [
    "### COSINE SIMILARITY MATRIX REPRESENTATION USING HEAT MAP"
   ]
  },
  {
   "cell_type": "markdown",
   "metadata": {},
   "source": [
    "To find the relation between the words, we select a few words from the test set and compute their cosine similarity matrix."
   ]
  },
  {
   "cell_type": "code",
   "execution_count": 14,
   "metadata": {},
   "outputs": [
    {
     "data": {
      "text/plain": [
       "<AxesSubplot:>"
      ]
     },
     "execution_count": 14,
     "metadata": {},
     "output_type": "execute_result"
    },
    {
     "data": {
      "image/png": "[encoded data removed]",
      "text/plain": [
       "<Figure size 864x576 with 2 Axes>"
      ]
     },
     "metadata": {
      "needs_background": "light"
     },
     "output_type": "display_data"
    }
   ],
   "source": [
    "import seaborn as sns\n",
    "import matplotlib.pyplot as plt\n",
    "words = ['combustion','ice', 'greenhouse', 'warm', 'snow', 'climate', 'hot', 'global', 'consensus', 'environment','carbon']\n",
    "sim_matrix = [];\n",
    "for word1 in words:\n",
    "    sim_list = []\n",
    "    for word2 in words:\n",
    "        sim_list.append(model.wv.similarity(word1, word2))\n",
    "    sim_matrix.append(sim_list)\n",
    "similarity_matrix = pd.DataFrame(sim_matrix, index= words, columns = words)\n",
    "plt.figure(figsize=(12,8))\n",
    "sns.heatmap(similarity_matrix, annot = True)"
   ]
  },
  {
   "cell_type": "markdown",
   "metadata": {},
   "source": [
    "<p>Analysing the similarities between different pair of words, we notice the following observations:</p>\n",
    "<ul>\n",
    "    <li>snow is most similar to ice and words like greenhouse and carbon are most dissimilar to ice.</li>\n",
    "    <li>combustion and carbon are most similar to greenhouse.</li>\n",
    "    <li>hot and warm have very high similarity.</li>\n",
    "    <li>consensus has high similarity with global.</li>\n",
    "    <li>environment is most similar to hot and combustion</li>\n",
    "    </ul>\n",
    "Similar pair of words have cosine similarity near to one and dissimilar words have similarity near to zero. We observe that although our model is correctly able to find out most similar and dissimilar pairs. There are some results that do not represent correct relation between the pairs. For instance:\n",
    "<ul>\n",
    "<li> ice and warm/hot have high similarity </li>\n",
    "<li> snow and environment have high similarity</li>\n",
    "    </ul>\n",
    "\n",
    "The model is not able to capture all the similarities properly because the text corpus is not large enough, and moreveor vector size is also small. To get good results , we need larger training data.\n"
   ]
  },
  {
   "cell_type": "markdown",
   "metadata": {},
   "source": [
    "### ANALYSING WORD SIMILARITY IN VECTOR SPACE"
   ]
  },
  {
   "cell_type": "markdown",
   "metadata": {},
   "source": [
    "To analyse the word similarity in vector space, we will check the words similar to the following set of words:\n",
    "greenhouse, human, arctic, industrial, energy."
   ]
  },
  {
   "cell_type": "code",
   "execution_count": 61,
   "metadata": {},
   "outputs": [
    {
     "data": {
      "image/png": "[encoded data removed]",
      "text/plain": [
       "<Figure size 864x720 with 5 Axes>"
      ]
     },
     "metadata": {
      "needs_background": "light"
     },
     "output_type": "display_data"
    }
   ],
   "source": [
    "sample_words = ['greenhouse', 'human', 'arctic', 'industrial', 'energy']\n",
    "\n",
    "def construct_similarity_plot(word):\n",
    "    x_values = []\n",
    "    y_values = []\n",
    "    similar_words = model.wv.most_similar(word)\n",
    "    for pair in similar_words:\n",
    "        sim_word, cos_similarity = pair\n",
    "        x_values.append(sim_word)\n",
    "        y_values.append(cos_similarity)\n",
    "    plt.tight_layout()\n",
    "    plt.title((f\"Similarity with word {word}\"))\n",
    "    sns.lineplot(x=x_values, y = y_values, palette = 'dark')\n",
    "    \n",
    "fig = plt.figure(figsize=(12,10))\n",
    "subplot_no = 511\n",
    "for word in sample_words:\n",
    "    plt.subplot(subplot_no)\n",
    "    construct_similarity_plot(word)\n",
    "    subplot_no += 1\n"
   ]
  },
  {
   "cell_type": "markdown",
   "metadata": {},
   "source": [
    "Observations:\n",
    "<ul>\n",
    "    <li><b>Greenhouse</b>: Heat-traping is the most similar word to Greenhouse. Other similar words are gases, concentrations and atmosphere.</li>\n",
    "    <li><b>Human</b>: the most similar words are anthropogenic, human-induced and activity</li>\n",
    "    <li><b>Arctic</b>: the most similar words are melting, Greenland, antarctic and glaciers</li>\n",
    "    <li><b>Industrial</b>: the most similar words are revolution, human caused, radiative</li>\n",
    "    <li><b>Energy</b>: the results contain different types of energies like power, solar , renewable and oil</li>\n",
    "</ul>\n",
    "<p>We observe that words in siliar context actually are actually similar as per our model. Also note that there are some dissimlar words in the results as well For example: potent comes in the list of similar words to greenhouse, similarly discernable and naturally come as similar words to industrial.</p"
   ]
  },
  {
   "cell_type": "markdown",
   "metadata": {},
   "source": [
    "Now, we will check if our model correctly identifies the word which does not belong to the group of words"
   ]
  },
  {
   "cell_type": "code",
   "execution_count": 62,
   "metadata": {},
   "outputs": [
    {
     "name": "stderr",
     "output_type": "stream",
     "text": [
      "C:\\Users\\jayde\\anaconda3\\lib\\site-packages\\gensim\\models\\keyedvectors.py:877: FutureWarning: arrays to stack must be passed as a \"sequence\" type such as list or tuple. Support for non-sequence iterables such as generators is deprecated as of NumPy 1.16 and will raise an error in the future.\n",
      "  vectors = vstack(self.word_vec(word, use_norm=True) for word in used_words).astype(REAL)\n"
     ]
    },
    {
     "data": {
      "text/plain": [
       "'food'"
      ]
     },
     "execution_count": 62,
     "metadata": {},
     "output_type": "execute_result"
    }
   ],
   "source": [
    "# food is the odd one out\n",
    "model.wv.doesnt_match(['ice','food', 'snow' , 'greenland'])"
   ]
  },
  {
   "cell_type": "code",
   "execution_count": 63,
   "metadata": {},
   "outputs": [
    {
     "data": {
      "text/plain": [
       "'ocean'"
      ]
     },
     "execution_count": 63,
     "metadata": {},
     "output_type": "execute_result"
    }
   ],
   "source": [
    "# ocean is the odd one out\n",
    "model.wv.doesnt_match(['celsius','fahrenheit', 'temperature' , 'ocean'])"
   ]
  },
  {
   "cell_type": "code",
   "execution_count": 64,
   "metadata": {},
   "outputs": [
    {
     "data": {
      "text/plain": [
       "'machine'"
      ]
     },
     "execution_count": 64,
     "metadata": {},
     "output_type": "execute_result"
    }
   ],
   "source": [
    "# machine is the odd one out\n",
    "model.wv.doesnt_match(['machine','glacier', 'mountain' , 'rainfall'])"
   ]
  },
  {
   "cell_type": "markdown",
   "metadata": {},
   "source": [
    "These results tell us that our word2vec model is somehow reflecting the semantic and syntactic structure of the text corpus. We can obviously have better results by training our model with a larger text corpus. "
   ]
  },
  {
   "cell_type": "markdown",
   "metadata": {},
   "source": [
    "### PART 3: ARITHMETIC RELATIONSHIPS IN VECTOR SPACE"
   ]
  },
  {
   "cell_type": "code",
   "execution_count": 65,
   "metadata": {},
   "outputs": [
    {
     "data": {
      "text/plain": [
       "[('projected', 0.9509601593017578),\n",
       " ('temperature', 0.95045405626297),\n",
       " ('mean', 0.9448695182800293),\n",
       " ('fahrenheit', 0.9413317441940308),\n",
       " ('likely', 0.9380425214767456),\n",
       " ('degrees', 0.9362972378730774),\n",
       " ('scenario', 0.934786856174469),\n",
       " ('judge', 0.9346569180488586),\n",
       " ('long-term', 0.9311227798461914),\n",
       " ('mm/yr', 0.9306313991546631)]"
      ]
     },
     "execution_count": 65,
     "metadata": {},
     "output_type": "execute_result"
    }
   ],
   "source": [
    "## century -> years\n",
    "## celsius -> temperature\n",
    "## century - years + celcius = temperature\n",
    "model.wv.most_similar(positive=['century','celsius'], negative=['years'])"
   ]
  },
  {
   "cell_type": "markdown",
   "metadata": {},
   "source": [
    "The results of the arithmetic operation include temperature and fahrenheit. This holds true as century is a measurement of number of years, and celsius is a measurement of temperature."
   ]
  },
  {
   "cell_type": "code",
   "execution_count": 66,
   "metadata": {},
   "outputs": [
    {
     "data": {
      "text/plain": [
       "[('arctic', 0.9744213819503784),\n",
       " ('melting', 0.9741283655166626),\n",
       " ('greenland', 0.9690354466438293),\n",
       " ('sheet', 0.9636444449424744),\n",
       " ('ice', 0.9608537554740906),\n",
       " ('sea', 0.9539744853973389),\n",
       " ('antarctic', 0.9504441022872925),\n",
       " ('sheets', 0.9501813650131226),\n",
       " ('age', 0.9417047500610352),\n",
       " ('shrinkage', 0.9254814386367798)]"
      ]
     },
     "execution_count": 66,
     "metadata": {},
     "output_type": "execute_result"
    }
   ],
   "source": [
    "## ocean -> water\n",
    "## glaciers -> ice\n",
    "## ocean - water + glaciers = ice\n",
    "model.wv.most_similar(positive=['ocean', 'glaciers'], negative=['water'])"
   ]
  },
  {
   "cell_type": "markdown",
   "metadata": {},
   "source": [
    "The arithmetic operation ocean-water+glaciers gives results similar to ice/arctic/greenland. It correctly describes the analogy as ocean contains water and glaciers contain ice"
   ]
  },
  {
   "cell_type": "code",
   "execution_count": 67,
   "metadata": {},
   "outputs": [
    {
     "data": {
      "text/plain": [
       "[('burning', 0.9822109937667847),\n",
       " ('activity', 0.9748808741569519),\n",
       " ('deforestation', 0.9727069735527039),\n",
       " ('fuels', 0.9712866544723511),\n",
       " ('use', 0.966545820236206),\n",
       " ('activities', 0.9617531299591064),\n",
       " ('primarily', 0.9616127014160156),\n",
       " ('land-use', 0.9608474969863892),\n",
       " ('human', 0.9483944177627563),\n",
       " ('anthropogenic', 0.9466844797134399)]"
      ]
     },
     "execution_count": 67,
     "metadata": {},
     "output_type": "execute_result"
    }
   ],
   "source": [
    "# solar -> energy\n",
    "# fossil -> fuels\n",
    "# solar - energy + fossil = fuels\n",
    "model.wv.most_similar(positive=['solar', 'fossil'], negative=['energy'])"
   ]
  },
  {
   "cell_type": "markdown",
   "metadata": {},
   "source": [
    "The operation solar + fossil - energy gives results similar to fuels/burning/combustion. This holds true as solar is a form of energy and fossils are a form of fuel, and they release energy by combustion/burning. "
   ]
  },
  {
   "cell_type": "code",
   "execution_count": 68,
   "metadata": {},
   "outputs": [
    {
     "data": {
      "text/plain": [
       "[('anthropogenic', 0.9754436612129211),\n",
       " ('agent', 0.973076343536377),\n",
       " ('activity', 0.9670088291168213),\n",
       " ('primarily', 0.9649285078048706),\n",
       " ('activities', 0.9643402099609375),\n",
       " ('use', 0.9621832370758057),\n",
       " ('deforestation', 0.9613704085350037),\n",
       " ('non-renewable', 0.961235761642456),\n",
       " ('human', 0.960053563117981),\n",
       " ('secondarily', 0.9575260281562805)]"
      ]
     },
     "execution_count": 68,
     "metadata": {},
     "output_type": "execute_result"
    }
   ],
   "source": [
    "# hot-> cold\n",
    "# natural -> anthropogenic\n",
    "# hot - cold + natural= anthropogenic\n",
    "model.wv.most_similar(positive=['hot', 'natural'], negative=['cold'])"
   ]
  },
  {
   "cell_type": "markdown",
   "metadata": {},
   "source": [
    "In the operation hot - cold + natural, hot and cold are opposite of each other, thus the result should be opposite of natural. And the topmost result is anthropogenic, which refers to something originating by human activity. "
   ]
  },
  {
   "cell_type": "code",
   "execution_count": 69,
   "metadata": {},
   "outputs": [
    {
     "data": {
      "text/plain": [
       "[('melted', 0.9902676343917847),\n",
       " ('winter', 0.9899835586547852),\n",
       " ('little', 0.989730954170227),\n",
       " ('exceeding', 0.9888798594474792),\n",
       " ('extent', 0.9887081384658813),\n",
       " ('experienced', 0.988316535949707),\n",
       " ('area', 0.9883125424385071),\n",
       " ('partial', 0.9878647327423096),\n",
       " ('covered', 0.9876752495765686),\n",
       " ('eastern', 0.9875850677490234)]"
      ]
     },
     "execution_count": 69,
     "metadata": {},
     "output_type": "execute_result"
    }
   ],
   "source": [
    "# renewable -> non-renewable\n",
    "# decrease -> exceeding\n",
    "# renewable - non-renewable + decrease = exceeding\n",
    "model.wv.most_similar(positive=['renewable', 'decrease'], negative=['non-renewable'])"
   ]
  },
  {
   "cell_type": "markdown",
   "metadata": {},
   "source": [
    "In the operation, renewable - non-renewable + decrease, the words renewable and non-renewable are opposite of each other, thus the result should be opposite of decrease. The result contains exceeding which is kind of synonym for increase.Note that the result also contrains various other words which are not related to the operation, this is because the training dataset is small and the model is not trained properly."
   ]
  },
  {
   "cell_type": "code",
   "execution_count": 26,
   "metadata": {},
   "outputs": [
    {
     "data": {
      "text/plain": [
       "[('atmospheric', 0.9181003570556641),\n",
       " ('concentrations', 0.9162386655807495),\n",
       " ('co', 0.9161651134490967),\n",
       " ('concentration', 0.9154882431030273),\n",
       " ('dioxide', 0.9105706214904785),\n",
       " ('differ', 0.9038774371147156),\n",
       " ('co2', 0.9024748802185059),\n",
       " ('traps', 0.900910496711731),\n",
       " ('carbon', 0.8845914006233215),\n",
       " ('consequent', 0.8545078039169312)]"
      ]
     },
     "execution_count": 26,
     "metadata": {},
     "output_type": "execute_result"
    }
   ],
   "source": [
    "# pre-industrial -> medieval\n",
    "# atmosphere -> atmospheric\n",
    "# pre-industrial - medieval + atmosphere = atmospheric\n",
    "model.wv.most_similar(positive=['pre-industrial', 'atmosphere'], negative=['medieval'])"
   ]
  },
  {
   "cell_type": "markdown",
   "metadata": {},
   "source": [
    "In the opeation pre-industrial - medieval + atmosphere = atmospheric, the words pre-industrial and medieval refer to old-times of the history.And the result contains words similar to atmosphere like atmospheric/co2/methane."
   ]
  },
  {
   "cell_type": "code",
   "execution_count": 114,
   "metadata": {},
   "outputs": [
    {
     "data": {
      "text/plain": [
       "[('pre-industrial', 0.9496656656265259),\n",
       " ('causing', 0.9476884603500366),\n",
       " ('increases', 0.9430721998214722),\n",
       " ('levels', 0.9412436485290527),\n",
       " ('would', 0.9392227530479431),\n",
       " ('absence', 0.9372401237487793),\n",
       " ('ppm', 0.933881938457489),\n",
       " ('higher', 0.9306902885437012),\n",
       " ('increased', 0.929415762424469),\n",
       " ('near-surface', 0.9267055988311768)]"
      ]
     },
     "execution_count": 114,
     "metadata": {},
     "output_type": "execute_result"
    }
   ],
   "source": [
    "# melt -> melted\n",
    "# increase -> increased\n",
    "# melt + increase - melted = increased\n",
    "model.wv.most_similar(positive=['melt', 'increase'], negative=['melted'])"
   ]
  },
  {
   "cell_type": "markdown",
   "metadata": {},
   "source": [
    "In the operation melt + increase - melted, melt and melted are different forms of the same word, and the result contains increases and increased with are different forms of the word increase."
   ]
  },
  {
   "cell_type": "markdown",
   "metadata": {},
   "source": [
    "### PART 4: COMPARISON WITH PRE-TRAINED MODELS"
   ]
  },
  {
   "cell_type": "markdown",
   "metadata": {},
   "source": [
    "<p>Now we load the following pre-trained models and will compare the results of the above arithmetic relationships:</p>\n",
    "    <ul>\n",
    "    <li>word2vec-google-news-300</li>\n",
    "    <li>glove-wiki-gigaword-50</li>\n",
    "    </ul>"
   ]
  },
  {
   "cell_type": "code",
   "execution_count": 116,
   "metadata": {},
   "outputs": [],
   "source": [
    "import gensim.downloader as api\n",
    "\n",
    "# load google word2vec pretrained model\n",
    "model_word2vec_google = api.load('word2vec-google-news-300')\n",
    "\n",
    "# load glove pre-trained model\n",
    "model_glove_wiki = api.load(\"glove-wiki-gigaword-50\")"
   ]
  },
  {
   "cell_type": "markdown",
   "metadata": {},
   "source": [
    "### Arithmetic operation: century - years + celsius"
   ]
  },
  {
   "cell_type": "code",
   "execution_count": 29,
   "metadata": {},
   "outputs": [
    {
     "name": "stdout",
     "output_type": "stream",
     "text": [
      "Results by ClimateFever Word2vec model: \n",
      "[('projected', 0.9579795598983765), ('temperature', 0.9530355334281921), ('mean', 0.9520713090896606), ('judge', 0.9440485239028931), ('fahrenheit', 0.9424047470092773), ('disappeared', 0.9420379400253296), ('mm/yr', 0.9396512508392334), ('degrees', 0.9391785860061646), ('likely', 0.9354960322380066), ('scenario', 0.9346247911453247)]\n",
      "\n",
      "Results by Word2vec model: \n",
      "[('6C_##F', 0.5175663828849792), ('-3_°_C', 0.5078456997871399), ('2C_##F', 0.4964003562927246), ('-7_°_C', 0.4873068928718567), ('Celcius', 0.47457313537597656), ('-2_°_C', 0.47378942370414734), ('##C_##C', 0.47283223271369934), ('##F_##C', 0.4702456295490265), ('Temperatures', 0.46648797392845154), ('##.#F_##.#C', 0.4664062261581421)]\n",
      "\n",
      "Results by Glove model: \n",
      "[('40-degree', 0.7099734544754028), ('19th-20th', 0.6710644960403442), ('15th-16th', 0.6567678451538086), ('18th-19th', 0.6505208015441895), ('17th-18th', 0.6456223130226135), ('38-degree', 0.6449287533760071), ('pre-industrial', 0.6407410502433777), ('c.e', 0.6378505229949951), ('13th-14th', 0.629292368888855), ('16th-17th', 0.6247379779815674)]\n"
     ]
    }
   ],
   "source": [
    "print(\"Results by ClimateFever Word2vec model: \")\n",
    "print(model.wv.most_similar(positive=['century','celsius'], negative=['years']))\n",
    "print(\"\\nResults by Word2vec model: \")\n",
    "print(model_word2vec_google.most_similar(positive=['century','celsius'], negative=['years']))\n",
    "print(\"\\nResults by Glove model: \" ) \n",
    "print(model_glove_wiki.most_similar(positive=['century','celsius'], negative=['years']))"
   ]
  },
  {
   "cell_type": "markdown",
   "metadata": {},
   "source": [
    "### Arithmetic operation: ocean - water + glaciers"
   ]
  },
  {
   "cell_type": "code",
   "execution_count": 30,
   "metadata": {},
   "outputs": [
    {
     "name": "stdout",
     "output_type": "stream",
     "text": [
      "Result by ClimateFever Word2vec model: \n",
      "[('greenland', 0.9721417427062988), ('melting', 0.9718507528305054), ('arctic', 0.9705687761306763), ('sheet', 0.9656683206558228), ('ice', 0.9630230665206909), ('sheets', 0.9585027694702148), ('sea', 0.9571092128753662), ('antarctic', 0.9524481296539307), ('age', 0.9419762492179871), ('level', 0.9302603006362915)]\n",
      "\n",
      "Result by Google Word2vec model: \n",
      "[('oceans', 0.631592869758606), ('glacier', 0.6259989738464355), ('Antarctica', 0.6205669045448303), ('Antarctic_Peninsula', 0.5972974300384521), ('mountain_glaciers', 0.5788881778717041), ('Arctic_Ocean', 0.5779505968093872), ('Antarctic_ice', 0.5631057024002075), ('tidewater_glaciers', 0.5627486109733582), ('oceanic', 0.5619900226593018), ('seamount', 0.5612707138061523)]\n",
      "\n",
      "Result by Glove model: \n",
      "[('antarctica', 0.8383561372756958), ('arctic', 0.7630214691162109), ('glacier', 0.7602767944335938), ('equator', 0.7015934586524963), ('polar', 0.692257285118103), ('antarctic', 0.6766441464424133), ('icebergs', 0.6741795539855957), ('coastlines', 0.666067361831665), ('martian', 0.6624492406845093), ('oceans', 0.6618835926055908)]\n"
     ]
    }
   ],
   "source": [
    "print(\"Result by ClimateFever Word2vec model: \")\n",
    "print(model.wv.most_similar(positive=['ocean','glaciers'], negative=['water']))\n",
    "print(\"\\nResult by Google Word2vec model: \")\n",
    "print(model_word2vec_google.most_similar(positive=['ocean','glaciers'], negative=['water']))\n",
    "print(\"\\nResult by Glove model: \" ) \n",
    "print(model_glove_wiki.most_similar(positive=['ocean','glaciers'], negative=['water']))"
   ]
  },
  {
   "cell_type": "markdown",
   "metadata": {},
   "source": [
    "### Arithmetic operation: solar - energy + fossil"
   ]
  },
  {
   "cell_type": "code",
   "execution_count": 31,
   "metadata": {},
   "outputs": [
    {
     "name": "stdout",
     "output_type": "stream",
     "text": [
      "Result by ClimateFever Word2vec model: \n",
      "[('burning', 0.9820549488067627), ('deforestation', 0.9751210808753967), ('fuels', 0.9715372323989868), ('use', 0.9702720046043396), ('activity', 0.9685322642326355), ('primarily', 0.9612590074539185), ('land-use', 0.9586544632911682), ('activities', 0.9522514343261719), ('broad-scale', 0.9467196464538574), ('combustion', 0.9460698366165161)]\n",
      "\n",
      "Result by Google Word2vec model: \n",
      "[('fossils', 0.6636049747467041), ('dinosaur_fossils', 0.5981628894805908), ('dinosaur_fossil', 0.5779707431793213), ('fossilized_remains', 0.569790244102478), ('fossilized_bones', 0.5572913289070129), ('fossilized', 0.5564877986907959), ('paleontologists', 0.5303204655647278), ('palaeontologists', 0.5300697684288025), ('dinosaur_species', 0.5279468297958374), ('hominid_fossil', 0.5177165269851685)]\n",
      "\n",
      "Result by Glove model: \n",
      "[('dinosaur', 0.7213565111160278), ('fossils', 0.7140518426895142), ('asteroids', 0.7139967679977417), ('fossilized', 0.7077831029891968), ('hominid', 0.6925755739212036), ('blastocysts', 0.6913052797317505), ('footprints', 0.6895116567611694), ('stromatolites', 0.6845834255218506), ('meteorites', 0.6793137788772583), ('exoplanets', 0.6721431016921997)]\n"
     ]
    }
   ],
   "source": [
    "print(\"Result by ClimateFever Word2vec model: \")\n",
    "print(model.wv.most_similar(positive=['solar','fossil'], negative=['energy']))\n",
    "print(\"\\nResult by Google Word2vec model: \")\n",
    "print(model_word2vec_google.most_similar(positive=['solar','fossil'], negative=['energy']))\n",
    "print(\"\\nResult by Glove model: \" ) \n",
    "print(model_glove_wiki.most_similar(positive=['solar','fossil'], negative=['energy']))"
   ]
  },
  {
   "cell_type": "markdown",
   "metadata": {},
   "source": [
    "### Arithmetic operation: hot - cold + natural"
   ]
  },
  {
   "cell_type": "code",
   "execution_count": 32,
   "metadata": {},
   "outputs": [
    {
     "name": "stdout",
     "output_type": "stream",
     "text": [
      "Result by ClimateFever Word2vec model: \n",
      "[('anthropogenic', 0.9714184999465942), ('agent', 0.9645185470581055), ('activity', 0.9621996283531189), ('human', 0.9610843658447266), ('activities', 0.9604661464691162), ('primarily', 0.9563999772071838), ('non-renewable', 0.9527465105056763), ('effect', 0.948796272277832), ('use', 0.9470745921134949), ('long-lasting', 0.9455364942550659)]\n",
      "\n",
      "Result by Google Word2vec model: \n",
      "[('Splittorff_lacked', 0.42180782556533813), ('hottest', 0.40199485421180725), ('shell_salted_pistachios', 0.3966864347457886), ('Mike_Taugher_covers', 0.38580065965652466), ('du_jour', 0.34877434372901917), ('naturally', 0.34808653593063354), ('Natural', 0.3411977291107178), ('nontoxic_dyes', 0.33683377504348755), ('Hot', 0.3360252380371094), ('Peckumn_grows_alfalfa', 0.3356711268424988)]\n",
      "\n",
      "Result by Glove model: \n",
      "[('produces', 0.7412264943122864), ('produce', 0.7294062972068787), ('producing', 0.7230210900306702), ('water', 0.7188149690628052), ('mineral', 0.7144829034805298), ('quality', 0.7094464302062988), ('energy', 0.6966991424560547), ('abundant', 0.6963754892349243), ('variety', 0.6962391138076782), ('product', 0.694709300994873)]\n"
     ]
    }
   ],
   "source": [
    "print(\"Result by ClimateFever Word2vec model: \")\n",
    "print(model.wv.most_similar(positive=['hot','natural'], negative=['cold']))\n",
    "print(\"\\nResult by Google Word2vec model: \")\n",
    "print(model_word2vec_google.most_similar(positive=['hot','natural'], negative=['cold']))\n",
    "print(\"\\nResult by Glove model: \" ) \n",
    "print(model_glove_wiki.most_similar(positive=['hot','natural'], negative=['cold']))"
   ]
  },
  {
   "cell_type": "markdown",
   "metadata": {},
   "source": [
    "### Arithmetic operation: melt - melted - increase"
   ]
  },
  {
   "cell_type": "code",
   "execution_count": 119,
   "metadata": {},
   "outputs": [
    {
     "name": "stdout",
     "output_type": "stream",
     "text": [
      "Result by ClimateFever Word2vec model: \n",
      "[('pre-industrial', 0.9496656656265259), ('causing', 0.9476884603500366), ('increases', 0.9430721998214722), ('levels', 0.9412436485290527), ('would', 0.9392227530479431), ('absence', 0.9372401237487793), ('ppm', 0.933881938457489), ('higher', 0.9306902885437012), ('increased', 0.929415762424469), ('near-surface', 0.9267055988311768)]\n",
      "\n",
      "Result by Google Word2vec model: \n",
      "[('decrease', 0.7130624651908875), ('increases', 0.654790997505188), ('rise', 0.5817747116088867), ('reduction', 0.5771417021751404), ('decreases', 0.5626585483551025), ('toincrease', 0.5614994764328003), ('decline', 0.5536827445030212), ('increasing', 0.5482987761497498), ('increased', 0.5411779880523682), ('reduce', 0.5152913928031921)]\n",
      "\n",
      "Result by Glove model: \n",
      "[('increases', 0.9072279930114746), ('decrease', 0.8527100086212158), ('reduction', 0.8464184999465942), ('reduce', 0.8416398763656616), ('reducing', 0.8335956931114197), ('increasing', 0.8240149021148682), ('increased', 0.8132256865501404), ('rates', 0.8124909996986389), ('growth', 0.8042209148406982), ('rate', 0.8012243509292603)]\n"
     ]
    }
   ],
   "source": [
    "print(\"Result by ClimateFever Word2vec model: \")\n",
    "print(model.wv.most_similar(positive=['melt', 'increase'], negative=['melted']))\n",
    "print(\"\\nResult by Google Word2vec model: \")\n",
    "print(model_word2vec_google.most_similar(positive=['melt', 'increase'], negative=['melted']))\n",
    "print(\"\\nResult by Glove model: \" ) \n",
    "print(model_glove_wiki.most_similar(positive=['melt', 'increase'], negative=['melted']))"
   ]
  },
  {
   "cell_type": "markdown",
   "metadata": {},
   "source": [
    "For the following two arithmetic relations, the results cannot be compared as these words are not present in the pretrained model Google word2vec vocabulary:\n",
    "<ul>\n",
    "<li>model.wv.most_similar(positive=['renewable', 'decrease'], negative=['non-renewable'])</li>\n",
    "<li>model.wv.most_similar(positive=['pre-industrial', 'atmosphere'], negative=['medieval'])</li>\n",
    "<ul>\n"
   ]
  },
  {
   "cell_type": "markdown",
   "metadata": {},
   "source": [
    "# SUMMARY OF THE RESULTS "
   ]
  },
  {
   "cell_type": "markdown",
   "metadata": {},
   "source": [
    "<table>\n",
    " <tr>\n",
    "    <th>Model</th>\n",
    "    <th>Arithmetic Operation</th>\n",
    "    <th>Result</th>\n",
    " </tr>\n",
    "<tr>\n",
    "    <td>Climate Fever Word2Vec</td>\n",
    "    <td>century - years + celsius</td>\n",
    "    <td>projected, temperature, mean, fahrenheit, degrees, likely, scenario</td>\n",
    "</tr>\n",
    "<tr>\n",
    "    <td>Google Word2Vec</td>\n",
    "    <td>century - years + celsius</td>\n",
    "    <td>-3°C,'-7°C, Celcius, Temperatures</td>\n",
    "</tr>\n",
    "<tr>\n",
    "    <td>Glove</td>\n",
    "    <td>century - years + celsius</td>\n",
    "    <td>40-degree, 19th-20th , 15th-16th , 38-degree, pre-industrial, 16th-17th</td>\n",
    "</tr>\n",
    "<tr>\n",
    "    <td> </td>\n",
    "    <td> </td>\n",
    "    <td> </td>\n",
    "</tr>\n",
    "<tr>\n",
    "    <td>Climate Fever Word2Vec</td>\n",
    "    <td>ocean - water + glaciers</td>\n",
    "    <td>greenland, melting, arctic, sheet, ice, sheets, sea, antarctic, age, level</td>\n",
    "</tr>\n",
    "<tr>\n",
    "    <td>Google Word2Vec</td>\n",
    "    <td>ocean - water + glaciers</td>\n",
    "    <td>oceans, glacier, Antarctica, mountain_glaciers,  oceanic, seamount</td>\n",
    "</tr>\n",
    "<tr>\n",
    "    <td>Glove</td>\n",
    "    <td>ocean - water + glaciers</td>\n",
    "    <td>antarctica, arctic, glacier, equator, polar, antarctic, icebergs, coastlines</td>\n",
    "</tr>\n",
    "<tr>\n",
    "    <td> </td>\n",
    "    <td> </td>\n",
    "    <td> </td>\n",
    "</tr>\n",
    "<tr>\n",
    "    <td>Climate Fever Word2Vec</td>\n",
    "    <td>solar - energy + fossil</td>\n",
    "    <td>burning, deforestation, fuels, activity, land-use, activities,combustion</td>\n",
    "</tr>\n",
    "<tr>\n",
    "    <td>Google Word2Vec</td>\n",
    "    <td>solar - energy + fossil</td>\n",
    "    <td>fossils,dinosaur_fossils, fossilized, palaeontologists, dinosaur_species</td>\n",
    "</tr>\n",
    "<tr>\n",
    "    <td>Glove</td>\n",
    "    <td>solar - energy + fossil</td>\n",
    "    <td>dinosaur, fossils, asteroids, fossilized, hominid, footprints, exoplanets</td>\n",
    "</tr>\n",
    "<tr>\n",
    "    <td> </td>\n",
    "    <td> </td>\n",
    "    <td> </td>\n",
    "</tr>\n",
    "<tr>\n",
    "    <td>Climate Fever Word2Vec</td>\n",
    "    <td>hot - cold + natural</td>\n",
    "    <td>anthropogenic, agent, activity, human, activities, use, long-lasting</td>\n",
    "</tr>\n",
    "<tr>\n",
    "    <td>Google Word2Vec</td>\n",
    "    <td>hot - cold + natural</td>\n",
    "    <td>hottest, Mike_Taugher_covers, naturally, Natural, nontoxic_dyes, Hot</td>\n",
    "</tr>\n",
    "<tr>\n",
    "    <td>Glove</td>\n",
    "    <td>hot - cold + natural</td>\n",
    "    <td>produces, producing, water, mineral, quality, energy, abundant, product</td>\n",
    "</tr>\n",
    "<tr>\n",
    "    <td> </td>\n",
    "    <td> </td>\n",
    "    <td> </td>\n",
    "</tr>\n",
    "<tr>\n",
    "    <td>Climate Fever Word2Vec</td>\n",
    "    <td>melt - melted - increase</td>\n",
    "    <td>pre-industrial, increases, levels, would, absence, ppm, higher , increased</td>\n",
    "</tr>\n",
    "<tr>\n",
    "    <td>Google Word2Vec</td>\n",
    "    <td>melt - melted - increase</td>\n",
    "    <td>decrease, increases, rise,increase, decline, increasing , increased</td>\n",
    "</tr>\n",
    "<tr>\n",
    "    <td>Glove</td>\n",
    "    <td>melt - melted - increase</td>\n",
    "    <td>increases, decrease, reduce, reducing, increasing, increased, growth, rate</td>\n",
    "</tr>\n",
    "</table>\n"
   ]
  }
 ],
 "metadata": {
  "kernelspec": {
   "display_name": "Python 3",
   "language": "python",
   "name": "python3"
  },
  "language_info": {
   "codemirror_mode": {
    "name": "ipython",
    "version": 3
   },
   "file_extension": ".py",
   "mimetype": "text/x-python",
   "name": "python",
   "nbconvert_exporter": "python",
   "pygments_lexer": "ipython3",
   "version": "3.7.4"
  }
 },
 "nbformat": 4,
 "nbformat_minor": 4
}
